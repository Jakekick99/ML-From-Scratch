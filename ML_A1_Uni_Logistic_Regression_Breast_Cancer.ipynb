{
  "nbformat": 4,
  "nbformat_minor": 0,
  "metadata": {
    "colab": {
      "provenance": [],
      "collapsed_sections": []
    },
    "kernelspec": {
      "name": "python3",
      "display_name": "Python 3"
    },
    "language_info": {
      "name": "python"
    }
  },
  "cells": [
    {
      "cell_type": "markdown",
      "source": [
        "TLDR of what we are going to do:\n",
        "\n",
        "Step 1 : Importing all the required packages and dataset for the assignment\n",
        "\n",
        "Step 2 : Data preprocessing\n",
        "\n",
        "* Step 2A: Cleaning up the data of missing/NaN values\n",
        "* Step 2B: Cleaning up the data of 0 values\n",
        "* Step 2C: Dealing with categorical values\n",
        "* Step 2D: Dealing with duplicate rows in the data\n",
        "* Step 2E: Z score normalisation and oulier removal\n",
        "* Step 2F: Splitting the data into train and test set\n",
        "\n",
        "Step 3: Logistic regression with one variable (univariate)\n",
        "\n",
        "* Step 3A: Deciding on the input feature/variable\n",
        "* Step 3B: Deciding on the output or predicted variable/feature\n",
        "* Step 3C: Running gradient descent\n",
        "* Step 3D: Graphing the output sigmoid function with boundary\n",
        "* Step 3E: Calculating the F1 Score"
      ],
      "metadata": {
        "id": "ukgJhD1a-zdB"
      }
    },
    {
      "cell_type": "markdown",
      "source": [
        "**Step 1 : Importing all the required packages and dataset for the assignment**\n",
        "\n",
        "We will be using Numpy Library to use the mathematical functions needed. Within Numpy, we will use Numpy.linalg sub package for specific linear algebra functions\n",
        "\n",
        "We will also use Pandas library for easy data manipulation and analysis. It will aid us with importing and manipulating the dataset during the preprocessing step and input it for training the model.\n",
        "\n",
        "Using pandas we will also import the CSV file into the program. Our dataset after opening in a spreadsheet program has been confirmed to have 33 columns and 569 rows."
      ],
      "metadata": {
        "id": "EOC20beK7B7O"
      }
    },
    {
      "cell_type": "code",
      "execution_count": 2,
      "metadata": {
        "id": "SX4sWmgo3RR7"
      },
      "outputs": [],
      "source": [
        "import numpy as np\n",
        "import pandas as pd\n",
        "import matplotlib.pyplot as plot\n",
        "%matplotlib inline\n",
        "\n",
        "cancer = pd.read_csv(\"/content/breast_cancer.csv\")"
      ]
    },
    {
      "cell_type": "markdown",
      "source": [
        "*We can check the imported data by printing the first few(5 to be precise) rows and all columns using the* **head() method in pandas**"
      ],
      "metadata": {
        "id": "htXYFyUH8D1D"
      }
    },
    {
      "cell_type": "code",
      "source": [
        "print(cancer.head())"
      ],
      "metadata": {
        "id": "1Q5C_WiO8P4H",
        "colab": {
          "base_uri": "https://localhost:8080/"
        },
        "outputId": "c42a254a-fae9-47df-85da-50d5c6747fee"
      },
      "execution_count": 3,
      "outputs": [
        {
          "output_type": "stream",
          "name": "stdout",
          "text": [
            "         id diagnosis  radius_mean  texture_mean  perimeter_mean  area_mean  \\\n",
            "0    842302         M        17.99         10.38          122.80     1001.0   \n",
            "1    842517         M        20.57         17.77          132.90     1326.0   \n",
            "2  84300903         M        19.69         21.25          130.00     1203.0   \n",
            "3  84348301         M        11.42         20.38           77.58      386.1   \n",
            "4  84358402         M        20.29         14.34          135.10     1297.0   \n",
            "\n",
            "   smoothness_mean  compactness_mean  concavity_mean  concave points_mean  \\\n",
            "0          0.11840           0.27760          0.3001              0.14710   \n",
            "1          0.08474           0.07864          0.0869              0.07017   \n",
            "2          0.10960           0.15990          0.1974              0.12790   \n",
            "3          0.14250           0.28390          0.2414              0.10520   \n",
            "4          0.10030           0.13280          0.1980              0.10430   \n",
            "\n",
            "   ...  texture_worst  perimeter_worst  area_worst  smoothness_worst  \\\n",
            "0  ...          17.33           184.60      2019.0            0.1622   \n",
            "1  ...          23.41           158.80      1956.0            0.1238   \n",
            "2  ...          25.53           152.50      1709.0            0.1444   \n",
            "3  ...          26.50            98.87       567.7            0.2098   \n",
            "4  ...          16.67           152.20      1575.0            0.1374   \n",
            "\n",
            "   compactness_worst  concavity_worst  concave points_worst  symmetry_worst  \\\n",
            "0             0.6656           0.7119                0.2654          0.4601   \n",
            "1             0.1866           0.2416                0.1860          0.2750   \n",
            "2             0.4245           0.4504                0.2430          0.3613   \n",
            "3             0.8663           0.6869                0.2575          0.6638   \n",
            "4             0.2050           0.4000                0.1625          0.2364   \n",
            "\n",
            "   fractal_dimension_worst  Unnamed: 32  \n",
            "0                  0.11890          NaN  \n",
            "1                  0.08902          NaN  \n",
            "2                  0.08758          NaN  \n",
            "3                  0.17300          NaN  \n",
            "4                  0.07678          NaN  \n",
            "\n",
            "[5 rows x 33 columns]\n"
          ]
        }
      ]
    },
    {
      "cell_type": "markdown",
      "source": [
        "*We can also use* **describe() function to**\n",
        ">Descriptive statistics include those that summarize the central tendency, dispersion and shape of a dataset’s distribution, excluding NaN values.\n",
        "\n",
        "[ https://pandas.pydata.org/docs/reference/api/pandas.DataFrame.describe.html ]"
      ],
      "metadata": {
        "id": "-08BJp3t89qG"
      }
    },
    {
      "cell_type": "code",
      "source": [
        "print(cancer.describe())"
      ],
      "metadata": {
        "id": "QHmnzUs8ehx5",
        "colab": {
          "base_uri": "https://localhost:8080/"
        },
        "outputId": "ff30702b-87cd-4bc9-ed5f-6aa11e627b66"
      },
      "execution_count": 4,
      "outputs": [
        {
          "output_type": "stream",
          "name": "stdout",
          "text": [
            "                 id  radius_mean  texture_mean  perimeter_mean    area_mean  \\\n",
            "count  5.690000e+02   569.000000    569.000000      569.000000   569.000000   \n",
            "mean   3.037183e+07    14.127292     19.289649       91.969033   654.889104   \n",
            "std    1.250206e+08     3.524049      4.301036       24.298981   351.914129   \n",
            "min    8.670000e+03     6.981000      9.710000       43.790000   143.500000   \n",
            "25%    8.692180e+05    11.700000     16.170000       75.170000   420.300000   \n",
            "50%    9.060240e+05    13.370000     18.840000       86.240000   551.100000   \n",
            "75%    8.813129e+06    15.780000     21.800000      104.100000   782.700000   \n",
            "max    9.113205e+08    28.110000     39.280000      188.500000  2501.000000   \n",
            "\n",
            "       smoothness_mean  compactness_mean  concavity_mean  concave points_mean  \\\n",
            "count       569.000000        569.000000      569.000000           569.000000   \n",
            "mean          0.096360          0.104341        0.088799             0.048919   \n",
            "std           0.014064          0.052813        0.079720             0.038803   \n",
            "min           0.052630          0.019380        0.000000             0.000000   \n",
            "25%           0.086370          0.064920        0.029560             0.020310   \n",
            "50%           0.095870          0.092630        0.061540             0.033500   \n",
            "75%           0.105300          0.130400        0.130700             0.074000   \n",
            "max           0.163400          0.345400        0.426800             0.201200   \n",
            "\n",
            "       symmetry_mean  ...  texture_worst  perimeter_worst   area_worst  \\\n",
            "count     569.000000  ...     569.000000       569.000000   569.000000   \n",
            "mean        0.181162  ...      25.677223       107.261213   880.583128   \n",
            "std         0.027414  ...       6.146258        33.602542   569.356993   \n",
            "min         0.106000  ...      12.020000        50.410000   185.200000   \n",
            "25%         0.161900  ...      21.080000        84.110000   515.300000   \n",
            "50%         0.179200  ...      25.410000        97.660000   686.500000   \n",
            "75%         0.195700  ...      29.720000       125.400000  1084.000000   \n",
            "max         0.304000  ...      49.540000       251.200000  4254.000000   \n",
            "\n",
            "       smoothness_worst  compactness_worst  concavity_worst  \\\n",
            "count        569.000000         569.000000       569.000000   \n",
            "mean           0.132369           0.254265         0.272188   \n",
            "std            0.022832           0.157336         0.208624   \n",
            "min            0.071170           0.027290         0.000000   \n",
            "25%            0.116600           0.147200         0.114500   \n",
            "50%            0.131300           0.211900         0.226700   \n",
            "75%            0.146000           0.339100         0.382900   \n",
            "max            0.222600           1.058000         1.252000   \n",
            "\n",
            "       concave points_worst  symmetry_worst  fractal_dimension_worst  \\\n",
            "count            569.000000      569.000000               569.000000   \n",
            "mean               0.114606        0.290076                 0.083946   \n",
            "std                0.065732        0.061867                 0.018061   \n",
            "min                0.000000        0.156500                 0.055040   \n",
            "25%                0.064930        0.250400                 0.071460   \n",
            "50%                0.099930        0.282200                 0.080040   \n",
            "75%                0.161400        0.317900                 0.092080   \n",
            "max                0.291000        0.663800                 0.207500   \n",
            "\n",
            "       Unnamed: 32  \n",
            "count          0.0  \n",
            "mean           NaN  \n",
            "std            NaN  \n",
            "min            NaN  \n",
            "25%            NaN  \n",
            "50%            NaN  \n",
            "75%            NaN  \n",
            "max            NaN  \n",
            "\n",
            "[8 rows x 32 columns]\n"
          ]
        }
      ]
    },
    {
      "cell_type": "markdown",
      "source": [
        "**Step 2 : Data preprocessing**\n",
        "\n",
        "**Step 2A: Cleaning up the data of missing/NaN values**\n",
        "\n",
        "We will start by analysing columns that have lots of Nan values first, then look at rows.\n",
        "\n",
        "If a column has a lot of NaN values then there is little meaningful data that we can extract from it and it serves better to drop that column. To do this we use the use a for loop to cycle through all columns printing how many NaN values there are using the **isna() function and sum() function to add them all up for each column**"
      ],
      "metadata": {
        "id": "vKQ9fXPj-1jA"
      }
    },
    {
      "cell_type": "code",
      "source": [
        "i=1\n",
        "print(\"## | Column Name               | Count\")\n",
        "print(\"--------------------------------------\")\n",
        "for c in cancer.columns:\n",
        "  print(f\"{i:02d}\",c.ljust(25,\" \"),cancer[c].isna().sum(),sep=\" | \")\n",
        "  i+=1\n"
      ],
      "metadata": {
        "id": "KKJLBdkk9tLm",
        "colab": {
          "base_uri": "https://localhost:8080/"
        },
        "outputId": "303af77a-7c4c-43a4-e716-4a176bbbc438"
      },
      "execution_count": 5,
      "outputs": [
        {
          "output_type": "stream",
          "name": "stdout",
          "text": [
            "## | Column Name               | Count\n",
            "--------------------------------------\n",
            "01 | id                        | 0\n",
            "02 | diagnosis                 | 0\n",
            "03 | radius_mean               | 0\n",
            "04 | texture_mean              | 0\n",
            "05 | perimeter_mean            | 0\n",
            "06 | area_mean                 | 0\n",
            "07 | smoothness_mean           | 0\n",
            "08 | compactness_mean          | 0\n",
            "09 | concavity_mean            | 0\n",
            "10 | concave points_mean       | 0\n",
            "11 | symmetry_mean             | 0\n",
            "12 | fractal_dimension_mean    | 0\n",
            "13 | radius_se                 | 0\n",
            "14 | texture_se                | 0\n",
            "15 | perimeter_se              | 0\n",
            "16 | area_se                   | 0\n",
            "17 | smoothness_se             | 0\n",
            "18 | compactness_se            | 0\n",
            "19 | concavity_se              | 0\n",
            "20 | concave points_se         | 0\n",
            "21 | symmetry_se               | 0\n",
            "22 | fractal_dimension_se      | 0\n",
            "23 | radius_worst              | 0\n",
            "24 | texture_worst             | 0\n",
            "25 | perimeter_worst           | 0\n",
            "26 | area_worst                | 0\n",
            "27 | smoothness_worst          | 0\n",
            "28 | compactness_worst         | 0\n",
            "29 | concavity_worst           | 0\n",
            "30 | concave points_worst      | 0\n",
            "31 | symmetry_worst            | 0\n",
            "32 | fractal_dimension_worst   | 0\n",
            "33 | Unnamed: 32               | 569\n"
          ]
        }
      ]
    },
    {
      "cell_type": "markdown",
      "source": [
        "As we can see, there are 33 columns in the dataset of which there is a column called **Unnamed** that contains *569 NaN* values (which is basically an entire column of NaN). The rest of the columns have no Nan values so we don't need to search NaN values anymore in rows.\n",
        "\n",
        "(If there were NaN values in columns then we can replace NaN occurence with 0 and process them in the next step)\n",
        "\n",
        "**So we choose to drop this column from this dataset**\n",
        "\n",
        "*Quick note: I tried to drop Unnamed but turns out Unnamed: 32 is the actual column name. Quick google search revealed that this is due to poor conversion of data from one type to csv, probably due to using some automated way to convert to csv or might also be the column that was used to index the dataset*\n",
        "\n",
        "*Alternatively refer to this - https://stackoverflow.com/questions/20107570/removing-index-column-in-pandas-when-reading-a-csv*"
      ],
      "metadata": {
        "id": "x_EtWPfK69Gj"
      }
    },
    {
      "cell_type": "code",
      "source": [
        "cancer.drop(\"Unnamed: 32\", axis=1, inplace=True) #we do inplace so that the original dataset is overwritten"
      ],
      "metadata": {
        "id": "J-6mgu767fVt"
      },
      "execution_count": 6,
      "outputs": []
    },
    {
      "cell_type": "markdown",
      "source": [
        "  **Step 2B: Cleaning up the data of 0 values**\n",
        "\n",
        "Now that there are no NaN, we find out how many 0s there are in each row and column. The goal is to replace 0 with meaningful value like the mean of the column or dropping a row entirely if it has too many zero's"
      ],
      "metadata": {
        "id": "XsinXLVW9y6t"
      }
    },
    {
      "cell_type": "code",
      "source": [
        "i=1\n",
        "print(\"## | Column Name               | Count\")\n",
        "print(\"--------------------------------------\")\n",
        "for c in cancer.columns:\n",
        "  t=(cancer[c]==0).sum()\n",
        "  print(f\"{i:02d}\",c.ljust(25,\" \"),t,sep=\" | \")\n",
        "  i+=1"
      ],
      "metadata": {
        "id": "o5iYUr6a_ja6",
        "colab": {
          "base_uri": "https://localhost:8080/"
        },
        "outputId": "72cf5eeb-a094-48a9-a51c-2896845ae2b5"
      },
      "execution_count": 7,
      "outputs": [
        {
          "output_type": "stream",
          "name": "stdout",
          "text": [
            "## | Column Name               | Count\n",
            "--------------------------------------\n",
            "01 | id                        | 0\n",
            "02 | diagnosis                 | 0\n",
            "03 | radius_mean               | 0\n",
            "04 | texture_mean              | 0\n",
            "05 | perimeter_mean            | 0\n",
            "06 | area_mean                 | 0\n",
            "07 | smoothness_mean           | 0\n",
            "08 | compactness_mean          | 0\n",
            "09 | concavity_mean            | 13\n",
            "10 | concave points_mean       | 13\n",
            "11 | symmetry_mean             | 0\n",
            "12 | fractal_dimension_mean    | 0\n",
            "13 | radius_se                 | 0\n",
            "14 | texture_se                | 0\n",
            "15 | perimeter_se              | 0\n",
            "16 | area_se                   | 0\n",
            "17 | smoothness_se             | 0\n",
            "18 | compactness_se            | 0\n",
            "19 | concavity_se              | 13\n",
            "20 | concave points_se         | 13\n",
            "21 | symmetry_se               | 0\n",
            "22 | fractal_dimension_se      | 0\n",
            "23 | radius_worst              | 0\n",
            "24 | texture_worst             | 0\n",
            "25 | perimeter_worst           | 0\n",
            "26 | area_worst                | 0\n",
            "27 | smoothness_worst          | 0\n",
            "28 | compactness_worst         | 0\n",
            "29 | concavity_worst           | 13\n",
            "30 | concave points_worst      | 13\n",
            "31 | symmetry_worst            | 0\n",
            "32 | fractal_dimension_worst   | 0\n"
          ]
        }
      ]
    },
    {
      "cell_type": "markdown",
      "source": [
        "We see that there are 4 columns having zero values. Each has 13 rows. So, at most 13*4 = 52 rows have one feature each having 0s in them (affects 9.25% of the dataset) or at least 13 rows have 4 zeros in them (affecting 2.28% of the dataset).\n",
        "\n",
        "*Opening up the CSV in spreadsheet, the intuition that concavity based columns are zero all in the same row. This means only 13 rows are affected. To address this, my thought process is to find the mean value of these columns and fill them. However, this being a classification problem, I will find mean for malignant(M) and benign(B) seperately and then based on what the diagnosis for that row is, fill the appropriate mean*"
      ],
      "metadata": {
        "id": "PmFX3EQxGKlL"
      }
    },
    {
      "cell_type": "code",
      "source": [
        "mean_diagnosis = cancer.groupby(\"diagnosis\")['concavity_mean','concave points_mean','concavity_worst','concave points_worst','concavity_se','concave points_se'].mean()\n",
        "print(mean_diagnosis)"
      ],
      "metadata": {
        "id": "K3dmNwfnB7eK",
        "colab": {
          "base_uri": "https://localhost:8080/"
        },
        "outputId": "b516c4e7-4349-4af5-c782-6ed28d6b5f1f"
      },
      "execution_count": 8,
      "outputs": [
        {
          "output_type": "stream",
          "name": "stdout",
          "text": [
            "           concavity_mean  concave points_mean  concavity_worst  \\\n",
            "diagnosis                                                         \n",
            "B                0.046058             0.025717         0.166238   \n",
            "M                0.160775             0.087990         0.450606   \n",
            "\n",
            "           concave points_worst  concavity_se  concave points_se  \n",
            "diagnosis                                                         \n",
            "B                      0.074444      0.025997           0.009858  \n",
            "M                      0.182237      0.041824           0.015060  \n"
          ]
        },
        {
          "output_type": "stream",
          "name": "stderr",
          "text": [
            "/usr/local/lib/python3.7/dist-packages/ipykernel_launcher.py:1: FutureWarning: Indexing with multiple keys (implicitly converted to a tuple of keys) will be deprecated, use a list instead.\n",
            "  \"\"\"Entry point for launching an IPython kernel.\n"
          ]
        }
      ]
    },
    {
      "cell_type": "markdown",
      "source": [
        "*Here I want to point out that I have switched from using chained indexing to using the **loc()** function to store the mean values to avoid warning*"
      ],
      "metadata": {
        "id": "x-_4UKOfRRKs"
      }
    },
    {
      "cell_type": "code",
      "source": [
        "for i in cancer.index:\n",
        "  if(cancer['concavity_mean'][i]==0):\n",
        "    if(cancer['diagnosis'][i]=='B'):\n",
        "      cancer.loc[i,'concavity_mean']=mean_diagnosis.loc['B','concavity_mean']\n",
        "      cancer.loc[i,'concave points_mean']=mean_diagnosis.loc['B','concave points_mean']\n",
        "      cancer.loc[i,'concavity_worst']=mean_diagnosis.loc['B','concavity_worst']\n",
        "      cancer.loc[i,'concave points_worst']=mean_diagnosis.loc['B','concave points_worst']\n",
        "      cancer.loc[i,'concavity_se']=mean_diagnosis.loc['B','concavity_se']\n",
        "      cancer.loc[i,'concave points_se']=mean_diagnosis.loc['B','concave points_se']\n",
        "    else:\n",
        "      cancer.loc[i,'concavity_mean']=mean_diagnosis.loc['M','concavity_mean']\n",
        "      cancer.loc[i,'concave points_mean']=mean_diagnosis.loc['M','concave points_mean']\n",
        "      cancer.loc[i,'concavity_worst']=mean_diagnosis.loc['M','concavity_worst']\n",
        "      cancer.loc[i,'concave points_worst']=mean_diagnosis.loc['M','concave points_worst']\n",
        "      cancer.loc[i,'concavity_se']=mean_diagnosis.loc['M','concavity_se']\n",
        "      cancer.loc[i,'concave points_se']=mean_diagnosis.loc['M','concave points_se']\n"
      ],
      "metadata": {
        "id": "Yv3B-GulLarD"
      },
      "execution_count": 9,
      "outputs": []
    },
    {
      "cell_type": "markdown",
      "source": [
        "Now if we check for zeros in the dataset we will get the following output, where the dataset doesn't have anymore zeroes present in it."
      ],
      "metadata": {
        "id": "OnLhjV2N99OK"
      }
    },
    {
      "cell_type": "code",
      "source": [
        "i=1\n",
        "zero_column=[]\n",
        "print(\"## | Column Name               | Count\")\n",
        "print(\"--------------------------------------\")\n",
        "for c in cancer.columns:\n",
        "  t=(cancer[c]==0).sum()\n",
        "  if(t==0):\n",
        "    zero_column.append(c)\n",
        "  print(f\"{i:02d}\",c.ljust(25,\" \"),t,sep=\" | \")\n",
        "  i+=1"
      ],
      "metadata": {
        "id": "L8_8UjQ4R4z-",
        "colab": {
          "base_uri": "https://localhost:8080/"
        },
        "outputId": "496649d1-eb2d-41c3-cb6b-be6439547e56"
      },
      "execution_count": 10,
      "outputs": [
        {
          "output_type": "stream",
          "name": "stdout",
          "text": [
            "## | Column Name               | Count\n",
            "--------------------------------------\n",
            "01 | id                        | 0\n",
            "02 | diagnosis                 | 0\n",
            "03 | radius_mean               | 0\n",
            "04 | texture_mean              | 0\n",
            "05 | perimeter_mean            | 0\n",
            "06 | area_mean                 | 0\n",
            "07 | smoothness_mean           | 0\n",
            "08 | compactness_mean          | 0\n",
            "09 | concavity_mean            | 0\n",
            "10 | concave points_mean       | 0\n",
            "11 | symmetry_mean             | 0\n",
            "12 | fractal_dimension_mean    | 0\n",
            "13 | radius_se                 | 0\n",
            "14 | texture_se                | 0\n",
            "15 | perimeter_se              | 0\n",
            "16 | area_se                   | 0\n",
            "17 | smoothness_se             | 0\n",
            "18 | compactness_se            | 0\n",
            "19 | concavity_se              | 0\n",
            "20 | concave points_se         | 0\n",
            "21 | symmetry_se               | 0\n",
            "22 | fractal_dimension_se      | 0\n",
            "23 | radius_worst              | 0\n",
            "24 | texture_worst             | 0\n",
            "25 | perimeter_worst           | 0\n",
            "26 | area_worst                | 0\n",
            "27 | smoothness_worst          | 0\n",
            "28 | compactness_worst         | 0\n",
            "29 | concavity_worst           | 0\n",
            "30 | concave points_worst      | 0\n",
            "31 | symmetry_worst            | 0\n",
            "32 | fractal_dimension_worst   | 0\n"
          ]
        }
      ]
    },
    {
      "cell_type": "markdown",
      "source": [
        "  **Step 2C: Dealing with categorical values**\n",
        "\n",
        "In this step we convert categorical values into numerical values. This is because we need numerical data to train the model. Now this requires some level of understanding of the data but in this case it is a simple boolean transformation.\n",
        "\n",
        "The only feature that has non numeric data is the diagnosis field which has malignant(M) and benign(B). We will convert malignant as 1 and benign as 0.\n",
        "\n",
        "*Note that these are discrete values with no meaning for values in between like 0.5* "
      ],
      "metadata": {
        "id": "N_SPHNLftJpm"
      }
    },
    {
      "cell_type": "code",
      "source": [
        "cancer[\"diagnosis\"].replace({\"B\": 0, \"M\": 1},inplace=True)"
      ],
      "metadata": {
        "id": "_pRYGcTztKyg"
      },
      "execution_count": 11,
      "outputs": []
    },
    {
      "cell_type": "markdown",
      "source": [
        "  **Step 2D: Dealing with duplicate rows in the data**\n",
        "\n",
        "We can check if there are any duplicate data in the dataset using the **duplicated()** method as it\n",
        "\n",
        ">Return boolean Series denoting duplicate rows.\n",
        "\n",
        "[ https://pandas.pydata.org/docs/reference/api/pandas.DataFrame.duplicated.html ]"
      ],
      "metadata": {
        "id": "FwOmK8lTZ2sB"
      }
    },
    {
      "cell_type": "code",
      "source": [
        "print(\"Number of duplicate rows: \"+str(cancer.duplicated().sum()))"
      ],
      "metadata": {
        "id": "xAqPV0h_a8iQ",
        "colab": {
          "base_uri": "https://localhost:8080/"
        },
        "outputId": "e10ba5ac-0d86-4057-b7df-1609181812b8"
      },
      "execution_count": 12,
      "outputs": [
        {
          "output_type": "stream",
          "name": "stdout",
          "text": [
            "Number of duplicate rows: 0\n"
          ]
        }
      ]
    },
    {
      "cell_type": "code",
      "source": [
        "cancer_backup = cancer"
      ],
      "metadata": {
        "id": "qHjo5FBKRCdo"
      },
      "execution_count": 13,
      "outputs": []
    },
    {
      "cell_type": "code",
      "source": [
        "cancer=cancer_backup"
      ],
      "metadata": {
        "id": "yWfi2JmIRFEA"
      },
      "execution_count": 14,
      "outputs": []
    },
    {
      "cell_type": "markdown",
      "source": [
        "From the above output, the dataset doesn't have any duplicate values. This means there aren't any duplicate rows to remove and we can move on to the next step.\n",
        "\n",
        "**Step 2E: Z score normalisation and oulier removal**\n",
        "\n",
        "Since we are going to do univariate logistic regression, we will normalise and remove outlier only for the single input feature. We will do all feature normalisation and outlier removal for multivariate logistic regression.\n",
        "\n",
        "\n",
        "We will first remove outlier values. Refer to the article : https://machinelearningmastery.com/how-to-use-statistics-to-identify-outliers-in-data/\n",
        "\n",
        "\n",
        "Then we will standardise the data using z score standardisation. Refer to the article : https://www.statology.org/z-score-normalization/\n",
        "\n",
        "To remove the outlier, we can use the property of Gaussian distribution to remove the 3rd standard deviation of the data. This means any data that is out of the 99.7% percent is removed."
      ],
      "metadata": {
        "id": "FkNcKW22cCp6"
      }
    },
    {
      "cell_type": "code",
      "source": [
        "lower, upper = cancer['radius_mean'].mean() - cancer['radius_mean'].std(ddof=0)*3, cancer['radius_mean'].mean() + cancer['radius_mean'].std(ddof=0)*3\n",
        "for i in cancer.index:\n",
        "  temp = cancer['radius_mean'][i]\n",
        "  if temp < lower or temp > upper:\n",
        "    cancer.drop([i],inplace=True)\n"
      ],
      "metadata": {
        "id": "on-nKDHNK8Aj"
      },
      "execution_count": 15,
      "outputs": []
    },
    {
      "cell_type": "code",
      "source": [
        "old_mean = cancer['radius_mean'].mean()\n",
        "#print(\"Old Mean:\" ,old_mean)\n",
        "old_std = cancer['radius_mean'].std(ddof=0)\n",
        "#print(\"Old Standard Deviation: \",old_std)\n",
        "cancer['radius_mean'] = (cancer['radius_mean'] - old_mean)/old_std\n",
        "new_mean=cancer['radius_mean'].mean()\n",
        "new_std=cancer['radius_mean'].std(ddof=0)\n",
        "#print(\"New Mean:\" ,new_mean)\n",
        "#print(\"New Standard Deviation: \",new_std)\n"
      ],
      "metadata": {
        "id": "mkepYMGkCHr6"
      },
      "execution_count": 16,
      "outputs": []
    },
    {
      "cell_type": "code",
      "source": [
        "print(cancer.shape[0])\n",
        "cancer.describe()"
      ],
      "metadata": {
        "id": "VhdM7j9FLSD4",
        "colab": {
          "base_uri": "https://localhost:8080/",
          "height": 428
        },
        "outputId": "5e552b89-25ad-4e3f-e3ae-a62104ce3288"
      },
      "execution_count": 17,
      "outputs": [
        {
          "output_type": "stream",
          "name": "stdout",
          "text": [
            "564\n"
          ]
        },
        {
          "output_type": "execute_result",
          "data": {
            "text/plain": [
              "                 id   diagnosis   radius_mean  texture_mean  perimeter_mean  \\\n",
              "count  5.640000e+02  564.000000  5.640000e+02    564.000000      564.000000   \n",
              "mean   2.899128e+07    0.367021 -7.558965e-16     19.267429       91.182943   \n",
              "std    1.199330e+08    0.482420  1.000888e+00      4.301289       22.909229   \n",
              "min    8.670000e+03    0.000000 -2.113900e+00      9.710000       43.790000   \n",
              "25%    8.690778e+05    0.000000 -6.995703e-01     16.167500       75.022500   \n",
              "50%    9.060010e+05    0.000000 -2.180100e-01     18.835000       86.040000   \n",
              "75%    8.825022e+06    1.000000  5.167265e-01     21.735000      103.625000   \n",
              "max    9.113205e+08    1.000000  3.189725e+00     39.280000      166.200000   \n",
              "\n",
              "         area_mean  smoothness_mean  compactness_mean  concavity_mean  \\\n",
              "count   564.000000       564.000000        564.000000      564.000000   \n",
              "mean    640.946631         0.096234          0.103414        0.087738   \n",
              "std     319.713255         0.014058          0.051983        0.075867   \n",
              "min     143.500000         0.052630          0.019380        0.000692   \n",
              "25%     419.525000         0.086038          0.064315        0.031115   \n",
              "50%     546.200000         0.095785          0.092230        0.060070   \n",
              "75%     768.325000         0.104950          0.129825        0.126625   \n",
              "max    1841.000000         0.163400          0.345400        0.426800   \n",
              "\n",
              "       concave points_mean  ...  radius_worst  texture_worst  perimeter_worst  \\\n",
              "count           564.000000  ...    564.000000     564.000000       564.000000   \n",
              "mean              0.048364  ...     16.129023      25.656826       106.259096   \n",
              "std               0.036410  ...      4.610912       6.144142        31.951613   \n",
              "min               0.001852  ...      7.930000      12.020000        50.410000   \n",
              "25%               0.020995  ...     13.002500      21.075000        84.057500   \n",
              "50%               0.033300  ...     14.915000      25.405000        97.585000   \n",
              "75%               0.070468  ...     18.520000      29.547500       124.450000   \n",
              "max               0.201200  ...     32.490000      49.540000       214.000000   \n",
              "\n",
              "        area_worst  smoothness_worst  compactness_worst  concavity_worst  \\\n",
              "count   564.000000        564.000000         564.000000       564.000000   \n",
              "mean    860.437589          0.132288           0.252651         0.273415   \n",
              "std     526.523939          0.022871           0.156318         0.203800   \n",
              "min     185.200000          0.071170           0.027290         0.001845   \n",
              "25%     513.975000          0.116600           0.145925         0.122900   \n",
              "50%     683.950000          0.131250           0.211750         0.225450   \n",
              "75%    1037.250000          0.146000           0.333450         0.379450   \n",
              "max    3432.000000          0.222600           1.058000         1.252000   \n",
              "\n",
              "       concave points_worst  symmetry_worst  fractal_dimension_worst  \n",
              "count            564.000000      564.000000               564.000000  \n",
              "mean               0.115116        0.290309                 0.083974  \n",
              "std                0.062526        0.061774                 0.018073  \n",
              "min                0.008772        0.156500                 0.055040  \n",
              "25%                0.066500        0.250475                 0.071412  \n",
              "50%                0.098855        0.282250                 0.080015  \n",
              "75%                0.161000        0.318025                 0.092082  \n",
              "max                0.291000        0.663800                 0.207500  \n",
              "\n",
              "[8 rows x 32 columns]"
            ],
            "text/html": [
              "\n",
              "  <div id=\"df-6334bc6b-5dac-42e6-891f-9f9992e7097d\">\n",
              "    <div class=\"colab-df-container\">\n",
              "      <div>\n",
              "<style scoped>\n",
              "    .dataframe tbody tr th:only-of-type {\n",
              "        vertical-align: middle;\n",
              "    }\n",
              "\n",
              "    .dataframe tbody tr th {\n",
              "        vertical-align: top;\n",
              "    }\n",
              "\n",
              "    .dataframe thead th {\n",
              "        text-align: right;\n",
              "    }\n",
              "</style>\n",
              "<table border=\"1\" class=\"dataframe\">\n",
              "  <thead>\n",
              "    <tr style=\"text-align: right;\">\n",
              "      <th></th>\n",
              "      <th>id</th>\n",
              "      <th>diagnosis</th>\n",
              "      <th>radius_mean</th>\n",
              "      <th>texture_mean</th>\n",
              "      <th>perimeter_mean</th>\n",
              "      <th>area_mean</th>\n",
              "      <th>smoothness_mean</th>\n",
              "      <th>compactness_mean</th>\n",
              "      <th>concavity_mean</th>\n",
              "      <th>concave points_mean</th>\n",
              "      <th>...</th>\n",
              "      <th>radius_worst</th>\n",
              "      <th>texture_worst</th>\n",
              "      <th>perimeter_worst</th>\n",
              "      <th>area_worst</th>\n",
              "      <th>smoothness_worst</th>\n",
              "      <th>compactness_worst</th>\n",
              "      <th>concavity_worst</th>\n",
              "      <th>concave points_worst</th>\n",
              "      <th>symmetry_worst</th>\n",
              "      <th>fractal_dimension_worst</th>\n",
              "    </tr>\n",
              "  </thead>\n",
              "  <tbody>\n",
              "    <tr>\n",
              "      <th>count</th>\n",
              "      <td>5.640000e+02</td>\n",
              "      <td>564.000000</td>\n",
              "      <td>5.640000e+02</td>\n",
              "      <td>564.000000</td>\n",
              "      <td>564.000000</td>\n",
              "      <td>564.000000</td>\n",
              "      <td>564.000000</td>\n",
              "      <td>564.000000</td>\n",
              "      <td>564.000000</td>\n",
              "      <td>564.000000</td>\n",
              "      <td>...</td>\n",
              "      <td>564.000000</td>\n",
              "      <td>564.000000</td>\n",
              "      <td>564.000000</td>\n",
              "      <td>564.000000</td>\n",
              "      <td>564.000000</td>\n",
              "      <td>564.000000</td>\n",
              "      <td>564.000000</td>\n",
              "      <td>564.000000</td>\n",
              "      <td>564.000000</td>\n",
              "      <td>564.000000</td>\n",
              "    </tr>\n",
              "    <tr>\n",
              "      <th>mean</th>\n",
              "      <td>2.899128e+07</td>\n",
              "      <td>0.367021</td>\n",
              "      <td>-7.558965e-16</td>\n",
              "      <td>19.267429</td>\n",
              "      <td>91.182943</td>\n",
              "      <td>640.946631</td>\n",
              "      <td>0.096234</td>\n",
              "      <td>0.103414</td>\n",
              "      <td>0.087738</td>\n",
              "      <td>0.048364</td>\n",
              "      <td>...</td>\n",
              "      <td>16.129023</td>\n",
              "      <td>25.656826</td>\n",
              "      <td>106.259096</td>\n",
              "      <td>860.437589</td>\n",
              "      <td>0.132288</td>\n",
              "      <td>0.252651</td>\n",
              "      <td>0.273415</td>\n",
              "      <td>0.115116</td>\n",
              "      <td>0.290309</td>\n",
              "      <td>0.083974</td>\n",
              "    </tr>\n",
              "    <tr>\n",
              "      <th>std</th>\n",
              "      <td>1.199330e+08</td>\n",
              "      <td>0.482420</td>\n",
              "      <td>1.000888e+00</td>\n",
              "      <td>4.301289</td>\n",
              "      <td>22.909229</td>\n",
              "      <td>319.713255</td>\n",
              "      <td>0.014058</td>\n",
              "      <td>0.051983</td>\n",
              "      <td>0.075867</td>\n",
              "      <td>0.036410</td>\n",
              "      <td>...</td>\n",
              "      <td>4.610912</td>\n",
              "      <td>6.144142</td>\n",
              "      <td>31.951613</td>\n",
              "      <td>526.523939</td>\n",
              "      <td>0.022871</td>\n",
              "      <td>0.156318</td>\n",
              "      <td>0.203800</td>\n",
              "      <td>0.062526</td>\n",
              "      <td>0.061774</td>\n",
              "      <td>0.018073</td>\n",
              "    </tr>\n",
              "    <tr>\n",
              "      <th>min</th>\n",
              "      <td>8.670000e+03</td>\n",
              "      <td>0.000000</td>\n",
              "      <td>-2.113900e+00</td>\n",
              "      <td>9.710000</td>\n",
              "      <td>43.790000</td>\n",
              "      <td>143.500000</td>\n",
              "      <td>0.052630</td>\n",
              "      <td>0.019380</td>\n",
              "      <td>0.000692</td>\n",
              "      <td>0.001852</td>\n",
              "      <td>...</td>\n",
              "      <td>7.930000</td>\n",
              "      <td>12.020000</td>\n",
              "      <td>50.410000</td>\n",
              "      <td>185.200000</td>\n",
              "      <td>0.071170</td>\n",
              "      <td>0.027290</td>\n",
              "      <td>0.001845</td>\n",
              "      <td>0.008772</td>\n",
              "      <td>0.156500</td>\n",
              "      <td>0.055040</td>\n",
              "    </tr>\n",
              "    <tr>\n",
              "      <th>25%</th>\n",
              "      <td>8.690778e+05</td>\n",
              "      <td>0.000000</td>\n",
              "      <td>-6.995703e-01</td>\n",
              "      <td>16.167500</td>\n",
              "      <td>75.022500</td>\n",
              "      <td>419.525000</td>\n",
              "      <td>0.086038</td>\n",
              "      <td>0.064315</td>\n",
              "      <td>0.031115</td>\n",
              "      <td>0.020995</td>\n",
              "      <td>...</td>\n",
              "      <td>13.002500</td>\n",
              "      <td>21.075000</td>\n",
              "      <td>84.057500</td>\n",
              "      <td>513.975000</td>\n",
              "      <td>0.116600</td>\n",
              "      <td>0.145925</td>\n",
              "      <td>0.122900</td>\n",
              "      <td>0.066500</td>\n",
              "      <td>0.250475</td>\n",
              "      <td>0.071412</td>\n",
              "    </tr>\n",
              "    <tr>\n",
              "      <th>50%</th>\n",
              "      <td>9.060010e+05</td>\n",
              "      <td>0.000000</td>\n",
              "      <td>-2.180100e-01</td>\n",
              "      <td>18.835000</td>\n",
              "      <td>86.040000</td>\n",
              "      <td>546.200000</td>\n",
              "      <td>0.095785</td>\n",
              "      <td>0.092230</td>\n",
              "      <td>0.060070</td>\n",
              "      <td>0.033300</td>\n",
              "      <td>...</td>\n",
              "      <td>14.915000</td>\n",
              "      <td>25.405000</td>\n",
              "      <td>97.585000</td>\n",
              "      <td>683.950000</td>\n",
              "      <td>0.131250</td>\n",
              "      <td>0.211750</td>\n",
              "      <td>0.225450</td>\n",
              "      <td>0.098855</td>\n",
              "      <td>0.282250</td>\n",
              "      <td>0.080015</td>\n",
              "    </tr>\n",
              "    <tr>\n",
              "      <th>75%</th>\n",
              "      <td>8.825022e+06</td>\n",
              "      <td>1.000000</td>\n",
              "      <td>5.167265e-01</td>\n",
              "      <td>21.735000</td>\n",
              "      <td>103.625000</td>\n",
              "      <td>768.325000</td>\n",
              "      <td>0.104950</td>\n",
              "      <td>0.129825</td>\n",
              "      <td>0.126625</td>\n",
              "      <td>0.070468</td>\n",
              "      <td>...</td>\n",
              "      <td>18.520000</td>\n",
              "      <td>29.547500</td>\n",
              "      <td>124.450000</td>\n",
              "      <td>1037.250000</td>\n",
              "      <td>0.146000</td>\n",
              "      <td>0.333450</td>\n",
              "      <td>0.379450</td>\n",
              "      <td>0.161000</td>\n",
              "      <td>0.318025</td>\n",
              "      <td>0.092082</td>\n",
              "    </tr>\n",
              "    <tr>\n",
              "      <th>max</th>\n",
              "      <td>9.113205e+08</td>\n",
              "      <td>1.000000</td>\n",
              "      <td>3.189725e+00</td>\n",
              "      <td>39.280000</td>\n",
              "      <td>166.200000</td>\n",
              "      <td>1841.000000</td>\n",
              "      <td>0.163400</td>\n",
              "      <td>0.345400</td>\n",
              "      <td>0.426800</td>\n",
              "      <td>0.201200</td>\n",
              "      <td>...</td>\n",
              "      <td>32.490000</td>\n",
              "      <td>49.540000</td>\n",
              "      <td>214.000000</td>\n",
              "      <td>3432.000000</td>\n",
              "      <td>0.222600</td>\n",
              "      <td>1.058000</td>\n",
              "      <td>1.252000</td>\n",
              "      <td>0.291000</td>\n",
              "      <td>0.663800</td>\n",
              "      <td>0.207500</td>\n",
              "    </tr>\n",
              "  </tbody>\n",
              "</table>\n",
              "<p>8 rows × 32 columns</p>\n",
              "</div>\n",
              "      <button class=\"colab-df-convert\" onclick=\"convertToInteractive('df-6334bc6b-5dac-42e6-891f-9f9992e7097d')\"\n",
              "              title=\"Convert this dataframe to an interactive table.\"\n",
              "              style=\"display:none;\">\n",
              "        \n",
              "  <svg xmlns=\"http://www.w3.org/2000/svg\" height=\"24px\"viewBox=\"0 0 24 24\"\n",
              "       width=\"24px\">\n",
              "    <path d=\"M0 0h24v24H0V0z\" fill=\"none\"/>\n",
              "    <path d=\"M18.56 5.44l.94 2.06.94-2.06 2.06-.94-2.06-.94-.94-2.06-.94 2.06-2.06.94zm-11 1L8.5 8.5l.94-2.06 2.06-.94-2.06-.94L8.5 2.5l-.94 2.06-2.06.94zm10 10l.94 2.06.94-2.06 2.06-.94-2.06-.94-.94-2.06-.94 2.06-2.06.94z\"/><path d=\"M17.41 7.96l-1.37-1.37c-.4-.4-.92-.59-1.43-.59-.52 0-1.04.2-1.43.59L10.3 9.45l-7.72 7.72c-.78.78-.78 2.05 0 2.83L4 21.41c.39.39.9.59 1.41.59.51 0 1.02-.2 1.41-.59l7.78-7.78 2.81-2.81c.8-.78.8-2.07 0-2.86zM5.41 20L4 18.59l7.72-7.72 1.47 1.35L5.41 20z\"/>\n",
              "  </svg>\n",
              "      </button>\n",
              "      \n",
              "  <style>\n",
              "    .colab-df-container {\n",
              "      display:flex;\n",
              "      flex-wrap:wrap;\n",
              "      gap: 12px;\n",
              "    }\n",
              "\n",
              "    .colab-df-convert {\n",
              "      background-color: #E8F0FE;\n",
              "      border: none;\n",
              "      border-radius: 50%;\n",
              "      cursor: pointer;\n",
              "      display: none;\n",
              "      fill: #1967D2;\n",
              "      height: 32px;\n",
              "      padding: 0 0 0 0;\n",
              "      width: 32px;\n",
              "    }\n",
              "\n",
              "    .colab-df-convert:hover {\n",
              "      background-color: #E2EBFA;\n",
              "      box-shadow: 0px 1px 2px rgba(60, 64, 67, 0.3), 0px 1px 3px 1px rgba(60, 64, 67, 0.15);\n",
              "      fill: #174EA6;\n",
              "    }\n",
              "\n",
              "    [theme=dark] .colab-df-convert {\n",
              "      background-color: #3B4455;\n",
              "      fill: #D2E3FC;\n",
              "    }\n",
              "\n",
              "    [theme=dark] .colab-df-convert:hover {\n",
              "      background-color: #434B5C;\n",
              "      box-shadow: 0px 1px 3px 1px rgba(0, 0, 0, 0.15);\n",
              "      filter: drop-shadow(0px 1px 2px rgba(0, 0, 0, 0.3));\n",
              "      fill: #FFFFFF;\n",
              "    }\n",
              "  </style>\n",
              "\n",
              "      <script>\n",
              "        const buttonEl =\n",
              "          document.querySelector('#df-6334bc6b-5dac-42e6-891f-9f9992e7097d button.colab-df-convert');\n",
              "        buttonEl.style.display =\n",
              "          google.colab.kernel.accessAllowed ? 'block' : 'none';\n",
              "\n",
              "        async function convertToInteractive(key) {\n",
              "          const element = document.querySelector('#df-6334bc6b-5dac-42e6-891f-9f9992e7097d');\n",
              "          const dataTable =\n",
              "            await google.colab.kernel.invokeFunction('convertToInteractive',\n",
              "                                                     [key], {});\n",
              "          if (!dataTable) return;\n",
              "\n",
              "          const docLinkHtml = 'Like what you see? Visit the ' +\n",
              "            '<a target=\"_blank\" href=https://colab.research.google.com/notebooks/data_table.ipynb>data table notebook</a>'\n",
              "            + ' to learn more about interactive tables.';\n",
              "          element.innerHTML = '';\n",
              "          dataTable['output_type'] = 'display_data';\n",
              "          await google.colab.output.renderOutput(dataTable, element);\n",
              "          const docLink = document.createElement('div');\n",
              "          docLink.innerHTML = docLinkHtml;\n",
              "          element.appendChild(docLink);\n",
              "        }\n",
              "      </script>\n",
              "    </div>\n",
              "  </div>\n",
              "  "
            ]
          },
          "metadata": {},
          "execution_count": 17
        }
      ]
    },
    {
      "cell_type": "markdown",
      "source": [
        "As we can see from the new and old, we have successfully normalised the data. The mean is now ~0 and standard deviation is ~1. Also, the number of rows has now become 564 from 569.\n",
        "\n",
        "But then comes the question of why we did the following and in this specific order:\n",
        "\n",
        "\n",
        "1.   We filled the missing data with the mean before removing outlier\n",
        "2.   We removed outliers\n",
        "3.   After removing outliers we then stadardised the data\n",
        "\n",
        "The reason we fill the missing data before removing outlier is to maintain the integrity of the dataset. We should not fill a skewed or updated mean to the missing data. Rather, we should try and maintain the randomness of the dataset.\n",
        "\n",
        "But once we have preprocessed the missing values, then we need to remove the outliers to prevent it messing with our model."
      ],
      "metadata": {
        "id": "XG3c7BAOE1VW"
      }
    },
    {
      "cell_type": "markdown",
      "source": [
        "  **Step 2F: Splitting the data into train and test set**\n",
        "\n",
        "Finally, once the data has been preprocessed, we need to split in into training and test set. This is so that we can train the model on one set and test it against the other so that we can measure the accuracy of our model.\n",
        "\n",
        "I have chosen to take 80% of the data (455 rows) to train the model while the rest 20% of the data (114 rows) will be used to test the model's accuracy. This concludes the preprocessing steps."
      ],
      "metadata": {
        "id": "cP0kI4IrCF-f"
      }
    },
    {
      "cell_type": "code",
      "source": [
        "benign_dataset = cancer[cancer['diagnosis']==0]\n",
        "malignant_dataset = cancer[cancer['diagnosis']==1]\n",
        "benign_dataset.reset_index(inplace=True,drop=True)\n",
        "malignant_dataset.reset_index(inplace=True,drop=True)\n",
        "benign_size = len(benign_dataset.index)\n",
        "malignant_size=len(malignant_dataset.index)\n",
        "print(\"benign size=\",benign_size)\n",
        "print(\"malignant size=\",malignant_size)\n",
        "benign_70 = int((1.0*benign_size*70.0)/100.0)\n",
        "malignant_70 = int((1.0*malignant_size*70.0)/100.0)\n",
        "print(\"70% benign size=\",benign_70)\n",
        "print(\"70% malignant size=\",malignant_70)\n",
        "cancer_train = benign_dataset[:benign_70]\n",
        "cancer_train=pd.concat([cancer_train,malignant_dataset[:malignant_70]],ignore_index=True)\n",
        "\n",
        "print(\"Cancer training dataset size = \",len(cancer_train.index))\n",
        "cancer_test = benign_dataset[benign_70:]\n",
        "cancer_test=pd.concat([cancer_test,malignant_dataset[malignant_70:]],ignore_index=True)\n",
        "\n",
        "print(\"Cancer testing dataset size = \",len(cancer_test.index))\n",
        "\n",
        "cancer_test = cancer_test.sample(frac=1)\n",
        "cancer_train = cancer_train.sample(frac=1)\n",
        "cancer_train.reset_index(inplace=True,drop=True)\n",
        "cancer_test.reset_index(inplace=True,drop=True)\n",
        "print(cancer_train)"
      ],
      "metadata": {
        "id": "0TlwH6pscdP2",
        "colab": {
          "base_uri": "https://localhost:8080/"
        },
        "outputId": "a9f6b080-9d06-4d0b-abe4-4ed808d0ae84"
      },
      "execution_count": 18,
      "outputs": [
        {
          "output_type": "stream",
          "name": "stdout",
          "text": [
            "benign size= 357\n",
            "malignant size= 207\n",
            "70% benign size= 249\n",
            "70% malignant size= 144\n",
            "Cancer training dataset size =  393\n",
            "Cancer testing dataset size =  171\n",
            "           id  diagnosis  radius_mean  texture_mean  perimeter_mean  \\\n",
            "0      893783          0    -0.695814         19.11           74.33   \n",
            "1      871149          0    -0.936219         12.96           68.69   \n",
            "2     8610629          0    -0.145889         10.94           87.91   \n",
            "3     8812877          1     0.521234         20.25          102.60   \n",
            "4    88143502          0     0.097521         13.47           92.51   \n",
            "..        ...        ...          ...           ...             ...   \n",
            "388  88649001          1     1.663156         28.77          133.60   \n",
            "389    906290          0    -0.858087         21.41           70.95   \n",
            "390    872608          0    -1.235522         18.06           64.60   \n",
            "391     89524          0     0.028405         12.88           90.03   \n",
            "392    892604          0    -0.467430         19.89           80.43   \n",
            "\n",
            "     area_mean  smoothness_mean  compactness_mean  concavity_mean  \\\n",
            "0        418.7          0.08814           0.05253        0.015830   \n",
            "1        366.8          0.07515           0.03718        0.003090   \n",
            "2        559.2          0.12910           0.10470        0.068770   \n",
            "3        761.3          0.10250           0.12040        0.114700   \n",
            "4        641.2          0.09906           0.07624        0.057240   \n",
            "..         ...              ...               ...             ...   \n",
            "388     1207.0          0.09260           0.20630        0.178400   \n",
            "389      380.3          0.10180           0.05978        0.008955   \n",
            "390      302.4          0.09699           0.12940        0.130700   \n",
            "391      616.5          0.09309           0.05306        0.017650   \n",
            "392      471.3          0.08451           0.10140        0.068300   \n",
            "\n",
            "     concave points_mean  ...  radius_worst  texture_worst  perimeter_worst  \\\n",
            "0               0.011480  ...         12.61          26.55            80.92   \n",
            "1               0.006588  ...         12.36          18.20            78.07   \n",
            "2               0.065560  ...         14.08          12.49            91.36   \n",
            "3               0.064620  ...         19.56          30.29           125.90   \n",
            "4               0.046030  ...         16.77          16.90           110.40   \n",
            "..                   ...  ...           ...            ...              ...   \n",
            "388             0.114400  ...         25.05          36.27           178.60   \n",
            "389             0.010760  ...         12.36          28.92            79.26   \n",
            "390             0.037160  ...         11.26          24.39            73.07   \n",
            "391             0.027330  ...         15.53          18.00            98.40   \n",
            "392             0.030990  ...         13.46          23.07            88.13   \n",
            "\n",
            "     area_worst  smoothness_worst  compactness_worst  concavity_worst  \\\n",
            "0         483.1            0.1223            0.10870          0.07915   \n",
            "1         470.0            0.1171            0.08294          0.01854   \n",
            "2         605.5            0.1451            0.13790          0.08539   \n",
            "3        1088.0            0.1552            0.44800          0.39760   \n",
            "4         873.2            0.1297            0.15250          0.16320   \n",
            "..          ...               ...                ...              ...   \n",
            "388      1926.0            0.1281            0.53290          0.42510   \n",
            "389       458.0            0.1282            0.11080          0.03582   \n",
            "390       390.2            0.1301            0.29500          0.34860   \n",
            "391       749.9            0.1281            0.11090          0.05307   \n",
            "392       551.3            0.1050            0.21580          0.19040   \n",
            "\n",
            "     concave points_worst  symmetry_worst  fractal_dimension_worst  \n",
            "0                 0.05741          0.3487                  0.06958  \n",
            "1                 0.03953          0.2738                  0.07685  \n",
            "2                 0.07407          0.2710                  0.07191  \n",
            "3                 0.14790          0.3993                  0.10640  \n",
            "4                 0.10870          0.3062                  0.06072  \n",
            "..                    ...             ...                      ...  \n",
            "388               0.19410          0.2818                  0.10050  \n",
            "389               0.04306          0.2976                  0.07123  \n",
            "390               0.09910          0.2614                  0.11620  \n",
            "391               0.05890          0.2100                  0.07083  \n",
            "392               0.07625          0.2685                  0.07764  \n",
            "\n",
            "[393 rows x 32 columns]\n"
          ]
        }
      ]
    },
    {
      "cell_type": "markdown",
      "source": [
        "**Step 3: Logistic regression with one variable (univariate)**\n",
        "\n",
        "  **Step 3A: Deciding on the input feature/variable**\n",
        "\n",
        "The output feature that the hypothesis will be guessing will be the diagnosis feature from the dataset. For the univariate problem however, we need to decide upon one input feature for the model.\n",
        "\n",
        "I have decided to take **radius_mean** as that input feature. The reasoning is that if we were to choose based on the avearge size of the mass then it might be a good enough variable to use.\n",
        "\n",
        "  **Step 3B: Deciding on the output or predicted variable/feature**\n",
        "\n",
        "Obviously, from the dataset we have to determine if the given tumour and its feature makes it malignant (cancerous) or benign (non cancerous). This is abbreviated to M and B in the dataset under **diagnosis** feature.\n",
        "\n",
        "With the input and output features decided, we can visualise the data on a 2D graph:"
      ],
      "metadata": {
        "id": "U-HQtLdGHLr4"
      }
    },
    {
      "cell_type": "code",
      "source": [
        "cancer_train.plot(kind='scatter', x='radius_mean', y='diagnosis')\n",
        "plot.show()"
      ],
      "metadata": {
        "id": "lXtVUQ-7nZGn",
        "colab": {
          "base_uri": "https://localhost:8080/",
          "height": 280
        },
        "outputId": "443b6353-b79b-4b04-d26e-c51a9b8c3a21"
      },
      "execution_count": 19,
      "outputs": [
        {
          "output_type": "display_data",
          "data": {
            "text/plain": [
              "<Figure size 432x288 with 1 Axes>"
            ],
            "image/png": "[encoded data removed]"
          },
          "metadata": {
            "needs_background": "light"
          }
        }
      ]
    },
    {
      "cell_type": "markdown",
      "source": [
        "As expected there is a lot of overlap in the output feature. This is because we are choosing just a single feature to try and predict the output while ignoring every other feature.\n",
        "\n",
        "In any case we will start with running the univariate logistic regression algorithm utilising gradient descent to try and create an optimum decision boundary.\n",
        "\n",
        "**Step 3C: Running gradient descent**\n",
        "\n",
        "\n",
        "\n",
        "> Return an array of ones of any dimension => Use **np.ones()**\n",
        ">\n",
        ">[ https://numpy.org/doc/stable/reference/generated/numpy.ones.html ]\n",
        ">\n",
        "> **arr = np.stack((arr,arr))** => stack arrays from left to right to form a matrix\n",
        ">\n",
        ">[ https://numpy.org/devdocs/reference/generated/numpy.stack.html#numpy.stack ]\n",
        ">\n",
        "> X_r2=cancer_train['radius_mean'].**to_numpy()** => convert a column into a 1D array\n",
        ">\n",
        ">[ https://pandas.pydata.org/docs/reference/api/pandas.DataFrame.to_numpy.html ]\n",
        ">\n",
        "> For matrix multiplication, use **np.dot()** or **np.matmul()**\n",
        ">\n",
        ">[ https://pandas.pydata.org/pandas-docs/stable/reference/api/pandas.DataFrame.dot.html ]\n"
      ],
      "metadata": {
        "id": "Rk2z8ldwww9E"
      }
    },
    {
      "cell_type": "code",
      "source": [
        "m=len(cancer_train.index)   #number of training set rows\n",
        "alpha = 0.003   #leaning rate\n",
        "#X = np.c_[np.ones((X.shape[0],1)), X[:]]\n",
        "X_r1=np.ones(m)\n",
        "X_r2=cancer_train['radius_mean'].to_numpy()\n",
        "X=np.stack((X_r1,X_r2))   #X0 and X1 are here\n",
        "\n",
        "theta = np.random.rand(2)   # theta 0 and theta 1 are here \n",
        "\n",
        "y = cancer_train['diagnosis'].to_numpy()  #y is here\n",
        "\n",
        "cost_list = []\n",
        "cost_list.append(1e10) #starting off with a large value for the cost function. From here we will optimise down to minimum\n",
        "iter = 0\n",
        "run=True\n",
        "while run:\n",
        "  iter+=1\n",
        "  Z=np.dot(theta,X)\n",
        "\n",
        "  prediction = 1 / (1 + np.exp(-Z))\n",
        "\n",
        "  costTrue=np.dot(y,np.log(prediction.T))\n",
        "  costFalse=np.dot(1-y,np.log(1-prediction).T)\n",
        "  temp=(costTrue+costFalse)/(-1*m)\n",
        "  cost_list.append(temp)\n",
        "  #cost = np.sum(-(y * np.log(prediction) + (1 - y) * np.log(1 - prediction))) / m\n",
        "\n",
        "  changeInCost = cost_list[iter-1]-cost_list[iter]\n",
        "\n",
        "  theta -= alpha * (1/m) * np.matmul((prediction-y),X.T)\n",
        "  #theta -=(alpha * (1/m) * np.dot(x.T, error))\n",
        "  if changeInCost < 1e-10:\n",
        "    run=False\n",
        "cost_list.pop(0)"
      ],
      "metadata": {
        "id": "8PxxrK8a8o8y",
        "colab": {
          "base_uri": "https://localhost:8080/"
        },
        "outputId": "b74b59cd-e25b-42fc-c512-dd5f8ee0c378"
      },
      "execution_count": 20,
      "outputs": [
        {
          "output_type": "execute_result",
          "data": {
            "text/plain": [
              "10000000000.0"
            ]
          },
          "metadata": {},
          "execution_count": 20
        }
      ]
    },
    {
      "cell_type": "code",
      "source": [
        "print(theta)"
      ],
      "metadata": {
        "colab": {
          "base_uri": "https://localhost:8080/"
        },
        "id": "bFw1a1X8snut",
        "outputId": "2b6bc26d-7a3a-48aa-820b-ef89e20bb99c"
      },
      "execution_count": 21,
      "outputs": [
        {
          "output_type": "stream",
          "name": "stdout",
          "text": [
            "[-0.52704779  3.36651898]\n"
          ]
        }
      ]
    },
    {
      "cell_type": "code",
      "source": [
        "plot.title('Cost Function J', size = 30)\n",
        "plot.xlabel('No. of iterations', size=20)\n",
        "plot.ylabel('Cost', size=20)\n",
        "plot.plot(cost_list)\n",
        "plot.show()"
      ],
      "metadata": {
        "colab": {
          "base_uri": "https://localhost:8080/",
          "height": 317
        },
        "id": "maqLB1MNIMxW",
        "outputId": "414d0411-8f8e-47ae-f5b5-6088a21be111"
      },
      "execution_count": 22,
      "outputs": [
        {
          "output_type": "display_data",
          "data": {
            "text/plain": [
              "<Figure size 432x288 with 1 Axes>"
            ],
            "image/png": "[encoded data removed]"
          },
          "metadata": {
            "needs_background": "light"
          }
        }
      ]
    },
    {
      "cell_type": "code",
      "source": [
        "plot.figure(1, figsize=(8, 6))\n",
        "plot.clf()\n",
        "Xt_r2=cancer_test['radius_mean'].to_numpy()\n",
        "loss = 1 / (1 + np.exp(-1*(Xt_r2*theta[1] + 1*theta[0])))\n",
        "plot.scatter(x=cancer['radius_mean'], y=cancer['diagnosis'], label='Training data', c='C0')\n",
        "x_axis=cancer_test['radius_mean'].to_numpy()\n",
        "loss=loss[x_axis.argsort()]\n",
        "test_diagnosis=cancer_test['diagnosis'].to_numpy()\n",
        "test_diagnosis=test_diagnosis[x_axis.argsort()]\n",
        "x_axis.sort()\n",
        "plot.plot(x_axis,loss, c='C1', label='Hyperplane')\n",
        "\n",
        "plot.xlabel('Mean Radius (Input)', fontsize=15)\n",
        "plot.ylabel(\"Probability of the output\" \"\\n\" \"(0 - Benign, 1 - Malignant)\", fontsize=15)\n",
        "plot.axhline(0.5, c='C2',label='0.5 Threshold', linewidth=0.7)\n",
        "\n",
        "\n",
        "# np.where(loss>=0.5) will return the array positions where the positions where the predicted values are greater than 0.5 probability\n",
        "# this will an be an array which will be returned wrapped in an array hence why we are using [][]\n",
        "# now since we have sorted the x axis, the first element in that array will be the threshold point from where the model will predict 1\n",
        "# hence we are setting the bundary as Xt_r2[np.where(loss >= 0.5)[0][0]]\n",
        "boundary = Xt_r2[np.where(loss >= 0.5)[0][0]]\n",
        "\n",
        "print(round(boundary,3))\n",
        "\n",
        "# now once we have the boundary value, we can plot that on the graph as well (the green line represents the 0.5 probability threshold)\n",
        "# (the red line represents the boundary value at which the model predicts 1)\n",
        "\n",
        "plot.axvline(boundary, c='C3',label='Boundary', linewidth=0.7)\n",
        "plot.legend(loc='lower right')\n",
        "plot.annotate('Threshold of Malignant prediction \\n(Mean Radius = ({}) standardised'.format(round(boundary,3)),xy=(boundary,0.5),xytext=(0.6, 0.6),textcoords='axes fraction',arrowprops=dict(facecolor='black', shrink=0.05))\n",
        "plot.show()"
      ],
      "metadata": {
        "colab": {
          "base_uri": "https://localhost:8080/",
          "height": 410
        },
        "id": "h_l1Br6sKSOJ",
        "outputId": "045391c3-a85c-4f52-f398-6e806ee47b2e"
      },
      "execution_count": 23,
      "outputs": [
        {
          "output_type": "stream",
          "name": "stdout",
          "text": [
            "0.17\n"
          ]
        },
        {
          "output_type": "display_data",
          "data": {
            "text/plain": [
              "<Figure size 576x432 with 1 Axes>"
            ],
            "image/png": "[encoded data removed]"
          },
          "metadata": {
            "needs_background": "light"
          }
        }
      ]
    },
    {
      "cell_type": "code",
      "source": [
        "# DO NOT RUN !\n",
        "# this used to understand argsort for plotting the hyperplane\n",
        "x = np.array([3, 1, 2])\n",
        "y=np.array([9,8,7])\n",
        "y=y[x.argsort()]\n",
        "print(y)\n",
        "print(np.argsort(x))\n",
        "print(x.sort())\n",
        "print(x)"
      ],
      "metadata": {
        "id": "T4E2zOaznwR-",
        "colab": {
          "base_uri": "https://localhost:8080/"
        },
        "outputId": "e8753626-238a-4fa1-d18a-479df81400b8"
      },
      "execution_count": 24,
      "outputs": [
        {
          "output_type": "stream",
          "name": "stdout",
          "text": [
            "[8 7 9]\n",
            "[1 2 0]\n",
            "None\n",
            "[1 2 3]\n"
          ]
        }
      ]
    },
    {
      "cell_type": "markdown",
      "source": [
        "Checking accuracy\n",
        "\n",
        "We calcuclate the F1 score for the test data prediction"
      ],
      "metadata": {
        "id": "THzfGa6Uy2wW"
      }
    },
    {
      "cell_type": "code",
      "source": [
        "test_prediction = loss\n",
        "test_prediction=np.where(test_prediction<0.155,0,1)\n",
        "\n",
        "#print(test_prediction)\n",
        "#print(test_diagnosis)\n",
        "#print(loss)\n",
        "\n",
        "no_true_1 = 0\n",
        "no_false_1 = 0\n",
        "no_false_0 = 0\n",
        "for i,j in zip(test_prediction,test_diagnosis):\n",
        "  #print(i,\" \",j)\n",
        "  if i==1:\n",
        "    if j==1:\n",
        "      no_true_1+=1;\n",
        "    else:\n",
        "      no_false_1+=1\n",
        "  else:\n",
        "    if j==1:\n",
        "      no_false_0+=1\n",
        "#print(\"no_true_1=\",no_true_1)\n",
        "#print(\"no_false_1=\",no_false_1)\n",
        "#print(\"no_false_0=\",no_false_0)\n",
        "precision = (1.0*no_true_1)/(1.0*(no_true_1+no_false_1))\n",
        "recall = (1.0*no_true_1)/(1.0*(no_true_1+no_false_0))\n",
        "#print(precision)\n",
        "#print(recall)\n",
        "f1 = 2*((precision*recall)/(precision+recall))\n",
        "print(\"f1=\",f1)"
      ],
      "metadata": {
        "colab": {
          "base_uri": "https://localhost:8080/"
        },
        "id": "Gqeq0nxS0kRB",
        "outputId": "6654c701-6ecf-45da-9916-19402bf40212"
      },
      "execution_count": 25,
      "outputs": [
        {
          "output_type": "stream",
          "name": "stdout",
          "text": [
            "f1= 0.7337278106508875\n"
          ]
        }
      ]
    }
  ]
}