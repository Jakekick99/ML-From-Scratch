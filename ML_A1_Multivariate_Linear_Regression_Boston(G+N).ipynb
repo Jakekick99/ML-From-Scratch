{
  "nbformat": 4,
  "nbformat_minor": 0,
  "metadata": {
    "colab": {
      "provenance": [],
      "collapsed_sections": []
    },
    "kernelspec": {
      "name": "python3",
      "display_name": "Python 3"
    },
    "language_info": {
      "name": "python"
    }
  },
  "cells": [
    {
      "cell_type": "markdown",
      "source": [
        "We start off by importing the packages and dataset into the program"
      ],
      "metadata": {
        "id": "Z8mGGPVarUle"
      }
    },
    {
      "cell_type": "code",
      "execution_count": 224,
      "metadata": {
        "id": "78I9962SPWg1"
      },
      "outputs": [],
      "source": [
        "import numpy as np\n",
        "import pandas as pd\n",
        "import matplotlib.pyplot as plot\n",
        "%matplotlib inline\n",
        "\n",
        "boston = pd.read_csv(\"/content/boston.csv\")"
      ]
    },
    {
      "cell_type": "markdown",
      "source": [
        "We check the data by using head() and describe()"
      ],
      "metadata": {
        "id": "t3kzYWUrrZf_"
      }
    },
    {
      "cell_type": "code",
      "source": [
        "print(boston.head())"
      ],
      "metadata": {
        "colab": {
          "base_uri": "https://localhost:8080/"
        },
        "id": "5hUosamBxO3D",
        "outputId": "de7200dd-f92e-4fad-f80b-9071a9fd748b"
      },
      "execution_count": 225,
      "outputs": [
        {
          "output_type": "stream",
          "name": "stdout",
          "text": [
            "      CRIM    ZN  INDUS  CHAS    NOX     RM   AGE     DIS  RAD    TAX  \\\n",
            "0  0.00632  18.0   2.31     0  0.538  6.575  65.2  4.0900    1  296.0   \n",
            "1  0.02731   0.0   7.07     0  0.469  6.421  78.9  4.9671    2  242.0   \n",
            "2  0.02729   0.0   7.07     0  0.469  7.185  61.1  4.9671    2  242.0   \n",
            "3  0.03237   0.0   2.18     0  0.458  6.998  45.8  6.0622    3  222.0   \n",
            "4  0.06905   0.0   2.18     0  0.458  7.147  54.2  6.0622    3  222.0   \n",
            "\n",
            "   PTRATIO       B  LSTAT  MEDV  \n",
            "0     15.3  396.90   4.98  24.0  \n",
            "1     17.8  396.90   9.14  21.6  \n",
            "2     17.8  392.83   4.03  34.7  \n",
            "3     18.7  394.63   2.94  33.4  \n",
            "4     18.7  396.90   5.33  36.2  \n"
          ]
        }
      ]
    },
    {
      "cell_type": "markdown",
      "source": [
        "We also see how many rows and columns i.e number of training rows and features there are in the dataset."
      ],
      "metadata": {
        "id": "VMQb5RoHrdDC"
      }
    },
    {
      "cell_type": "code",
      "source": [
        "print(\"No. of features = \",len(boston.columns))\n",
        "print(\"No. of training data = \",len(boston))"
      ],
      "metadata": {
        "colab": {
          "base_uri": "https://localhost:8080/"
        },
        "id": "HhK0LYYwxO0u",
        "outputId": "12006353-ae87-4708-d8ba-6a94a5bfd591"
      },
      "execution_count": 226,
      "outputs": [
        {
          "output_type": "stream",
          "name": "stdout",
          "text": [
            "No. of features =  14\n",
            "No. of training data =  506\n"
          ]
        }
      ]
    },
    {
      "cell_type": "code",
      "source": [
        "print(boston.describe())"
      ],
      "metadata": {
        "colab": {
          "base_uri": "https://localhost:8080/"
        },
        "id": "7dcmTCpExOyZ",
        "outputId": "73c5eb31-b022-4e0c-ea1d-c54543f07300"
      },
      "execution_count": 227,
      "outputs": [
        {
          "output_type": "stream",
          "name": "stdout",
          "text": [
            "             CRIM          ZN       INDUS        CHAS         NOX          RM  \\\n",
            "count  506.000000  506.000000  506.000000  506.000000  506.000000  506.000000   \n",
            "mean     3.613524   11.363636   11.136779    0.069170    0.554695    6.284634   \n",
            "std      8.601545   23.322453    6.860353    0.253994    0.115878    0.702617   \n",
            "min      0.006320    0.000000    0.460000    0.000000    0.385000    3.561000   \n",
            "25%      0.082045    0.000000    5.190000    0.000000    0.449000    5.885500   \n",
            "50%      0.256510    0.000000    9.690000    0.000000    0.538000    6.208500   \n",
            "75%      3.677083   12.500000   18.100000    0.000000    0.624000    6.623500   \n",
            "max     88.976200  100.000000   27.740000    1.000000    0.871000    8.780000   \n",
            "\n",
            "              AGE         DIS         RAD         TAX     PTRATIO           B  \\\n",
            "count  506.000000  506.000000  506.000000  506.000000  506.000000  506.000000   \n",
            "mean    68.574901    3.795043    9.549407  408.237154   18.455534  356.674032   \n",
            "std     28.148861    2.105710    8.707259  168.537116    2.164946   91.294864   \n",
            "min      2.900000    1.129600    1.000000  187.000000   12.600000    0.320000   \n",
            "25%     45.025000    2.100175    4.000000  279.000000   17.400000  375.377500   \n",
            "50%     77.500000    3.207450    5.000000  330.000000   19.050000  391.440000   \n",
            "75%     94.075000    5.188425   24.000000  666.000000   20.200000  396.225000   \n",
            "max    100.000000   12.126500   24.000000  711.000000   22.000000  396.900000   \n",
            "\n",
            "            LSTAT        MEDV  \n",
            "count  506.000000  506.000000  \n",
            "mean    12.653063   22.532806  \n",
            "std      7.141062    9.197104  \n",
            "min      1.730000    5.000000  \n",
            "25%      6.950000   17.025000  \n",
            "50%     11.360000   21.200000  \n",
            "75%     16.955000   25.000000  \n",
            "max     37.970000   50.000000  \n"
          ]
        }
      ]
    },
    {
      "cell_type": "markdown",
      "source": [
        "We then check if there are any NaN values or missing values in the dataset. If there are, we convert them to zero if it is low occurences or drop it if there are high occurences."
      ],
      "metadata": {
        "id": "ptYODFGwrmp3"
      }
    },
    {
      "cell_type": "code",
      "source": [
        "i=1\n",
        "print(\"## | Column Name | Count\")\n",
        "print(\"------------------------\")\n",
        "for c in boston.columns:\n",
        "  print(f\"{i:02d}\",c.ljust(11,\" \"),boston[c].isna().sum(),sep=\" | \")\n",
        "  i+=1"
      ],
      "metadata": {
        "colab": {
          "base_uri": "https://localhost:8080/"
        },
        "id": "1p7p-PaMxOwI",
        "outputId": "8515c504-98cd-4f69-e86e-b6df867af0b1"
      },
      "execution_count": 228,
      "outputs": [
        {
          "output_type": "stream",
          "name": "stdout",
          "text": [
            "## | Column Name | Count\n",
            "------------------------\n",
            "01 | CRIM        | 0\n",
            "02 | ZN          | 0\n",
            "03 | INDUS       | 0\n",
            "04 | CHAS        | 0\n",
            "05 | NOX         | 0\n",
            "06 | RM          | 0\n",
            "07 | AGE         | 0\n",
            "08 | DIS         | 0\n",
            "09 | RAD         | 0\n",
            "10 | TAX         | 0\n",
            "11 | PTRATIO     | 0\n",
            "12 | B           | 0\n",
            "13 | LSTAT       | 0\n",
            "14 | MEDV        | 0\n"
          ]
        }
      ]
    },
    {
      "cell_type": "markdown",
      "source": [
        "There are no NaN or other missing values in the data so we move on to the next step.\n",
        "\n",
        "We now check how many 0s are there in the dataset."
      ],
      "metadata": {
        "id": "B5WaaJ9dxZcr"
      }
    },
    {
      "cell_type": "code",
      "source": [
        "i=1\n",
        "print(\"## | Column Name | Count\")\n",
        "print(\"-------------------------\")\n",
        "for c in boston.columns:\n",
        "  t=(boston[c]==0).sum()\n",
        "  print(f\"{i:02d}\",c.ljust(11,\" \"),t,sep=\" | \")\n",
        "  i+=1"
      ],
      "metadata": {
        "colab": {
          "base_uri": "https://localhost:8080/"
        },
        "id": "eUnu86TyxOtx",
        "outputId": "19513f0f-2340-421b-e3ff-227adcac7fe8"
      },
      "execution_count": 229,
      "outputs": [
        {
          "output_type": "stream",
          "name": "stdout",
          "text": [
            "## | Column Name | Count\n",
            "-------------------------\n",
            "01 | CRIM        | 0\n",
            "02 | ZN          | 372\n",
            "03 | INDUS       | 0\n",
            "04 | CHAS        | 471\n",
            "05 | NOX         | 0\n",
            "06 | RM          | 0\n",
            "07 | AGE         | 0\n",
            "08 | DIS         | 0\n",
            "09 | RAD         | 0\n",
            "10 | TAX         | 0\n",
            "11 | PTRATIO     | 0\n",
            "12 | B           | 0\n",
            "13 | LSTAT       | 0\n",
            "14 | MEDV        | 0\n"
          ]
        }
      ]
    },
    {
      "cell_type": "markdown",
      "source": [
        "We see that two columns ZN and CHAS are having significant number of zeroes.\n",
        "\n",
        "However, ZN is **proportion of residential land zoned for lots over 25,000 sq.ft.** This data is allowed to have zeroes.\n",
        "\n",
        "Similarly, CHAS is **Charles River dummy variable (= 1 if tract bounds river; 0 otherwise)** This data too is allowed to have zeroes."
      ],
      "metadata": {
        "id": "O6R0kLaVxc6V"
      }
    },
    {
      "cell_type": "markdown",
      "source": [
        "Since our entire data is continous numerical in range, there are no features that need encoding."
      ],
      "metadata": {
        "id": "sQUaYcaOxe_x"
      }
    },
    {
      "cell_type": "markdown",
      "source": [
        "We next try to see if we can reduce the features in the datasset based on their correlation and variance"
      ],
      "metadata": {
        "id": "4GBZC0FhsHKU"
      }
    },
    {
      "cell_type": "code",
      "source": [
        "print(boston.var())"
      ],
      "metadata": {
        "colab": {
          "base_uri": "https://localhost:8080/"
        },
        "id": "4H8Bo5dxxOrn",
        "outputId": "14adcaca-5728-4493-92e8-7fdbd97e5af6"
      },
      "execution_count": 230,
      "outputs": [
        {
          "output_type": "stream",
          "name": "stdout",
          "text": [
            "CRIM          73.986578\n",
            "ZN           543.936814\n",
            "INDUS         47.064442\n",
            "CHAS           0.064513\n",
            "NOX            0.013428\n",
            "RM             0.493671\n",
            "AGE          792.358399\n",
            "DIS            4.434015\n",
            "RAD           75.816366\n",
            "TAX        28404.759488\n",
            "PTRATIO        4.686989\n",
            "B           8334.752263\n",
            "LSTAT         50.994760\n",
            "MEDV          84.586724\n",
            "dtype: float64\n"
          ]
        }
      ]
    },
    {
      "cell_type": "markdown",
      "source": [
        "The variance of all features are high enough that we can't exclude any of it."
      ],
      "metadata": {
        "id": "SwC4CMP8sOlH"
      }
    },
    {
      "cell_type": "code",
      "source": [
        "corr_matrix = boston.corr()\n",
        "corr_matrix.drop(['MEDV'],axis=0,inplace=True)\n",
        "corr_matrix.drop(['MEDV'],axis=1,inplace=True)\n",
        "corr_matrix[corr_matrix.abs()>0.8]"
      ],
      "metadata": {
        "colab": {
          "base_uri": "https://localhost:8080/",
          "height": 521
        },
        "id": "-Bwrh8xBxOpW",
        "outputId": "64c26a52-9f1a-4f7e-f27a-d2ee44102401"
      },
      "execution_count": 231,
      "outputs": [
        {
          "output_type": "execute_result",
          "data": {
            "text/plain": [
              "         CRIM   ZN  INDUS  CHAS  NOX   RM  AGE  DIS       RAD       TAX  \\\n",
              "CRIM      1.0  NaN    NaN   NaN  NaN  NaN  NaN  NaN       NaN       NaN   \n",
              "ZN        NaN  1.0    NaN   NaN  NaN  NaN  NaN  NaN       NaN       NaN   \n",
              "INDUS     NaN  NaN    1.0   NaN  NaN  NaN  NaN  NaN       NaN       NaN   \n",
              "CHAS      NaN  NaN    NaN   1.0  NaN  NaN  NaN  NaN       NaN       NaN   \n",
              "NOX       NaN  NaN    NaN   NaN  1.0  NaN  NaN  NaN       NaN       NaN   \n",
              "RM        NaN  NaN    NaN   NaN  NaN  1.0  NaN  NaN       NaN       NaN   \n",
              "AGE       NaN  NaN    NaN   NaN  NaN  NaN  1.0  NaN       NaN       NaN   \n",
              "DIS       NaN  NaN    NaN   NaN  NaN  NaN  NaN  1.0       NaN       NaN   \n",
              "RAD       NaN  NaN    NaN   NaN  NaN  NaN  NaN  NaN  1.000000  0.910228   \n",
              "TAX       NaN  NaN    NaN   NaN  NaN  NaN  NaN  NaN  0.910228  1.000000   \n",
              "PTRATIO   NaN  NaN    NaN   NaN  NaN  NaN  NaN  NaN       NaN       NaN   \n",
              "B         NaN  NaN    NaN   NaN  NaN  NaN  NaN  NaN       NaN       NaN   \n",
              "LSTAT     NaN  NaN    NaN   NaN  NaN  NaN  NaN  NaN       NaN       NaN   \n",
              "\n",
              "         PTRATIO    B  LSTAT  \n",
              "CRIM         NaN  NaN    NaN  \n",
              "ZN           NaN  NaN    NaN  \n",
              "INDUS        NaN  NaN    NaN  \n",
              "CHAS         NaN  NaN    NaN  \n",
              "NOX          NaN  NaN    NaN  \n",
              "RM           NaN  NaN    NaN  \n",
              "AGE          NaN  NaN    NaN  \n",
              "DIS          NaN  NaN    NaN  \n",
              "RAD          NaN  NaN    NaN  \n",
              "TAX          NaN  NaN    NaN  \n",
              "PTRATIO      1.0  NaN    NaN  \n",
              "B            NaN  1.0    NaN  \n",
              "LSTAT        NaN  NaN    1.0  "
            ],
            "text/html": [
              "\n",
              "  <div id=\"df-f5ae8b13-fb1e-4fcb-a972-92a0dc916600\">\n",
              "    <div class=\"colab-df-container\">\n",
              "      <div>\n",
              "<style scoped>\n",
              "    .dataframe tbody tr th:only-of-type {\n",
              "        vertical-align: middle;\n",
              "    }\n",
              "\n",
              "    .dataframe tbody tr th {\n",
              "        vertical-align: top;\n",
              "    }\n",
              "\n",
              "    .dataframe thead th {\n",
              "        text-align: right;\n",
              "    }\n",
              "</style>\n",
              "<table border=\"1\" class=\"dataframe\">\n",
              "  <thead>\n",
              "    <tr style=\"text-align: right;\">\n",
              "      <th></th>\n",
              "      <th>CRIM</th>\n",
              "      <th>ZN</th>\n",
              "      <th>INDUS</th>\n",
              "      <th>CHAS</th>\n",
              "      <th>NOX</th>\n",
              "      <th>RM</th>\n",
              "      <th>AGE</th>\n",
              "      <th>DIS</th>\n",
              "      <th>RAD</th>\n",
              "      <th>TAX</th>\n",
              "      <th>PTRATIO</th>\n",
              "      <th>B</th>\n",
              "      <th>LSTAT</th>\n",
              "    </tr>\n",
              "  </thead>\n",
              "  <tbody>\n",
              "    <tr>\n",
              "      <th>CRIM</th>\n",
              "      <td>1.0</td>\n",
              "      <td>NaN</td>\n",
              "      <td>NaN</td>\n",
              "      <td>NaN</td>\n",
              "      <td>NaN</td>\n",
              "      <td>NaN</td>\n",
              "      <td>NaN</td>\n",
              "      <td>NaN</td>\n",
              "      <td>NaN</td>\n",
              "      <td>NaN</td>\n",
              "      <td>NaN</td>\n",
              "      <td>NaN</td>\n",
              "      <td>NaN</td>\n",
              "    </tr>\n",
              "    <tr>\n",
              "      <th>ZN</th>\n",
              "      <td>NaN</td>\n",
              "      <td>1.0</td>\n",
              "      <td>NaN</td>\n",
              "      <td>NaN</td>\n",
              "      <td>NaN</td>\n",
              "      <td>NaN</td>\n",
              "      <td>NaN</td>\n",
              "      <td>NaN</td>\n",
              "      <td>NaN</td>\n",
              "      <td>NaN</td>\n",
              "      <td>NaN</td>\n",
              "      <td>NaN</td>\n",
              "      <td>NaN</td>\n",
              "    </tr>\n",
              "    <tr>\n",
              "      <th>INDUS</th>\n",
              "      <td>NaN</td>\n",
              "      <td>NaN</td>\n",
              "      <td>1.0</td>\n",
              "      <td>NaN</td>\n",
              "      <td>NaN</td>\n",
              "      <td>NaN</td>\n",
              "      <td>NaN</td>\n",
              "      <td>NaN</td>\n",
              "      <td>NaN</td>\n",
              "      <td>NaN</td>\n",
              "      <td>NaN</td>\n",
              "      <td>NaN</td>\n",
              "      <td>NaN</td>\n",
              "    </tr>\n",
              "    <tr>\n",
              "      <th>CHAS</th>\n",
              "      <td>NaN</td>\n",
              "      <td>NaN</td>\n",
              "      <td>NaN</td>\n",
              "      <td>1.0</td>\n",
              "      <td>NaN</td>\n",
              "      <td>NaN</td>\n",
              "      <td>NaN</td>\n",
              "      <td>NaN</td>\n",
              "      <td>NaN</td>\n",
              "      <td>NaN</td>\n",
              "      <td>NaN</td>\n",
              "      <td>NaN</td>\n",
              "      <td>NaN</td>\n",
              "    </tr>\n",
              "    <tr>\n",
              "      <th>NOX</th>\n",
              "      <td>NaN</td>\n",
              "      <td>NaN</td>\n",
              "      <td>NaN</td>\n",
              "      <td>NaN</td>\n",
              "      <td>1.0</td>\n",
              "      <td>NaN</td>\n",
              "      <td>NaN</td>\n",
              "      <td>NaN</td>\n",
              "      <td>NaN</td>\n",
              "      <td>NaN</td>\n",
              "      <td>NaN</td>\n",
              "      <td>NaN</td>\n",
              "      <td>NaN</td>\n",
              "    </tr>\n",
              "    <tr>\n",
              "      <th>RM</th>\n",
              "      <td>NaN</td>\n",
              "      <td>NaN</td>\n",
              "      <td>NaN</td>\n",
              "      <td>NaN</td>\n",
              "      <td>NaN</td>\n",
              "      <td>1.0</td>\n",
              "      <td>NaN</td>\n",
              "      <td>NaN</td>\n",
              "      <td>NaN</td>\n",
              "      <td>NaN</td>\n",
              "      <td>NaN</td>\n",
              "      <td>NaN</td>\n",
              "      <td>NaN</td>\n",
              "    </tr>\n",
              "    <tr>\n",
              "      <th>AGE</th>\n",
              "      <td>NaN</td>\n",
              "      <td>NaN</td>\n",
              "      <td>NaN</td>\n",
              "      <td>NaN</td>\n",
              "      <td>NaN</td>\n",
              "      <td>NaN</td>\n",
              "      <td>1.0</td>\n",
              "      <td>NaN</td>\n",
              "      <td>NaN</td>\n",
              "      <td>NaN</td>\n",
              "      <td>NaN</td>\n",
              "      <td>NaN</td>\n",
              "      <td>NaN</td>\n",
              "    </tr>\n",
              "    <tr>\n",
              "      <th>DIS</th>\n",
              "      <td>NaN</td>\n",
              "      <td>NaN</td>\n",
              "      <td>NaN</td>\n",
              "      <td>NaN</td>\n",
              "      <td>NaN</td>\n",
              "      <td>NaN</td>\n",
              "      <td>NaN</td>\n",
              "      <td>1.0</td>\n",
              "      <td>NaN</td>\n",
              "      <td>NaN</td>\n",
              "      <td>NaN</td>\n",
              "      <td>NaN</td>\n",
              "      <td>NaN</td>\n",
              "    </tr>\n",
              "    <tr>\n",
              "      <th>RAD</th>\n",
              "      <td>NaN</td>\n",
              "      <td>NaN</td>\n",
              "      <td>NaN</td>\n",
              "      <td>NaN</td>\n",
              "      <td>NaN</td>\n",
              "      <td>NaN</td>\n",
              "      <td>NaN</td>\n",
              "      <td>NaN</td>\n",
              "      <td>1.000000</td>\n",
              "      <td>0.910228</td>\n",
              "      <td>NaN</td>\n",
              "      <td>NaN</td>\n",
              "      <td>NaN</td>\n",
              "    </tr>\n",
              "    <tr>\n",
              "      <th>TAX</th>\n",
              "      <td>NaN</td>\n",
              "      <td>NaN</td>\n",
              "      <td>NaN</td>\n",
              "      <td>NaN</td>\n",
              "      <td>NaN</td>\n",
              "      <td>NaN</td>\n",
              "      <td>NaN</td>\n",
              "      <td>NaN</td>\n",
              "      <td>0.910228</td>\n",
              "      <td>1.000000</td>\n",
              "      <td>NaN</td>\n",
              "      <td>NaN</td>\n",
              "      <td>NaN</td>\n",
              "    </tr>\n",
              "    <tr>\n",
              "      <th>PTRATIO</th>\n",
              "      <td>NaN</td>\n",
              "      <td>NaN</td>\n",
              "      <td>NaN</td>\n",
              "      <td>NaN</td>\n",
              "      <td>NaN</td>\n",
              "      <td>NaN</td>\n",
              "      <td>NaN</td>\n",
              "      <td>NaN</td>\n",
              "      <td>NaN</td>\n",
              "      <td>NaN</td>\n",
              "      <td>1.0</td>\n",
              "      <td>NaN</td>\n",
              "      <td>NaN</td>\n",
              "    </tr>\n",
              "    <tr>\n",
              "      <th>B</th>\n",
              "      <td>NaN</td>\n",
              "      <td>NaN</td>\n",
              "      <td>NaN</td>\n",
              "      <td>NaN</td>\n",
              "      <td>NaN</td>\n",
              "      <td>NaN</td>\n",
              "      <td>NaN</td>\n",
              "      <td>NaN</td>\n",
              "      <td>NaN</td>\n",
              "      <td>NaN</td>\n",
              "      <td>NaN</td>\n",
              "      <td>1.0</td>\n",
              "      <td>NaN</td>\n",
              "    </tr>\n",
              "    <tr>\n",
              "      <th>LSTAT</th>\n",
              "      <td>NaN</td>\n",
              "      <td>NaN</td>\n",
              "      <td>NaN</td>\n",
              "      <td>NaN</td>\n",
              "      <td>NaN</td>\n",
              "      <td>NaN</td>\n",
              "      <td>NaN</td>\n",
              "      <td>NaN</td>\n",
              "      <td>NaN</td>\n",
              "      <td>NaN</td>\n",
              "      <td>NaN</td>\n",
              "      <td>NaN</td>\n",
              "      <td>1.0</td>\n",
              "    </tr>\n",
              "  </tbody>\n",
              "</table>\n",
              "</div>\n",
              "      <button class=\"colab-df-convert\" onclick=\"convertToInteractive('df-f5ae8b13-fb1e-4fcb-a972-92a0dc916600')\"\n",
              "              title=\"Convert this dataframe to an interactive table.\"\n",
              "              style=\"display:none;\">\n",
              "        \n",
              "  <svg xmlns=\"http://www.w3.org/2000/svg\" height=\"24px\"viewBox=\"0 0 24 24\"\n",
              "       width=\"24px\">\n",
              "    <path d=\"M0 0h24v24H0V0z\" fill=\"none\"/>\n",
              "    <path d=\"M18.56 5.44l.94 2.06.94-2.06 2.06-.94-2.06-.94-.94-2.06-.94 2.06-2.06.94zm-11 1L8.5 8.5l.94-2.06 2.06-.94-2.06-.94L8.5 2.5l-.94 2.06-2.06.94zm10 10l.94 2.06.94-2.06 2.06-.94-2.06-.94-.94-2.06-.94 2.06-2.06.94z\"/><path d=\"M17.41 7.96l-1.37-1.37c-.4-.4-.92-.59-1.43-.59-.52 0-1.04.2-1.43.59L10.3 9.45l-7.72 7.72c-.78.78-.78 2.05 0 2.83L4 21.41c.39.39.9.59 1.41.59.51 0 1.02-.2 1.41-.59l7.78-7.78 2.81-2.81c.8-.78.8-2.07 0-2.86zM5.41 20L4 18.59l7.72-7.72 1.47 1.35L5.41 20z\"/>\n",
              "  </svg>\n",
              "      </button>\n",
              "      \n",
              "  <style>\n",
              "    .colab-df-container {\n",
              "      display:flex;\n",
              "      flex-wrap:wrap;\n",
              "      gap: 12px;\n",
              "    }\n",
              "\n",
              "    .colab-df-convert {\n",
              "      background-color: #E8F0FE;\n",
              "      border: none;\n",
              "      border-radius: 50%;\n",
              "      cursor: pointer;\n",
              "      display: none;\n",
              "      fill: #1967D2;\n",
              "      height: 32px;\n",
              "      padding: 0 0 0 0;\n",
              "      width: 32px;\n",
              "    }\n",
              "\n",
              "    .colab-df-convert:hover {\n",
              "      background-color: #E2EBFA;\n",
              "      box-shadow: 0px 1px 2px rgba(60, 64, 67, 0.3), 0px 1px 3px 1px rgba(60, 64, 67, 0.15);\n",
              "      fill: #174EA6;\n",
              "    }\n",
              "\n",
              "    [theme=dark] .colab-df-convert {\n",
              "      background-color: #3B4455;\n",
              "      fill: #D2E3FC;\n",
              "    }\n",
              "\n",
              "    [theme=dark] .colab-df-convert:hover {\n",
              "      background-color: #434B5C;\n",
              "      box-shadow: 0px 1px 3px 1px rgba(0, 0, 0, 0.15);\n",
              "      filter: drop-shadow(0px 1px 2px rgba(0, 0, 0, 0.3));\n",
              "      fill: #FFFFFF;\n",
              "    }\n",
              "  </style>\n",
              "\n",
              "      <script>\n",
              "        const buttonEl =\n",
              "          document.querySelector('#df-f5ae8b13-fb1e-4fcb-a972-92a0dc916600 button.colab-df-convert');\n",
              "        buttonEl.style.display =\n",
              "          google.colab.kernel.accessAllowed ? 'block' : 'none';\n",
              "\n",
              "        async function convertToInteractive(key) {\n",
              "          const element = document.querySelector('#df-f5ae8b13-fb1e-4fcb-a972-92a0dc916600');\n",
              "          const dataTable =\n",
              "            await google.colab.kernel.invokeFunction('convertToInteractive',\n",
              "                                                     [key], {});\n",
              "          if (!dataTable) return;\n",
              "\n",
              "          const docLinkHtml = 'Like what you see? Visit the ' +\n",
              "            '<a target=\"_blank\" href=https://colab.research.google.com/notebooks/data_table.ipynb>data table notebook</a>'\n",
              "            + ' to learn more about interactive tables.';\n",
              "          element.innerHTML = '';\n",
              "          dataTable['output_type'] = 'display_data';\n",
              "          await google.colab.output.renderOutput(dataTable, element);\n",
              "          const docLink = document.createElement('div');\n",
              "          docLink.innerHTML = docLinkHtml;\n",
              "          element.appendChild(docLink);\n",
              "        }\n",
              "      </script>\n",
              "    </div>\n",
              "  </div>\n",
              "  "
            ]
          },
          "metadata": {},
          "execution_count": 231
        }
      ]
    },
    {
      "cell_type": "markdown",
      "source": [
        "TAX and RAD have high correlation so we drop RAD column"
      ],
      "metadata": {
        "id": "7IDGCvAXCfr5"
      }
    },
    {
      "cell_type": "code",
      "source": [
        "corr_matrix.drop(['RAD'],axis=0,inplace=True)\n",
        "corr_matrix.drop(['RAD'],axis=1,inplace=True)\n",
        "corr_matrix[corr_matrix.abs()>0.8]"
      ],
      "metadata": {
        "id": "ejbUF3VYBDfP",
        "colab": {
          "base_uri": "https://localhost:8080/",
          "height": 470
        },
        "outputId": "8f1f3965-e107-44ec-cb2e-d21a50e78e16"
      },
      "execution_count": 232,
      "outputs": [
        {
          "output_type": "execute_result",
          "data": {
            "text/plain": [
              "         CRIM   ZN  INDUS  CHAS  NOX   RM  AGE  DIS  TAX  PTRATIO    B  LSTAT\n",
              "CRIM      1.0  NaN    NaN   NaN  NaN  NaN  NaN  NaN  NaN      NaN  NaN    NaN\n",
              "ZN        NaN  1.0    NaN   NaN  NaN  NaN  NaN  NaN  NaN      NaN  NaN    NaN\n",
              "INDUS     NaN  NaN    1.0   NaN  NaN  NaN  NaN  NaN  NaN      NaN  NaN    NaN\n",
              "CHAS      NaN  NaN    NaN   1.0  NaN  NaN  NaN  NaN  NaN      NaN  NaN    NaN\n",
              "NOX       NaN  NaN    NaN   NaN  1.0  NaN  NaN  NaN  NaN      NaN  NaN    NaN\n",
              "RM        NaN  NaN    NaN   NaN  NaN  1.0  NaN  NaN  NaN      NaN  NaN    NaN\n",
              "AGE       NaN  NaN    NaN   NaN  NaN  NaN  1.0  NaN  NaN      NaN  NaN    NaN\n",
              "DIS       NaN  NaN    NaN   NaN  NaN  NaN  NaN  1.0  NaN      NaN  NaN    NaN\n",
              "TAX       NaN  NaN    NaN   NaN  NaN  NaN  NaN  NaN  1.0      NaN  NaN    NaN\n",
              "PTRATIO   NaN  NaN    NaN   NaN  NaN  NaN  NaN  NaN  NaN      1.0  NaN    NaN\n",
              "B         NaN  NaN    NaN   NaN  NaN  NaN  NaN  NaN  NaN      NaN  1.0    NaN\n",
              "LSTAT     NaN  NaN    NaN   NaN  NaN  NaN  NaN  NaN  NaN      NaN  NaN    1.0"
            ],
            "text/html": [
              "\n",
              "  <div id=\"df-055e8858-e89d-4d00-a532-1ec3d5f67f29\">\n",
              "    <div class=\"colab-df-container\">\n",
              "      <div>\n",
              "<style scoped>\n",
              "    .dataframe tbody tr th:only-of-type {\n",
              "        vertical-align: middle;\n",
              "    }\n",
              "\n",
              "    .dataframe tbody tr th {\n",
              "        vertical-align: top;\n",
              "    }\n",
              "\n",
              "    .dataframe thead th {\n",
              "        text-align: right;\n",
              "    }\n",
              "</style>\n",
              "<table border=\"1\" class=\"dataframe\">\n",
              "  <thead>\n",
              "    <tr style=\"text-align: right;\">\n",
              "      <th></th>\n",
              "      <th>CRIM</th>\n",
              "      <th>ZN</th>\n",
              "      <th>INDUS</th>\n",
              "      <th>CHAS</th>\n",
              "      <th>NOX</th>\n",
              "      <th>RM</th>\n",
              "      <th>AGE</th>\n",
              "      <th>DIS</th>\n",
              "      <th>TAX</th>\n",
              "      <th>PTRATIO</th>\n",
              "      <th>B</th>\n",
              "      <th>LSTAT</th>\n",
              "    </tr>\n",
              "  </thead>\n",
              "  <tbody>\n",
              "    <tr>\n",
              "      <th>CRIM</th>\n",
              "      <td>1.0</td>\n",
              "      <td>NaN</td>\n",
              "      <td>NaN</td>\n",
              "      <td>NaN</td>\n",
              "      <td>NaN</td>\n",
              "      <td>NaN</td>\n",
              "      <td>NaN</td>\n",
              "      <td>NaN</td>\n",
              "      <td>NaN</td>\n",
              "      <td>NaN</td>\n",
              "      <td>NaN</td>\n",
              "      <td>NaN</td>\n",
              "    </tr>\n",
              "    <tr>\n",
              "      <th>ZN</th>\n",
              "      <td>NaN</td>\n",
              "      <td>1.0</td>\n",
              "      <td>NaN</td>\n",
              "      <td>NaN</td>\n",
              "      <td>NaN</td>\n",
              "      <td>NaN</td>\n",
              "      <td>NaN</td>\n",
              "      <td>NaN</td>\n",
              "      <td>NaN</td>\n",
              "      <td>NaN</td>\n",
              "      <td>NaN</td>\n",
              "      <td>NaN</td>\n",
              "    </tr>\n",
              "    <tr>\n",
              "      <th>INDUS</th>\n",
              "      <td>NaN</td>\n",
              "      <td>NaN</td>\n",
              "      <td>1.0</td>\n",
              "      <td>NaN</td>\n",
              "      <td>NaN</td>\n",
              "      <td>NaN</td>\n",
              "      <td>NaN</td>\n",
              "      <td>NaN</td>\n",
              "      <td>NaN</td>\n",
              "      <td>NaN</td>\n",
              "      <td>NaN</td>\n",
              "      <td>NaN</td>\n",
              "    </tr>\n",
              "    <tr>\n",
              "      <th>CHAS</th>\n",
              "      <td>NaN</td>\n",
              "      <td>NaN</td>\n",
              "      <td>NaN</td>\n",
              "      <td>1.0</td>\n",
              "      <td>NaN</td>\n",
              "      <td>NaN</td>\n",
              "      <td>NaN</td>\n",
              "      <td>NaN</td>\n",
              "      <td>NaN</td>\n",
              "      <td>NaN</td>\n",
              "      <td>NaN</td>\n",
              "      <td>NaN</td>\n",
              "    </tr>\n",
              "    <tr>\n",
              "      <th>NOX</th>\n",
              "      <td>NaN</td>\n",
              "      <td>NaN</td>\n",
              "      <td>NaN</td>\n",
              "      <td>NaN</td>\n",
              "      <td>1.0</td>\n",
              "      <td>NaN</td>\n",
              "      <td>NaN</td>\n",
              "      <td>NaN</td>\n",
              "      <td>NaN</td>\n",
              "      <td>NaN</td>\n",
              "      <td>NaN</td>\n",
              "      <td>NaN</td>\n",
              "    </tr>\n",
              "    <tr>\n",
              "      <th>RM</th>\n",
              "      <td>NaN</td>\n",
              "      <td>NaN</td>\n",
              "      <td>NaN</td>\n",
              "      <td>NaN</td>\n",
              "      <td>NaN</td>\n",
              "      <td>1.0</td>\n",
              "      <td>NaN</td>\n",
              "      <td>NaN</td>\n",
              "      <td>NaN</td>\n",
              "      <td>NaN</td>\n",
              "      <td>NaN</td>\n",
              "      <td>NaN</td>\n",
              "    </tr>\n",
              "    <tr>\n",
              "      <th>AGE</th>\n",
              "      <td>NaN</td>\n",
              "      <td>NaN</td>\n",
              "      <td>NaN</td>\n",
              "      <td>NaN</td>\n",
              "      <td>NaN</td>\n",
              "      <td>NaN</td>\n",
              "      <td>1.0</td>\n",
              "      <td>NaN</td>\n",
              "      <td>NaN</td>\n",
              "      <td>NaN</td>\n",
              "      <td>NaN</td>\n",
              "      <td>NaN</td>\n",
              "    </tr>\n",
              "    <tr>\n",
              "      <th>DIS</th>\n",
              "      <td>NaN</td>\n",
              "      <td>NaN</td>\n",
              "      <td>NaN</td>\n",
              "      <td>NaN</td>\n",
              "      <td>NaN</td>\n",
              "      <td>NaN</td>\n",
              "      <td>NaN</td>\n",
              "      <td>1.0</td>\n",
              "      <td>NaN</td>\n",
              "      <td>NaN</td>\n",
              "      <td>NaN</td>\n",
              "      <td>NaN</td>\n",
              "    </tr>\n",
              "    <tr>\n",
              "      <th>TAX</th>\n",
              "      <td>NaN</td>\n",
              "      <td>NaN</td>\n",
              "      <td>NaN</td>\n",
              "      <td>NaN</td>\n",
              "      <td>NaN</td>\n",
              "      <td>NaN</td>\n",
              "      <td>NaN</td>\n",
              "      <td>NaN</td>\n",
              "      <td>1.0</td>\n",
              "      <td>NaN</td>\n",
              "      <td>NaN</td>\n",
              "      <td>NaN</td>\n",
              "    </tr>\n",
              "    <tr>\n",
              "      <th>PTRATIO</th>\n",
              "      <td>NaN</td>\n",
              "      <td>NaN</td>\n",
              "      <td>NaN</td>\n",
              "      <td>NaN</td>\n",
              "      <td>NaN</td>\n",
              "      <td>NaN</td>\n",
              "      <td>NaN</td>\n",
              "      <td>NaN</td>\n",
              "      <td>NaN</td>\n",
              "      <td>1.0</td>\n",
              "      <td>NaN</td>\n",
              "      <td>NaN</td>\n",
              "    </tr>\n",
              "    <tr>\n",
              "      <th>B</th>\n",
              "      <td>NaN</td>\n",
              "      <td>NaN</td>\n",
              "      <td>NaN</td>\n",
              "      <td>NaN</td>\n",
              "      <td>NaN</td>\n",
              "      <td>NaN</td>\n",
              "      <td>NaN</td>\n",
              "      <td>NaN</td>\n",
              "      <td>NaN</td>\n",
              "      <td>NaN</td>\n",
              "      <td>1.0</td>\n",
              "      <td>NaN</td>\n",
              "    </tr>\n",
              "    <tr>\n",
              "      <th>LSTAT</th>\n",
              "      <td>NaN</td>\n",
              "      <td>NaN</td>\n",
              "      <td>NaN</td>\n",
              "      <td>NaN</td>\n",
              "      <td>NaN</td>\n",
              "      <td>NaN</td>\n",
              "      <td>NaN</td>\n",
              "      <td>NaN</td>\n",
              "      <td>NaN</td>\n",
              "      <td>NaN</td>\n",
              "      <td>NaN</td>\n",
              "      <td>1.0</td>\n",
              "    </tr>\n",
              "  </tbody>\n",
              "</table>\n",
              "</div>\n",
              "      <button class=\"colab-df-convert\" onclick=\"convertToInteractive('df-055e8858-e89d-4d00-a532-1ec3d5f67f29')\"\n",
              "              title=\"Convert this dataframe to an interactive table.\"\n",
              "              style=\"display:none;\">\n",
              "        \n",
              "  <svg xmlns=\"http://www.w3.org/2000/svg\" height=\"24px\"viewBox=\"0 0 24 24\"\n",
              "       width=\"24px\">\n",
              "    <path d=\"M0 0h24v24H0V0z\" fill=\"none\"/>\n",
              "    <path d=\"M18.56 5.44l.94 2.06.94-2.06 2.06-.94-2.06-.94-.94-2.06-.94 2.06-2.06.94zm-11 1L8.5 8.5l.94-2.06 2.06-.94-2.06-.94L8.5 2.5l-.94 2.06-2.06.94zm10 10l.94 2.06.94-2.06 2.06-.94-2.06-.94-.94-2.06-.94 2.06-2.06.94z\"/><path d=\"M17.41 7.96l-1.37-1.37c-.4-.4-.92-.59-1.43-.59-.52 0-1.04.2-1.43.59L10.3 9.45l-7.72 7.72c-.78.78-.78 2.05 0 2.83L4 21.41c.39.39.9.59 1.41.59.51 0 1.02-.2 1.41-.59l7.78-7.78 2.81-2.81c.8-.78.8-2.07 0-2.86zM5.41 20L4 18.59l7.72-7.72 1.47 1.35L5.41 20z\"/>\n",
              "  </svg>\n",
              "      </button>\n",
              "      \n",
              "  <style>\n",
              "    .colab-df-container {\n",
              "      display:flex;\n",
              "      flex-wrap:wrap;\n",
              "      gap: 12px;\n",
              "    }\n",
              "\n",
              "    .colab-df-convert {\n",
              "      background-color: #E8F0FE;\n",
              "      border: none;\n",
              "      border-radius: 50%;\n",
              "      cursor: pointer;\n",
              "      display: none;\n",
              "      fill: #1967D2;\n",
              "      height: 32px;\n",
              "      padding: 0 0 0 0;\n",
              "      width: 32px;\n",
              "    }\n",
              "\n",
              "    .colab-df-convert:hover {\n",
              "      background-color: #E2EBFA;\n",
              "      box-shadow: 0px 1px 2px rgba(60, 64, 67, 0.3), 0px 1px 3px 1px rgba(60, 64, 67, 0.15);\n",
              "      fill: #174EA6;\n",
              "    }\n",
              "\n",
              "    [theme=dark] .colab-df-convert {\n",
              "      background-color: #3B4455;\n",
              "      fill: #D2E3FC;\n",
              "    }\n",
              "\n",
              "    [theme=dark] .colab-df-convert:hover {\n",
              "      background-color: #434B5C;\n",
              "      box-shadow: 0px 1px 3px 1px rgba(0, 0, 0, 0.15);\n",
              "      filter: drop-shadow(0px 1px 2px rgba(0, 0, 0, 0.3));\n",
              "      fill: #FFFFFF;\n",
              "    }\n",
              "  </style>\n",
              "\n",
              "      <script>\n",
              "        const buttonEl =\n",
              "          document.querySelector('#df-055e8858-e89d-4d00-a532-1ec3d5f67f29 button.colab-df-convert');\n",
              "        buttonEl.style.display =\n",
              "          google.colab.kernel.accessAllowed ? 'block' : 'none';\n",
              "\n",
              "        async function convertToInteractive(key) {\n",
              "          const element = document.querySelector('#df-055e8858-e89d-4d00-a532-1ec3d5f67f29');\n",
              "          const dataTable =\n",
              "            await google.colab.kernel.invokeFunction('convertToInteractive',\n",
              "                                                     [key], {});\n",
              "          if (!dataTable) return;\n",
              "\n",
              "          const docLinkHtml = 'Like what you see? Visit the ' +\n",
              "            '<a target=\"_blank\" href=https://colab.research.google.com/notebooks/data_table.ipynb>data table notebook</a>'\n",
              "            + ' to learn more about interactive tables.';\n",
              "          element.innerHTML = '';\n",
              "          dataTable['output_type'] = 'display_data';\n",
              "          await google.colab.output.renderOutput(dataTable, element);\n",
              "          const docLink = document.createElement('div');\n",
              "          docLink.innerHTML = docLinkHtml;\n",
              "          element.appendChild(docLink);\n",
              "        }\n",
              "      </script>\n",
              "    </div>\n",
              "  </div>\n",
              "  "
            ]
          },
          "metadata": {},
          "execution_count": 232
        }
      ]
    },
    {
      "cell_type": "code",
      "source": [
        "boston.drop('RAD',axis=1,inplace=True)"
      ],
      "metadata": {
        "id": "uWe3fmnMDBgB"
      },
      "execution_count": 233,
      "outputs": []
    },
    {
      "cell_type": "markdown",
      "source": [
        "We then check if there are any duplicate rows in the data"
      ],
      "metadata": {
        "id": "mK-V_Sc1sUak"
      }
    },
    {
      "cell_type": "code",
      "source": [
        "print(\"Number of duplicate rows: \"+str(boston.duplicated().sum()))"
      ],
      "metadata": {
        "colab": {
          "base_uri": "https://localhost:8080/"
        },
        "id": "uJL6wVVIxOm9",
        "outputId": "290f4dbb-464e-40a5-cb7e-f622f1bf10de"
      },
      "execution_count": 234,
      "outputs": [
        {
          "output_type": "stream",
          "name": "stdout",
          "text": [
            "Number of duplicate rows: 0\n"
          ]
        }
      ]
    },
    {
      "cell_type": "markdown",
      "source": [
        "We then check for any outliers in the data"
      ],
      "metadata": {
        "id": "1VimnMgCsd_k"
      }
    },
    {
      "cell_type": "code",
      "source": [
        "for c in boston.columns:\n",
        "  boston[c].plot(kind='box',figsize=(5,5))\n",
        "  plot.show()"
      ],
      "metadata": {
        "id": "D1OCxW8VxOkf",
        "colab": {
          "base_uri": "https://localhost:8080/",
          "height": 1000
        },
        "outputId": "f6da7d94-74a4-42e8-d88a-5797fa1ffebf"
      },
      "execution_count": 235,
      "outputs": [
        {
          "output_type": "display_data",
          "data": {
            "text/plain": [
              "<Figure size 360x360 with 1 Axes>"
            ],
            "image/png": "[encoded data removed]"
          },
          "metadata": {
            "needs_background": "light"
          }
        },
        {
          "output_type": "display_data",
          "data": {
            "text/plain": [
              "<Figure size 360x360 with 1 Axes>"
            ],
            "image/png": "[encoded data removed]"
          },
          "metadata": {
            "needs_background": "light"
          }
        },
        {
          "output_type": "display_data",
          "data": {
            "text/plain": [
              "<Figure size 360x360 with 1 Axes>"
            ],
            "image/png": "[encoded data removed]"
          },
          "metadata": {
            "needs_background": "light"
          }
        },
        {
          "output_type": "display_data",
          "data": {
            "text/plain": [
              "<Figure size 360x360 with 1 Axes>"
            ],
            "image/png": "[encoded data removed]"
          },
          "metadata": {
            "needs_background": "light"
          }
        },
        {
          "output_type": "display_data",
          "data": {
            "text/plain": [
              "<Figure size 360x360 with 1 Axes>"
            ],
            "image/png": "[encoded data removed]"
          },
          "metadata": {
            "needs_background": "light"
          }
        },
        {
          "output_type": "display_data",
          "data": {
            "text/plain": [
              "<Figure size 360x360 with 1 Axes>"
            ],
            "image/png": "[encoded data removed]"
          },
          "metadata": {
            "needs_background": "light"
          }
        },
        {
          "output_type": "display_data",
          "data": {
            "text/plain": [
              "<Figure size 360x360 with 1 Axes>"
            ],
            "image/png": "[encoded data removed]"
          },
          "metadata": {
            "needs_background": "light"
          }
        },
        {
          "output_type": "display_data",
          "data": {
            "text/plain": [
              "<Figure size 360x360 with 1 Axes>"
            ],
            "image/png": "[encoded data removed]"
          },
          "metadata": {
            "needs_background": "light"
          }
        },
        {
          "output_type": "display_data",
          "data": {
            "text/plain": [
              "<Figure size 360x360 with 1 Axes>"
            ],
            "image/png": "[encoded data removed]"
          },
          "metadata": {
            "needs_background": "light"
          }
        },
        {
          "output_type": "display_data",
          "data": {
            "text/plain": [
              "<Figure size 360x360 with 1 Axes>"
            ],
            "image/png": "[encoded data removed]"
          },
          "metadata": {
            "needs_background": "light"
          }
        },
        {
          "output_type": "display_data",
          "data": {
            "text/plain": [
              "<Figure size 360x360 with 1 Axes>"
            ],
            "image/png": "[encoded data removed]"
          },
          "metadata": {
            "needs_background": "light"
          }
        },
        {
          "output_type": "display_data",
          "data": {
            "text/plain": [
              "<Figure size 360x360 with 1 Axes>"
            ],
            "image/png": "[encoded data removed]"
          },
          "metadata": {
            "needs_background": "light"
          }
        },
        {
          "output_type": "display_data",
          "data": {
            "text/plain": [
              "<Figure size 360x360 with 1 Axes>"
            ],
            "image/png": "[encoded data removed]"
          },
          "metadata": {
            "needs_background": "light"
          }
        }
      ]
    },
    {
      "cell_type": "markdown",
      "source": [
        "Studying the box graphs, there really isn't any outlier data. There are a few data points that are extreme in CRIM but the distribution is more spread out rather than saying that it is an outlier"
      ],
      "metadata": {
        "id": "Yj9lbhReDk_m"
      }
    },
    {
      "cell_type": "markdown",
      "source": [
        "We now split the dataset into test and train sets"
      ],
      "metadata": {
        "id": "E9YUFRPcsro3"
      }
    },
    {
      "cell_type": "code",
      "source": [
        "old_mean = boston.mean()\n",
        "old_std = boston.std(ddof=0)\n",
        "boston = (boston - old_mean)/old_std\n",
        "boston_train = boston.loc[:355].copy(deep=True)\n",
        "boston_test = boston.loc[356:].copy(deep=True)"
      ],
      "metadata": {
        "id": "3mKu9nFKxOiH"
      },
      "execution_count": 236,
      "outputs": []
    },
    {
      "cell_type": "markdown",
      "source": [
        "We now run gradient descent for linear regression with the mean square error cost function to minimise theta"
      ],
      "metadata": {
        "id": "ClUYWhEHs0-U"
      }
    },
    {
      "cell_type": "code",
      "source": [
        "output_feature_train = boston_train['MEDV']\n",
        "input_feature_train = boston_train.drop('MEDV',axis=1)\n",
        "\n",
        "n=len(input_feature_train.columns) # number of features\n",
        "m=len(input_feature_train.index)  # the number of training rows\n",
        "\n",
        "X_train=np.ones(m)\n",
        "#print(X.shape)\n",
        "for c in input_feature_train.columns:\n",
        "  X_r = input_feature_train[c].to_numpy()\n",
        "  #print(X_r.shape)\n",
        "  X_train=np.vstack([X_train,X_r])  #X0 to Xn are here\n",
        "  #print(X.shape)\n",
        "  #input()\n",
        "#print(X.shape)\n",
        "\n",
        "alpha = 0.006  # learning rate\n",
        "\n",
        "theta = np.random.rand(n+1)\n",
        "#print(theta.shape)\n",
        "\n",
        "y_train = output_feature_train\n",
        "#print(y.shape)\n",
        "\n",
        "cost_list = []\n",
        "cost_list.append(1e10) # starting off with a large value for the cost function. From here we will optimise down to minimum\n",
        "\n",
        "iter = 0 # keeping track of iterations of gradient descent\n",
        "\n",
        "run=True\n",
        "while run:\n",
        "  \n",
        "  iter+=1\n",
        "\n",
        "  # we are calculating prediction multiplying X and theta matrix \n",
        "  prediction = np.dot(theta, X_train)\n",
        "  \n",
        "  # we calculate the error that is the difference from the expected cost from prediction\n",
        "  error = prediction - y_train\n",
        "\n",
        "  # we then calculate the mean squared error\n",
        "  cost = 1/(2*m) * np.dot(error, error.T)\n",
        "  #print(cost)\n",
        "  cost_list.append(cost) \n",
        "\n",
        "  theta = theta - (alpha * (1/m) * np.dot(error, X_train.T)) # simultaneous theta 0 to theta n update \n",
        "  \n",
        "  changeInCost = cost_list[iter-1]-cost_list[iter] # change in cost between every iteration\n",
        "  if changeInCost < 1e-9: # if the change is small enough then we say gradient descent has converged to the minima\n",
        "    run=False # so we break out of the loop\n",
        "\n",
        "dummy=cost_list.pop(0)\n",
        "print(theta)"
      ],
      "metadata": {
        "colab": {
          "base_uri": "https://localhost:8080/"
        },
        "id": "KZAC9SmmEifz",
        "outputId": "b7d52714-554d-4e6c-ef85-f1da49e657a1"
      },
      "execution_count": 237,
      "outputs": [
        {
          "output_type": "stream",
          "name": "stdout",
          "text": [
            "[ 0.27211178  1.01765239  0.03853014  0.02331004  0.02615803 -0.08629362\n",
            "  0.70650092 -0.13457514 -0.19307656 -0.24962191 -0.1396039   0.14925515\n",
            " -0.08222672]\n"
          ]
        }
      ]
    },
    {
      "cell_type": "markdown",
      "source": [
        "We then plot the change in cost as the gradient descent runs"
      ],
      "metadata": {
        "id": "EbhTG_yYta0x"
      }
    },
    {
      "cell_type": "code",
      "source": [
        "plot.title('Cost Function J', size = 30)\n",
        "plot.xlabel('No. of iterations', size=20)\n",
        "plot.ylabel('Cost', size=20)\n",
        "plot.plot(cost_list)\n",
        "plot.show()"
      ],
      "metadata": {
        "colab": {
          "base_uri": "https://localhost:8080/",
          "height": 317
        },
        "id": "s2EvQG-vEwtU",
        "outputId": "b7d0dca8-57be-435d-e80f-c489b6da930d"
      },
      "execution_count": 238,
      "outputs": [
        {
          "output_type": "display_data",
          "data": {
            "text/plain": [
              "<Figure size 432x288 with 1 Axes>"
            ],
            "image/png": "[encoded data removed]"
          },
          "metadata": {
            "needs_background": "light"
          }
        }
      ]
    },
    {
      "cell_type": "markdown",
      "source": [
        "We then calcuate the mean square error agaisnt the test data"
      ],
      "metadata": {
        "id": "18GJ5B3UtgDZ"
      }
    },
    {
      "cell_type": "code",
      "source": [
        "output_feature_test = boston_train['MEDV']\n",
        "input_feature_test = boston_train.drop('MEDV',axis=1)\n",
        "\n",
        "n=len(input_feature_test.columns) # number of features\n",
        "m=len(input_feature_test.index)  # the number of training rows\n",
        "\n",
        "X_test=np.ones(m)\n",
        "#print(X.shape)\n",
        "for c in input_feature_test.columns:\n",
        "  X_r = input_feature_test[c].to_numpy()\n",
        "  #print(X_r.shape)\n",
        "  X_test=np.vstack([X_test,X_r])  #X0 to Xn are here\n",
        "  #print(X.shape)\n",
        "  #input()\n",
        "#print(X.shape)\n",
        "\n",
        "predictions_test = np.dot(theta,X_test)\n",
        "#print(predictions_test.shape)\n",
        "error = output_feature_test - predictions_test\n",
        "squared_error = np.dot(error,error.T)\n",
        "mean_squared_error = squared_error/len(input_feature_test)\n",
        "print(mean_squared_error)"
      ],
      "metadata": {
        "colab": {
          "base_uri": "https://localhost:8080/"
        },
        "id": "8WRadMD5E1S0",
        "outputId": "546b004e-3cfb-4e7e-ba51-b079d7fdaf63"
      },
      "execution_count": 239,
      "outputs": [
        {
          "output_type": "stream",
          "name": "stdout",
          "text": [
            "0.10830378355073497\n"
          ]
        }
      ]
    },
    {
      "cell_type": "markdown",
      "source": [
        "**Normal method**"
      ],
      "metadata": {
        "id": "QA8-aahbK9IO"
      }
    },
    {
      "cell_type": "markdown",
      "source": [
        "Normal method depends on the matrix calcualtion for the system of quations that is theta, X and Y\n",
        "\n",
        "we use the formula :\n",
        "\n",
        "![img1.png](data:image/png;base64,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)"
      ],
      "metadata": {
        "id": "rwSnrexztkro"
      }
    },
    {
      "cell_type": "code",
      "source": [
        "n=len(input_feature_train.columns) # number of features\n",
        "m=len(input_feature_train.index)  # the number of training rows\n",
        "\n",
        "X_train=np.ones(m)\n",
        "#print(X.shape)\n",
        "for c in input_feature_train.columns:\n",
        "  X_r = input_feature_train[c].to_numpy()\n",
        "  #print(X_r.shape)\n",
        "  X_train=np.vstack([X_train,X_r])  #X0 to Xn are here\n",
        "  #print(X.shape)\n",
        "  #input()\n",
        "#print(X.shape)\n",
        "\n",
        "y_train = output_feature_train\n",
        "\n",
        "XXT = np.matmul(X_train.T,X_train)\n",
        "\n",
        "XXT_inv = np.linalg.pinv(XXT)\n",
        "\n",
        "XXT_inv_XT = np.matmul(XXT_inv,X_train.T)\n",
        "\n",
        "theta_normal = np.matmul(XXT_inv_XT.T,y_train.T)\n",
        "\n",
        "print(theta_normal)"
      ],
      "metadata": {
        "colab": {
          "base_uri": "https://localhost:8080/"
        },
        "id": "YlWMJsJ3LKaF",
        "outputId": "f0195fd2-6c5a-409d-aae0-ac5bee5372da"
      },
      "execution_count": 240,
      "outputs": [
        {
          "output_type": "stream",
          "name": "stdout",
          "text": [
            "[ 0.35173238  1.25270212  0.0388231   0.02170659  0.02571973 -0.09869975\n",
            "  0.70640041 -0.13452794 -0.19503272 -0.25264141 -0.13779777  0.15749332\n",
            " -0.08325713]\n"
          ]
        }
      ]
    },
    {
      "cell_type": "code",
      "source": [
        "# let us compare the thetas that we have got\n",
        "print(np.abs(theta-theta_normal))\n",
        "# this is within the ball park of differences using partial inverse"
      ],
      "metadata": {
        "colab": {
          "base_uri": "https://localhost:8080/"
        },
        "id": "9m_mGVWIkd3d",
        "outputId": "7b740943-a244-451f-b0d2-03406d05a242"
      },
      "execution_count": 241,
      "outputs": [
        {
          "output_type": "stream",
          "name": "stdout",
          "text": [
            "[7.96205952e-02 2.35049729e-01 2.92955702e-04 1.60344496e-03\n",
            " 4.38300632e-04 1.24061331e-02 1.00501752e-04 4.71974899e-05\n",
            " 1.95615727e-03 3.01949507e-03 1.80613148e-03 8.23817320e-03\n",
            " 1.03040928e-03]\n"
          ]
        }
      ]
    },
    {
      "cell_type": "markdown",
      "source": [
        "Now calculating the mean squared error for normal method"
      ],
      "metadata": {
        "id": "DryNtEDqkmTP"
      }
    },
    {
      "cell_type": "code",
      "source": [
        "n=len(input_feature_test.columns) # number of features\n",
        "m=len(input_feature_test.index)  # the number of training rows\n",
        "\n",
        "X_test=np.ones(m)\n",
        "#print(X.shape)\n",
        "for c in input_feature_test.columns:\n",
        "  X_r = input_feature_test[c].to_numpy()\n",
        "  #print(X_r.shape)\n",
        "  X_test=np.vstack([X_test,X_r])  #X0 to Xn are here\n",
        "\n",
        "y = output_feature_test\n",
        "\n",
        "predictions_test = np.dot(theta_normal.T,X_test)\n",
        "\n",
        "error = output_feature_test - predictions_test\n",
        "squared_error = np.dot(error,error.T)\n",
        "mean_squared_error = squared_error/len(input_feature_test)\n",
        "print(mean_squared_error)"
      ],
      "metadata": {
        "colab": {
          "base_uri": "https://localhost:8080/"
        },
        "id": "TrVyE-bVLQ1t",
        "outputId": "20a8e64a-f334-4942-d9a4-2d76565c8697"
      },
      "execution_count": 242,
      "outputs": [
        {
          "output_type": "stream",
          "name": "stdout",
          "text": [
            "0.10820227217880918\n"
          ]
        }
      ]
    },
    {
      "cell_type": "markdown",
      "source": [
        "The mean square error is almost identical as well\n",
        "\n",
        "Moreover, compared to univariate the mean sqaured error has gone from ~0.437 to ~ 0.108 which is a sizeable improvement "
      ],
      "metadata": {
        "id": "JDzGrtD8udwZ"
      }
    }
  ]
}