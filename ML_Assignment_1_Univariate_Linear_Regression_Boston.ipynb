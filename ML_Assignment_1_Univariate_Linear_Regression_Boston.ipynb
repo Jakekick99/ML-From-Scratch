{
  "nbformat": 4,
  "nbformat_minor": 0,
  "metadata": {
    "colab": {
      "provenance": [],
      "collapsed_sections": []
    },
    "kernelspec": {
      "name": "python3",
      "display_name": "Python 3"
    },
    "language_info": {
      "name": "python"
    }
  },
  "cells": [
    {
      "cell_type": "code",
      "execution_count": 4,
      "metadata": {
        "id": "pQI0Nt3NPgz_"
      },
      "outputs": [],
      "source": [
        "import numpy as np\n",
        "import pandas as pd\n",
        "import matplotlib.pyplot as plot\n",
        "%matplotlib inline\n",
        "\n",
        "boston = pd.read_csv(\"/content/boston.csv\")"
      ]
    },
    {
      "cell_type": "markdown",
      "source": [
        "We start off by importing the packages and dataset into the program"
      ],
      "metadata": {
        "id": "j1K1hF1rupOF"
      }
    },
    {
      "cell_type": "code",
      "source": [
        "print(boston.head())"
      ],
      "metadata": {
        "colab": {
          "base_uri": "https://localhost:8080/"
        },
        "id": "yHuFedz1eYvi",
        "outputId": "2c4871cd-d40b-4a55-b127-85b46f5186ac"
      },
      "execution_count": 5,
      "outputs": [
        {
          "output_type": "stream",
          "name": "stdout",
          "text": [
            "      CRIM    ZN  INDUS  CHAS    NOX     RM   AGE     DIS  RAD    TAX  \\\n",
            "0  0.00632  18.0   2.31     0  0.538  6.575  65.2  4.0900    1  296.0   \n",
            "1  0.02731   0.0   7.07     0  0.469  6.421  78.9  4.9671    2  242.0   \n",
            "2  0.02729   0.0   7.07     0  0.469  7.185  61.1  4.9671    2  242.0   \n",
            "3  0.03237   0.0   2.18     0  0.458  6.998  45.8  6.0622    3  222.0   \n",
            "4  0.06905   0.0   2.18     0  0.458  7.147  54.2  6.0622    3  222.0   \n",
            "\n",
            "   PTRATIO       B  LSTAT  MEDV  \n",
            "0     15.3  396.90   4.98  24.0  \n",
            "1     17.8  396.90   9.14  21.6  \n",
            "2     17.8  392.83   4.03  34.7  \n",
            "3     18.7  394.63   2.94  33.4  \n",
            "4     18.7  396.90   5.33  36.2  \n"
          ]
        }
      ]
    },
    {
      "cell_type": "code",
      "source": [
        "print(\"No. of features = \",len(boston.columns))\n",
        "print(\"No. of training data = \",len(boston))"
      ],
      "metadata": {
        "colab": {
          "base_uri": "https://localhost:8080/"
        },
        "id": "cnV0QS7iftqL",
        "outputId": "de9c0cba-432b-41fc-d164-101a1f83b3ca"
      },
      "execution_count": 6,
      "outputs": [
        {
          "output_type": "stream",
          "name": "stdout",
          "text": [
            "No. of features =  14\n",
            "No. of training data =  506\n"
          ]
        }
      ]
    },
    {
      "cell_type": "code",
      "source": [
        "print(boston.describe())"
      ],
      "metadata": {
        "colab": {
          "base_uri": "https://localhost:8080/"
        },
        "id": "HVNqRDnPegKJ",
        "outputId": "825dda3c-3460-43aa-d43b-bcca418425bb"
      },
      "execution_count": 7,
      "outputs": [
        {
          "output_type": "stream",
          "name": "stdout",
          "text": [
            "             CRIM          ZN       INDUS        CHAS         NOX          RM  \\\n",
            "count  506.000000  506.000000  506.000000  506.000000  506.000000  506.000000   \n",
            "mean     3.613524   11.363636   11.136779    0.069170    0.554695    6.284634   \n",
            "std      8.601545   23.322453    6.860353    0.253994    0.115878    0.702617   \n",
            "min      0.006320    0.000000    0.460000    0.000000    0.385000    3.561000   \n",
            "25%      0.082045    0.000000    5.190000    0.000000    0.449000    5.885500   \n",
            "50%      0.256510    0.000000    9.690000    0.000000    0.538000    6.208500   \n",
            "75%      3.677083   12.500000   18.100000    0.000000    0.624000    6.623500   \n",
            "max     88.976200  100.000000   27.740000    1.000000    0.871000    8.780000   \n",
            "\n",
            "              AGE         DIS         RAD         TAX     PTRATIO           B  \\\n",
            "count  506.000000  506.000000  506.000000  506.000000  506.000000  506.000000   \n",
            "mean    68.574901    3.795043    9.549407  408.237154   18.455534  356.674032   \n",
            "std     28.148861    2.105710    8.707259  168.537116    2.164946   91.294864   \n",
            "min      2.900000    1.129600    1.000000  187.000000   12.600000    0.320000   \n",
            "25%     45.025000    2.100175    4.000000  279.000000   17.400000  375.377500   \n",
            "50%     77.500000    3.207450    5.000000  330.000000   19.050000  391.440000   \n",
            "75%     94.075000    5.188425   24.000000  666.000000   20.200000  396.225000   \n",
            "max    100.000000   12.126500   24.000000  711.000000   22.000000  396.900000   \n",
            "\n",
            "            LSTAT        MEDV  \n",
            "count  506.000000  506.000000  \n",
            "mean    12.653063   22.532806  \n",
            "std      7.141062    9.197104  \n",
            "min      1.730000    5.000000  \n",
            "25%      6.950000   17.025000  \n",
            "50%     11.360000   21.200000  \n",
            "75%     16.955000   25.000000  \n",
            "max     37.970000   50.000000  \n"
          ]
        }
      ]
    },
    {
      "cell_type": "markdown",
      "source": [
        "We also see how many rows and columns i.e number of training rows and features there are in the dataset.\n",
        "\n",
        "We now check how many 0s are there in the dataset."
      ],
      "metadata": {
        "id": "yYkOW_giutBq"
      }
    },
    {
      "cell_type": "code",
      "source": [
        "i=1\n",
        "print(\"## | Column Name | Count\")\n",
        "print(\"------------------------\")\n",
        "for c in boston.columns:\n",
        "  print(f\"{i:02d}\",c.ljust(11,\" \"),boston[c].isna().sum(),sep=\" | \")\n",
        "  i+=1"
      ],
      "metadata": {
        "colab": {
          "base_uri": "https://localhost:8080/"
        },
        "id": "nWVxHtZae-fL",
        "outputId": "dce97cb3-e5c1-45d8-90f2-0a707f617035"
      },
      "execution_count": 8,
      "outputs": [
        {
          "output_type": "stream",
          "name": "stdout",
          "text": [
            "## | Column Name | Count\n",
            "------------------------\n",
            "01 | CRIM        | 0\n",
            "02 | ZN          | 0\n",
            "03 | INDUS       | 0\n",
            "04 | CHAS        | 0\n",
            "05 | NOX         | 0\n",
            "06 | RM          | 0\n",
            "07 | AGE         | 0\n",
            "08 | DIS         | 0\n",
            "09 | RAD         | 0\n",
            "10 | TAX         | 0\n",
            "11 | PTRATIO     | 0\n",
            "12 | B           | 0\n",
            "13 | LSTAT       | 0\n",
            "14 | MEDV        | 0\n"
          ]
        }
      ]
    },
    {
      "cell_type": "markdown",
      "source": [
        "There are no NaN or other missing values in the data"
      ],
      "metadata": {
        "id": "FBBll8UXfWO1"
      }
    },
    {
      "cell_type": "code",
      "source": [
        "i=1\n",
        "print(\"## | Column Name | Count\")\n",
        "print(\"-------------------------\")\n",
        "for c in boston.columns:\n",
        "  t=(boston[c]==0).sum()\n",
        "  print(f\"{i:02d}\",c.ljust(11,\" \"),t,sep=\" | \")\n",
        "  i+=1"
      ],
      "metadata": {
        "colab": {
          "base_uri": "https://localhost:8080/"
        },
        "id": "mpE0hZgxfcEv",
        "outputId": "68ad5cd8-f79f-404a-9f58-89a524d9e3e0"
      },
      "execution_count": 9,
      "outputs": [
        {
          "output_type": "stream",
          "name": "stdout",
          "text": [
            "## | Column Name | Count\n",
            "-------------------------\n",
            "01 | CRIM        | 0\n",
            "02 | ZN          | 372\n",
            "03 | INDUS       | 0\n",
            "04 | CHAS        | 471\n",
            "05 | NOX         | 0\n",
            "06 | RM          | 0\n",
            "07 | AGE         | 0\n",
            "08 | DIS         | 0\n",
            "09 | RAD         | 0\n",
            "10 | TAX         | 0\n",
            "11 | PTRATIO     | 0\n",
            "12 | B           | 0\n",
            "13 | LSTAT       | 0\n",
            "14 | MEDV        | 0\n"
          ]
        }
      ]
    },
    {
      "cell_type": "markdown",
      "source": [
        "We see that two columns ZN and CHAS are having significant number of zeroes.\n",
        "\n",
        "However, ZN is **proportion of residential land zoned for lots over 25,000 sq.ft.** This data is allowed to have zeroes.\n",
        "\n",
        "Similarly, CHAS is **Charles River dummy variable (= 1 if tract bounds river; 0 otherwise)** This data too is allowed to have zeroes."
      ],
      "metadata": {
        "id": "vFhIpRoafniu"
      }
    },
    {
      "cell_type": "markdown",
      "source": [
        "Since our entire data is continous numerical in range, there are no features that need encoding."
      ],
      "metadata": {
        "id": "b7efgbsUglR_"
      }
    },
    {
      "cell_type": "code",
      "source": [
        "print(boston.var())"
      ],
      "metadata": {
        "colab": {
          "base_uri": "https://localhost:8080/"
        },
        "id": "PBPagw1cg254",
        "outputId": "d5f3007d-d63e-4f12-a4ab-f36bdaf0f855"
      },
      "execution_count": 10,
      "outputs": [
        {
          "output_type": "stream",
          "name": "stdout",
          "text": [
            "CRIM          73.986578\n",
            "ZN           543.936814\n",
            "INDUS         47.064442\n",
            "CHAS           0.064513\n",
            "NOX            0.013428\n",
            "RM             0.493671\n",
            "AGE          792.358399\n",
            "DIS            4.434015\n",
            "RAD           75.816366\n",
            "TAX        28404.759488\n",
            "PTRATIO        4.686989\n",
            "B           8334.752263\n",
            "LSTAT         50.994760\n",
            "MEDV          84.586724\n",
            "dtype: float64\n"
          ]
        }
      ]
    },
    {
      "cell_type": "code",
      "source": [
        "corr_matrix = boston.corr()\n",
        "corr_matrix.drop(['CRIM','ZN','INDUS','CHAS','NOX','RM','AGE','DIS','RAD','TAX','PTRATIO','B','LSTAT'],axis=0,inplace=True)\n",
        "corr_matrix[corr_matrix.abs()>0.7]"
      ],
      "metadata": {
        "colab": {
          "base_uri": "https://localhost:8080/",
          "height": 81
        },
        "id": "w2caqCrwg_El",
        "outputId": "e37e689c-9b27-4267-e172-31c4aaff45d2"
      },
      "execution_count": 11,
      "outputs": [
        {
          "output_type": "execute_result",
          "data": {
            "text/plain": [
              "      CRIM  ZN  INDUS  CHAS  NOX  RM  AGE  DIS  RAD  TAX  PTRATIO   B  \\\n",
              "MEDV   NaN NaN    NaN   NaN  NaN NaN  NaN  NaN  NaN  NaN      NaN NaN   \n",
              "\n",
              "         LSTAT  MEDV  \n",
              "MEDV -0.737663   1.0  "
            ],
            "text/html": [
              "\n",
              "  <div id=\"df-22769fc9-e255-4905-a794-8cfdaee9b15e\">\n",
              "    <div class=\"colab-df-container\">\n",
              "      <div>\n",
              "<style scoped>\n",
              "    .dataframe tbody tr th:only-of-type {\n",
              "        vertical-align: middle;\n",
              "    }\n",
              "\n",
              "    .dataframe tbody tr th {\n",
              "        vertical-align: top;\n",
              "    }\n",
              "\n",
              "    .dataframe thead th {\n",
              "        text-align: right;\n",
              "    }\n",
              "</style>\n",
              "<table border=\"1\" class=\"dataframe\">\n",
              "  <thead>\n",
              "    <tr style=\"text-align: right;\">\n",
              "      <th></th>\n",
              "      <th>CRIM</th>\n",
              "      <th>ZN</th>\n",
              "      <th>INDUS</th>\n",
              "      <th>CHAS</th>\n",
              "      <th>NOX</th>\n",
              "      <th>RM</th>\n",
              "      <th>AGE</th>\n",
              "      <th>DIS</th>\n",
              "      <th>RAD</th>\n",
              "      <th>TAX</th>\n",
              "      <th>PTRATIO</th>\n",
              "      <th>B</th>\n",
              "      <th>LSTAT</th>\n",
              "      <th>MEDV</th>\n",
              "    </tr>\n",
              "  </thead>\n",
              "  <tbody>\n",
              "    <tr>\n",
              "      <th>MEDV</th>\n",
              "      <td>NaN</td>\n",
              "      <td>NaN</td>\n",
              "      <td>NaN</td>\n",
              "      <td>NaN</td>\n",
              "      <td>NaN</td>\n",
              "      <td>NaN</td>\n",
              "      <td>NaN</td>\n",
              "      <td>NaN</td>\n",
              "      <td>NaN</td>\n",
              "      <td>NaN</td>\n",
              "      <td>NaN</td>\n",
              "      <td>NaN</td>\n",
              "      <td>-0.737663</td>\n",
              "      <td>1.0</td>\n",
              "    </tr>\n",
              "  </tbody>\n",
              "</table>\n",
              "</div>\n",
              "      <button class=\"colab-df-convert\" onclick=\"convertToInteractive('df-22769fc9-e255-4905-a794-8cfdaee9b15e')\"\n",
              "              title=\"Convert this dataframe to an interactive table.\"\n",
              "              style=\"display:none;\">\n",
              "        \n",
              "  <svg xmlns=\"http://www.w3.org/2000/svg\" height=\"24px\"viewBox=\"0 0 24 24\"\n",
              "       width=\"24px\">\n",
              "    <path d=\"M0 0h24v24H0V0z\" fill=\"none\"/>\n",
              "    <path d=\"M18.56 5.44l.94 2.06.94-2.06 2.06-.94-2.06-.94-.94-2.06-.94 2.06-2.06.94zm-11 1L8.5 8.5l.94-2.06 2.06-.94-2.06-.94L8.5 2.5l-.94 2.06-2.06.94zm10 10l.94 2.06.94-2.06 2.06-.94-2.06-.94-.94-2.06-.94 2.06-2.06.94z\"/><path d=\"M17.41 7.96l-1.37-1.37c-.4-.4-.92-.59-1.43-.59-.52 0-1.04.2-1.43.59L10.3 9.45l-7.72 7.72c-.78.78-.78 2.05 0 2.83L4 21.41c.39.39.9.59 1.41.59.51 0 1.02-.2 1.41-.59l7.78-7.78 2.81-2.81c.8-.78.8-2.07 0-2.86zM5.41 20L4 18.59l7.72-7.72 1.47 1.35L5.41 20z\"/>\n",
              "  </svg>\n",
              "      </button>\n",
              "      \n",
              "  <style>\n",
              "    .colab-df-container {\n",
              "      display:flex;\n",
              "      flex-wrap:wrap;\n",
              "      gap: 12px;\n",
              "    }\n",
              "\n",
              "    .colab-df-convert {\n",
              "      background-color: #E8F0FE;\n",
              "      border: none;\n",
              "      border-radius: 50%;\n",
              "      cursor: pointer;\n",
              "      display: none;\n",
              "      fill: #1967D2;\n",
              "      height: 32px;\n",
              "      padding: 0 0 0 0;\n",
              "      width: 32px;\n",
              "    }\n",
              "\n",
              "    .colab-df-convert:hover {\n",
              "      background-color: #E2EBFA;\n",
              "      box-shadow: 0px 1px 2px rgba(60, 64, 67, 0.3), 0px 1px 3px 1px rgba(60, 64, 67, 0.15);\n",
              "      fill: #174EA6;\n",
              "    }\n",
              "\n",
              "    [theme=dark] .colab-df-convert {\n",
              "      background-color: #3B4455;\n",
              "      fill: #D2E3FC;\n",
              "    }\n",
              "\n",
              "    [theme=dark] .colab-df-convert:hover {\n",
              "      background-color: #434B5C;\n",
              "      box-shadow: 0px 1px 3px 1px rgba(0, 0, 0, 0.15);\n",
              "      filter: drop-shadow(0px 1px 2px rgba(0, 0, 0, 0.3));\n",
              "      fill: #FFFFFF;\n",
              "    }\n",
              "  </style>\n",
              "\n",
              "      <script>\n",
              "        const buttonEl =\n",
              "          document.querySelector('#df-22769fc9-e255-4905-a794-8cfdaee9b15e button.colab-df-convert');\n",
              "        buttonEl.style.display =\n",
              "          google.colab.kernel.accessAllowed ? 'block' : 'none';\n",
              "\n",
              "        async function convertToInteractive(key) {\n",
              "          const element = document.querySelector('#df-22769fc9-e255-4905-a794-8cfdaee9b15e');\n",
              "          const dataTable =\n",
              "            await google.colab.kernel.invokeFunction('convertToInteractive',\n",
              "                                                     [key], {});\n",
              "          if (!dataTable) return;\n",
              "\n",
              "          const docLinkHtml = 'Like what you see? Visit the ' +\n",
              "            '<a target=\"_blank\" href=https://colab.research.google.com/notebooks/data_table.ipynb>data table notebook</a>'\n",
              "            + ' to learn more about interactive tables.';\n",
              "          element.innerHTML = '';\n",
              "          dataTable['output_type'] = 'display_data';\n",
              "          await google.colab.output.renderOutput(dataTable, element);\n",
              "          const docLink = document.createElement('div');\n",
              "          docLink.innerHTML = docLinkHtml;\n",
              "          element.appendChild(docLink);\n",
              "        }\n",
              "      </script>\n",
              "    </div>\n",
              "  </div>\n",
              "  "
            ]
          },
          "metadata": {},
          "execution_count": 11
        }
      ]
    },
    {
      "cell_type": "markdown",
      "source": [
        "For the univariate analysis we pick the column with the highest correlation with the output feature. Here the output feature is MEDV and we take LSTAT as the input feature for the univariate linear regression."
      ],
      "metadata": {
        "id": "aZRGHSsiiXvA"
      }
    },
    {
      "cell_type": "code",
      "source": [
        "print(\"Number of duplicate rows: \"+str(boston.duplicated().sum()))"
      ],
      "metadata": {
        "colab": {
          "base_uri": "https://localhost:8080/"
        },
        "id": "WknCvmO1iVwU",
        "outputId": "8624c656-3142-4920-9146-1ccf5ab73d91"
      },
      "execution_count": 12,
      "outputs": [
        {
          "output_type": "stream",
          "name": "stdout",
          "text": [
            "Number of duplicate rows: 0\n"
          ]
        }
      ]
    },
    {
      "cell_type": "markdown",
      "source": [
        "There are no duplicate rows in the dataset"
      ],
      "metadata": {
        "id": "_2ECdoGairN3"
      }
    },
    {
      "cell_type": "code",
      "source": [
        "boston['LSTAT'].plot(kind='box',figsize=(5,5))\n",
        "plot.show()"
      ],
      "metadata": {
        "colab": {
          "base_uri": "https://localhost:8080/",
          "height": 320
        },
        "id": "rASYgfoIiq3w",
        "outputId": "eb3c4e55-5dcd-417e-e3a4-413a5a51fa30"
      },
      "execution_count": 13,
      "outputs": [
        {
          "output_type": "display_data",
          "data": {
            "text/plain": [
              "<Figure size 360x360 with 1 Axes>"
            ],
            "image/png": "[encoded data removed]"
          },
          "metadata": {
            "needs_background": "light"
          }
        }
      ]
    },
    {
      "cell_type": "markdown",
      "source": [
        "There doesn't seem to be any outliers  for the given feature as well"
      ],
      "metadata": {
        "id": "_I-WTxIui3uh"
      }
    },
    {
      "cell_type": "markdown",
      "source": [
        "Then we split the data into test and train data"
      ],
      "metadata": {
        "id": "VFQwHxR6u4a1"
      }
    },
    {
      "cell_type": "code",
      "source": [
        "old_mean = boston.mean()\n",
        "old_std = boston.std(ddof=0)\n",
        "boston = (boston - old_mean)/old_std\n",
        "boston_train = boston.loc[:355].copy(deep=True)\n",
        "boston_test = boston.loc[356:].copy(deep=True)\n",
        "output_price = boston_train['MEDV'].to_numpy()\n",
        "input_feature = boston_train['LSTAT'].to_numpy()"
      ],
      "metadata": {
        "id": "ojFh07haljwX"
      },
      "execution_count": 14,
      "outputs": []
    },
    {
      "cell_type": "markdown",
      "source": [
        "We plot the scatter of the input feature against the target feature"
      ],
      "metadata": {
        "id": "IACip4H6u7nj"
      }
    },
    {
      "cell_type": "code",
      "source": [
        "plot.scatter(input_feature,output_price,marker='.')\n",
        "plot.title(\"Boston Housing data Univariate\")\n",
        "plot.xlabel(\"LSTAT (Normalised)\")\n",
        "plot.ylabel(\"MEDV (Normalised)\")\n",
        "plot.show()"
      ],
      "metadata": {
        "colab": {
          "base_uri": "https://localhost:8080/",
          "height": 295
        },
        "id": "csq05SVrqYtC",
        "outputId": "150f87f2-173b-46f6-f236-206634e29682"
      },
      "execution_count": 15,
      "outputs": [
        {
          "output_type": "display_data",
          "data": {
            "text/plain": [
              "<Figure size 432x288 with 1 Axes>"
            ],
            "image/png": "[encoded data removed]"
          },
          "metadata": {
            "needs_background": "light"
          }
        }
      ]
    },
    {
      "cell_type": "markdown",
      "source": [
        "We now run gradient descent"
      ],
      "metadata": {
        "id": "lmGT2UTAvCdn"
      }
    },
    {
      "cell_type": "code",
      "source": [
        "x0 = np.ones(len(input_feature))\n",
        "X = np.stack([x0,input_feature])\n",
        "#print(X.shape)\n",
        "\n",
        "m=len(input_feature) # the number of training rows\n",
        "alpha = 0.01  # learning rate\n",
        "\n",
        "theta = np.random.rand(X.shape[0])\n",
        "#print(theta.shape)\n",
        "\n",
        "y = output_price\n",
        "#print(y.shape)\n",
        "\n",
        "cost_list = []\n",
        "cost_list.append(1e10) # starting off with a large value for the cost function. From here we will optimise down to minimum\n",
        "\n",
        "iter = 0 # keeping track of iterations of gradient descent\n",
        "\n",
        "run=True\n",
        "while run:\n",
        "  \n",
        "  iter+=1\n",
        "\n",
        "  # we are calculating prediction multiplying X and theta matrix \n",
        "  prediction = np.dot(theta, X)\n",
        "  \n",
        "  # we calculate the error that is the difference from the expected cost from prediction\n",
        "  error = prediction - y\n",
        "\n",
        "  # we then calculate the mean squared error\n",
        "  cost = 1/(2*m) * np.dot(error.T, error)\n",
        "\n",
        "  cost_list.append(cost) \n",
        "\n",
        "  theta = theta - (alpha * (1/m) * np.dot(X, error)) # simultaneous theta 0 to theta n update \n",
        "  \n",
        "  changeInCost = cost_list[iter-1]-cost_list[iter] # change in cost between every iteration\n",
        "  if changeInCost < 1e-8: # if the change is small enough then we say gradient descent has converged to the minima\n",
        "    run=False # so we break out of the loop\n",
        "\n",
        "dummy=cost_list.pop(0)\n",
        "\n",
        "print(theta)"
      ],
      "metadata": {
        "colab": {
          "base_uri": "https://localhost:8080/"
        },
        "id": "M6J_1KZRomVJ",
        "outputId": "234632d7-0cb3-46da-c23a-ed35434cfe9e"
      },
      "execution_count": 16,
      "outputs": [
        {
          "output_type": "stream",
          "name": "stdout",
          "text": [
            "[ 0.03214444 -0.74204529]\n"
          ]
        }
      ]
    },
    {
      "cell_type": "markdown",
      "source": [
        "we then plot the lowering of cost across mulitple iterations"
      ],
      "metadata": {
        "id": "HB5hbAo7vFFq"
      }
    },
    {
      "cell_type": "code",
      "source": [
        "plot.title('Cost Function J', size = 30)\n",
        "plot.xlabel('No. of iterations', size=20)\n",
        "plot.ylabel('Cost', size=20)\n",
        "plot.plot(cost_list)\n",
        "plot.show()"
      ],
      "metadata": {
        "colab": {
          "base_uri": "https://localhost:8080/",
          "height": 317
        },
        "id": "2Z5Mt6hj7Hwe",
        "outputId": "929988af-04c4-4254-d229-4d132c5d6ec0"
      },
      "execution_count": 17,
      "outputs": [
        {
          "output_type": "display_data",
          "data": {
            "text/plain": [
              "<Figure size 432x288 with 1 Axes>"
            ],
            "image/png": "[encoded data removed]"
          },
          "metadata": {
            "needs_background": "light"
          }
        }
      ]
    },
    {
      "cell_type": "markdown",
      "source": [
        "From the obtained theta we plot the decision boundary line onto the scatter plot"
      ],
      "metadata": {
        "id": "4m0O40JKvKQh"
      }
    },
    {
      "cell_type": "code",
      "source": [
        "plot.clf()\n",
        "plot.scatter(input_feature, output_price,marker='.',label='C0')\n",
        "y=theta[0]+input_feature*theta[1]\n",
        "plot.plot(input_feature,y,'C1')\n",
        "plot.show()"
      ],
      "metadata": {
        "colab": {
          "base_uri": "https://localhost:8080/",
          "height": 265
        },
        "id": "jyxqLehUUJ_I",
        "outputId": "2f5aa9f0-c81d-42b2-8aea-51a31b18f48b"
      },
      "execution_count": 18,
      "outputs": [
        {
          "output_type": "display_data",
          "data": {
            "text/plain": [
              "<Figure size 432x288 with 1 Axes>"
            ],
            "image/png": "[encoded data removed]"
          },
          "metadata": {
            "needs_background": "light"
          }
        }
      ]
    },
    {
      "cell_type": "markdown",
      "source": [
        "Finally we calculate the mean squared error"
      ],
      "metadata": {
        "id": "kZMT0kk1vQSU"
      }
    },
    {
      "cell_type": "code",
      "source": [
        "output_price_test = boston_test['MEDV'].to_numpy()\n",
        "input_feature_test = boston_test['LSTAT'].to_numpy()\n",
        "\n",
        "x0 = np.ones(len(input_feature_test))\n",
        "X = np.stack([x0,input_feature_test])\n",
        "predictions_test = np.dot(theta,X)\n",
        "\n",
        "error = output_price_test - predictions_test\n",
        "squared_error = np.dot(error,error.T)\n",
        "mean_squared_error = squared_error/len(input_feature_test)\n",
        "print(mean_squared_error)"
      ],
      "metadata": {
        "colab": {
          "base_uri": "https://localhost:8080/"
        },
        "id": "y4e7WRIZPml6",
        "outputId": "9aaba66a-0bde-45ba-d2b2-cc84cd4f8701"
      },
      "execution_count": 19,
      "outputs": [
        {
          "output_type": "stream",
          "name": "stdout",
          "text": [
            "0.437189515529147\n"
          ]
        }
      ]
    },
    {
      "cell_type": "markdown",
      "source": [
        "**Normal method**"
      ],
      "metadata": {
        "id": "ZeR5V0EvXSX_"
      }
    },
    {
      "cell_type": "markdown",
      "source": [
        "Again we are relying on the matrix formula for calculation"
      ],
      "metadata": {
        "id": "GBWBtxEuvT5d"
      }
    },
    {
      "cell_type": "code",
      "source": [
        "x0 = np.ones(len(input_feature))\n",
        "X = np.stack([x0,input_feature])\n",
        "\n",
        "y = output_price\n",
        "\n",
        "XXT = np.matmul(X.T,X)\n",
        "\n",
        "XXT_inv = np.linalg.pinv(XXT)\n",
        "\n",
        "XXT_inv_XT = np.matmul(XXT_inv,X.T)\n",
        "\n",
        "theta_normal = np.matmul(XXT_inv_XT.T,y)\n",
        "\n",
        "print(theta_normal)"
      ],
      "metadata": {
        "colab": {
          "base_uri": "https://localhost:8080/"
        },
        "id": "uKHKcxQUXU3_",
        "outputId": "6f053a6a-88cf-40ff-949f-69712a11e825"
      },
      "execution_count": 20,
      "outputs": [
        {
          "output_type": "stream",
          "name": "stdout",
          "text": [
            "[ 0.03109567 -0.74351233]\n"
          ]
        }
      ]
    },
    {
      "cell_type": "markdown",
      "source": [
        "The theta is same as the gradient descent uptil the second decimal point. That is because the matrix that I end up for inverse is singular and we have to do partial inverse which will mean the answer will not be accurate.\n",
        "\n",
        "Now calculating the mean squared error of the normal method:"
      ],
      "metadata": {
        "id": "3tIdASsWc19P"
      }
    },
    {
      "cell_type": "code",
      "source": [
        "output_price_test = boston_test['MEDV'].to_numpy()\n",
        "input_feature_test = boston_test['LSTAT'].to_numpy()\n",
        "\n",
        "x0 = np.ones(len(input_feature_test))\n",
        "X = np.stack([x0,input_feature_test])\n",
        "predictions_test = np.dot(theta_normal,X)\n",
        "\n",
        "error = output_price_test - predictions_test\n",
        "squared_error = np.dot(error,error.T)\n",
        "mean_squared_error = squared_error/len(input_feature_test)\n",
        "print(mean_squared_error)"
      ],
      "metadata": {
        "colab": {
          "base_uri": "https://localhost:8080/"
        },
        "id": "BoelqOA4dHFJ",
        "outputId": "cfed18c8-6119-4189-e10c-fc4cc8634d8c"
      },
      "execution_count": 21,
      "outputs": [
        {
          "output_type": "stream",
          "name": "stdout",
          "text": [
            "0.4370206518892171\n"
          ]
        }
      ]
    },
    {
      "cell_type": "markdown",
      "source": [
        "Again, very similar mean squared error difference as well"
      ],
      "metadata": {
        "id": "gk1Vr8-vdWeW"
      }
    }
  ]
}