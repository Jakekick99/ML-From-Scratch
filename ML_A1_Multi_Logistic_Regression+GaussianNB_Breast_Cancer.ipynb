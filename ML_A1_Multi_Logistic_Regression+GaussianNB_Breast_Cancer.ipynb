{
  "nbformat": 4,
  "nbformat_minor": 0,
  "metadata": {
    "colab": {
      "provenance": [],
      "collapsed_sections": []
    },
    "kernelspec": {
      "name": "python3",
      "display_name": "Python 3"
    },
    "language_info": {
      "name": "python"
    }
  },
  "cells": [
    {
      "cell_type": "markdown",
      "source": [
        "**TLDR of what we are going to do:**\n",
        "\n",
        "Step 1: Importing all the required packages and dataset for the assignment\n",
        "\n",
        "Step 2: Data preprocessing\n",
        "\n",
        "* Step 2A: Cleaning up the data of missing/NaN values\n",
        "* Step 2B: Cleaning up the data of 0 values\n",
        "* Step 2C: Dealing with categorical values\n",
        "* Step 2D: Checking Variance\n",
        "* Step 2E: Checking Correlation\n",
        "* Step 2F: Dealing with duplicate rows in the data\n",
        "* Step 2G: Outlier Removal\n",
        "* Step 2H: Z score normalisation and oulier removal\n",
        "* Step 2I: Splitting the data into train and test set\n",
        "\n",
        "Step 3: Logistic regression with multiple variable (multivariate)\n",
        "\n",
        "* Step 3A: Deciding on the input feature/variable (feature reduction)\n",
        "* Step 3B: Deciding on the output or predicted variable/feature\n",
        "* Step 3C: Running gradient descent\n",
        "\n",
        "Step 4: Testing against test data\n",
        "\n",
        "Step 5: Calculating F1 score"
      ],
      "metadata": {
        "id": "ydhkwGvxNSq3"
      }
    },
    {
      "cell_type": "markdown",
      "source": [
        "**Step 1 : Importing all the required packages and dataset for the assignment**\n",
        "\n",
        "We will be using Numpy Library to use the mathematical functions needed. Within Numpy, we will use Numpy.linalg sub package for specific linear algebra functions\n",
        "\n",
        "We will also use Pandas library for easy data manipulation and analysis. It will aid us with importing and manipulating the dataset during the preprocessing step and input it for training the model.\n",
        "\n",
        "Using pandas we will also import the CSV file into the program. Our dataset after opening in a spreadsheet program has been confirmed to have 33 (32 + 1 for index) columns and 569 rows."
      ],
      "metadata": {
        "id": "zjNugz6zNSuY"
      }
    },
    {
      "cell_type": "code",
      "source": [
        "import numpy as np\n",
        "import pandas as pd\n",
        "import matplotlib.pyplot as plot\n",
        "%matplotlib inline\n",
        "\n",
        "cancer = pd.read_csv(\"/content/breast_cancer.csv\")"
      ],
      "metadata": {
        "id": "-hT8iXJZNupJ"
      },
      "execution_count": null,
      "outputs": []
    },
    {
      "cell_type": "markdown",
      "source": [
        "*We can check the imported data by printing the first few(5 to be precise) rows and all columns using the* **head() method in pandas**"
      ],
      "metadata": {
        "id": "4qGw6-yBN0Gs"
      }
    },
    {
      "cell_type": "code",
      "source": [
        "print(cancer.head())"
      ],
      "metadata": {
        "id": "Cqq2JxrvN0rG",
        "colab": {
          "base_uri": "https://localhost:8080/"
        },
        "outputId": "fb3afe8f-1e41-451d-b452-5c985e7d9f2f"
      },
      "execution_count": null,
      "outputs": [
        {
          "output_type": "stream",
          "name": "stdout",
          "text": [
            "         id diagnosis  radius_mean  texture_mean  perimeter_mean  area_mean  \\\n",
            "0    842302         M        17.99         10.38          122.80     1001.0   \n",
            "1    842517         M        20.57         17.77          132.90     1326.0   \n",
            "2  84300903         M        19.69         21.25          130.00     1203.0   \n",
            "3  84348301         M        11.42         20.38           77.58      386.1   \n",
            "4  84358402         M        20.29         14.34          135.10     1297.0   \n",
            "\n",
            "   smoothness_mean  compactness_mean  concavity_mean  concave points_mean  \\\n",
            "0          0.11840           0.27760          0.3001              0.14710   \n",
            "1          0.08474           0.07864          0.0869              0.07017   \n",
            "2          0.10960           0.15990          0.1974              0.12790   \n",
            "3          0.14250           0.28390          0.2414              0.10520   \n",
            "4          0.10030           0.13280          0.1980              0.10430   \n",
            "\n",
            "   ...  texture_worst  perimeter_worst  area_worst  smoothness_worst  \\\n",
            "0  ...          17.33           184.60      2019.0            0.1622   \n",
            "1  ...          23.41           158.80      1956.0            0.1238   \n",
            "2  ...          25.53           152.50      1709.0            0.1444   \n",
            "3  ...          26.50            98.87       567.7            0.2098   \n",
            "4  ...          16.67           152.20      1575.0            0.1374   \n",
            "\n",
            "   compactness_worst  concavity_worst  concave points_worst  symmetry_worst  \\\n",
            "0             0.6656           0.7119                0.2654          0.4601   \n",
            "1             0.1866           0.2416                0.1860          0.2750   \n",
            "2             0.4245           0.4504                0.2430          0.3613   \n",
            "3             0.8663           0.6869                0.2575          0.6638   \n",
            "4             0.2050           0.4000                0.1625          0.2364   \n",
            "\n",
            "   fractal_dimension_worst  Unnamed: 32  \n",
            "0                  0.11890          NaN  \n",
            "1                  0.08902          NaN  \n",
            "2                  0.08758          NaN  \n",
            "3                  0.17300          NaN  \n",
            "4                  0.07678          NaN  \n",
            "\n",
            "[5 rows x 33 columns]\n"
          ]
        }
      ]
    },
    {
      "cell_type": "markdown",
      "source": [
        "*We can also use* **describe() function to**\n",
        ">Descriptive statistics include those that summarize the central tendency, dispersion and shape of a dataset’s distribution, excluding NaN values.\n",
        "\n",
        "[ https://pandas.pydata.org/docs/reference/api/pandas.DataFrame.describe.html ]"
      ],
      "metadata": {
        "id": "GhYtvPaAN5o2"
      }
    },
    {
      "cell_type": "code",
      "source": [
        "print(cancer.describe())"
      ],
      "metadata": {
        "id": "6UCYSHchN8yQ",
        "colab": {
          "base_uri": "https://localhost:8080/"
        },
        "outputId": "73e33886-4129-4062-96c5-8b5f5b54a032"
      },
      "execution_count": null,
      "outputs": [
        {
          "output_type": "stream",
          "name": "stdout",
          "text": [
            "                 id  radius_mean  texture_mean  perimeter_mean    area_mean  \\\n",
            "count  5.690000e+02   569.000000    569.000000      569.000000   569.000000   \n",
            "mean   3.037183e+07    14.127292     19.289649       91.969033   654.889104   \n",
            "std    1.250206e+08     3.524049      4.301036       24.298981   351.914129   \n",
            "min    8.670000e+03     6.981000      9.710000       43.790000   143.500000   \n",
            "25%    8.692180e+05    11.700000     16.170000       75.170000   420.300000   \n",
            "50%    9.060240e+05    13.370000     18.840000       86.240000   551.100000   \n",
            "75%    8.813129e+06    15.780000     21.800000      104.100000   782.700000   \n",
            "max    9.113205e+08    28.110000     39.280000      188.500000  2501.000000   \n",
            "\n",
            "       smoothness_mean  compactness_mean  concavity_mean  concave points_mean  \\\n",
            "count       569.000000        569.000000      569.000000           569.000000   \n",
            "mean          0.096360          0.104341        0.088799             0.048919   \n",
            "std           0.014064          0.052813        0.079720             0.038803   \n",
            "min           0.052630          0.019380        0.000000             0.000000   \n",
            "25%           0.086370          0.064920        0.029560             0.020310   \n",
            "50%           0.095870          0.092630        0.061540             0.033500   \n",
            "75%           0.105300          0.130400        0.130700             0.074000   \n",
            "max           0.163400          0.345400        0.426800             0.201200   \n",
            "\n",
            "       symmetry_mean  ...  texture_worst  perimeter_worst   area_worst  \\\n",
            "count     569.000000  ...     569.000000       569.000000   569.000000   \n",
            "mean        0.181162  ...      25.677223       107.261213   880.583128   \n",
            "std         0.027414  ...       6.146258        33.602542   569.356993   \n",
            "min         0.106000  ...      12.020000        50.410000   185.200000   \n",
            "25%         0.161900  ...      21.080000        84.110000   515.300000   \n",
            "50%         0.179200  ...      25.410000        97.660000   686.500000   \n",
            "75%         0.195700  ...      29.720000       125.400000  1084.000000   \n",
            "max         0.304000  ...      49.540000       251.200000  4254.000000   \n",
            "\n",
            "       smoothness_worst  compactness_worst  concavity_worst  \\\n",
            "count        569.000000         569.000000       569.000000   \n",
            "mean           0.132369           0.254265         0.272188   \n",
            "std            0.022832           0.157336         0.208624   \n",
            "min            0.071170           0.027290         0.000000   \n",
            "25%            0.116600           0.147200         0.114500   \n",
            "50%            0.131300           0.211900         0.226700   \n",
            "75%            0.146000           0.339100         0.382900   \n",
            "max            0.222600           1.058000         1.252000   \n",
            "\n",
            "       concave points_worst  symmetry_worst  fractal_dimension_worst  \\\n",
            "count            569.000000      569.000000               569.000000   \n",
            "mean               0.114606        0.290076                 0.083946   \n",
            "std                0.065732        0.061867                 0.018061   \n",
            "min                0.000000        0.156500                 0.055040   \n",
            "25%                0.064930        0.250400                 0.071460   \n",
            "50%                0.099930        0.282200                 0.080040   \n",
            "75%                0.161400        0.317900                 0.092080   \n",
            "max                0.291000        0.663800                 0.207500   \n",
            "\n",
            "       Unnamed: 32  \n",
            "count          0.0  \n",
            "mean           NaN  \n",
            "std            NaN  \n",
            "min            NaN  \n",
            "25%            NaN  \n",
            "50%            NaN  \n",
            "75%            NaN  \n",
            "max            NaN  \n",
            "\n",
            "[8 rows x 32 columns]\n"
          ]
        }
      ]
    },
    {
      "cell_type": "markdown",
      "source": [
        "**Step 2 : Data preprocessing**\n",
        "\n",
        "**Step 2A: Cleaning up the data of missing/NaN values**\n",
        "\n",
        "We will start by analysing columns that have lots of Nan values first, then look at rows.\n",
        "\n",
        "If a column has a lot of NaN values then there is little meaningful data that we can extract from it and it serves better to drop that column. To do this we use the use a for loop to cycle through all columns printing how many NaN values there are using the **isna() function and sum() function to add them all up for each column**\n",
        "\n",
        "isna() -> [ https://pandas.pydata.org/docs/reference/api/pandas.DataFrame.isna.html ]\n",
        "\n",
        "sum() -> [ https://pandas.pydata.org/docs/reference/api/pandas.core.groupby.GroupBy.sum.html?highlight=sum#pandas.core.groupby.GroupBy.sum ]"
      ],
      "metadata": {
        "id": "Mi79J40aN_U_"
      }
    },
    {
      "cell_type": "code",
      "source": [
        "i=1\n",
        "print(\"## | Column Name               | Count\")\n",
        "print(\"--------------------------------------\")\n",
        "for c in cancer.columns:\n",
        "  print(f\"{i:02d}\",c.ljust(25,\" \"),cancer[c].isna().sum(),sep=\" | \")\n",
        "  i+=1"
      ],
      "metadata": {
        "id": "I4ubD8FmOB7h",
        "colab": {
          "base_uri": "https://localhost:8080/"
        },
        "outputId": "4bd8801a-e470-4d8c-a566-0645768b120c"
      },
      "execution_count": null,
      "outputs": [
        {
          "output_type": "stream",
          "name": "stdout",
          "text": [
            "## | Column Name               | Count\n",
            "--------------------------------------\n",
            "01 | id                        | 0\n",
            "02 | diagnosis                 | 0\n",
            "03 | radius_mean               | 0\n",
            "04 | texture_mean              | 0\n",
            "05 | perimeter_mean            | 0\n",
            "06 | area_mean                 | 0\n",
            "07 | smoothness_mean           | 0\n",
            "08 | compactness_mean          | 0\n",
            "09 | concavity_mean            | 0\n",
            "10 | concave points_mean       | 0\n",
            "11 | symmetry_mean             | 0\n",
            "12 | fractal_dimension_mean    | 0\n",
            "13 | radius_se                 | 0\n",
            "14 | texture_se                | 0\n",
            "15 | perimeter_se              | 0\n",
            "16 | area_se                   | 0\n",
            "17 | smoothness_se             | 0\n",
            "18 | compactness_se            | 0\n",
            "19 | concavity_se              | 0\n",
            "20 | concave points_se         | 0\n",
            "21 | symmetry_se               | 0\n",
            "22 | fractal_dimension_se      | 0\n",
            "23 | radius_worst              | 0\n",
            "24 | texture_worst             | 0\n",
            "25 | perimeter_worst           | 0\n",
            "26 | area_worst                | 0\n",
            "27 | smoothness_worst          | 0\n",
            "28 | compactness_worst         | 0\n",
            "29 | concavity_worst           | 0\n",
            "30 | concave points_worst      | 0\n",
            "31 | symmetry_worst            | 0\n",
            "32 | fractal_dimension_worst   | 0\n",
            "33 | Unnamed: 32               | 569\n"
          ]
        }
      ]
    },
    {
      "cell_type": "markdown",
      "source": [
        "As we can see, there are 33 columns in the dataset of which there is a column called **Unnamed** that contains *569 NaN* values (which is basically an entire column of NaN). The rest of the columns have no Nan values so we don't need to search NaN values anymore in rows.\n",
        "\n",
        "(If there were NaN values in columns then we can replace NaN occurence with 0 and process them in the next step)\n",
        "\n",
        "**So we choose to drop this column from this dataset**\n",
        "\n",
        "*Quick note: I tried to drop Unnamed but turns out Unnamed: 32 is the actual column name. Quick google search revealed that this is due to poor conversion of data from one type to csv, probably due to using some automated way to convert to csv or might also be the column that is used to index the dataset*\n",
        "\n",
        "*Alternatively refer to this - https://stackoverflow.com/questions/20107570/removing-index-column-in-pandas-when-reading-a-csv*"
      ],
      "metadata": {
        "id": "zSxOLmf8OEgN"
      }
    },
    {
      "cell_type": "code",
      "source": [
        "cancer.drop(\"Unnamed: 32\", axis=1, inplace=True) #we do inplace so that the original dataset is overwritten"
      ],
      "metadata": {
        "id": "EYxuTWXnOHAH"
      },
      "execution_count": null,
      "outputs": []
    },
    {
      "cell_type": "markdown",
      "source": [
        "  **Step 2B: Cleaning up the data of 0 values**\n",
        "\n",
        "Now that there are no NaN, we find out how many 0s there are in each row and column. The goal is to replace 0 with meaningful value like the mean of the column or dropping a row entirely if it has too many zero's"
      ],
      "metadata": {
        "id": "pVd6XQmwOJ0I"
      }
    },
    {
      "cell_type": "code",
      "source": [
        "i=1\n",
        "print(\"## | Column Name               | Count\")\n",
        "print(\"--------------------------------------\")\n",
        "for c in cancer.columns:\n",
        "  t=(cancer[c]==0).sum()\n",
        "  print(f\"{i:02d}\",c.ljust(25,\" \"),t,sep=\" | \")\n",
        "  i+=1"
      ],
      "metadata": {
        "id": "54yNnSx1ORLM",
        "colab": {
          "base_uri": "https://localhost:8080/"
        },
        "outputId": "f79c393f-c1a0-4cc8-a8c5-1ad59341aa89"
      },
      "execution_count": null,
      "outputs": [
        {
          "output_type": "stream",
          "name": "stdout",
          "text": [
            "## | Column Name               | Count\n",
            "--------------------------------------\n",
            "01 | id                        | 0\n",
            "02 | diagnosis                 | 0\n",
            "03 | radius_mean               | 0\n",
            "04 | texture_mean              | 0\n",
            "05 | perimeter_mean            | 0\n",
            "06 | area_mean                 | 0\n",
            "07 | smoothness_mean           | 0\n",
            "08 | compactness_mean          | 0\n",
            "09 | concavity_mean            | 13\n",
            "10 | concave points_mean       | 13\n",
            "11 | symmetry_mean             | 0\n",
            "12 | fractal_dimension_mean    | 0\n",
            "13 | radius_se                 | 0\n",
            "14 | texture_se                | 0\n",
            "15 | perimeter_se              | 0\n",
            "16 | area_se                   | 0\n",
            "17 | smoothness_se             | 0\n",
            "18 | compactness_se            | 0\n",
            "19 | concavity_se              | 13\n",
            "20 | concave points_se         | 13\n",
            "21 | symmetry_se               | 0\n",
            "22 | fractal_dimension_se      | 0\n",
            "23 | radius_worst              | 0\n",
            "24 | texture_worst             | 0\n",
            "25 | perimeter_worst           | 0\n",
            "26 | area_worst                | 0\n",
            "27 | smoothness_worst          | 0\n",
            "28 | compactness_worst         | 0\n",
            "29 | concavity_worst           | 13\n",
            "30 | concave points_worst      | 13\n",
            "31 | symmetry_worst            | 0\n",
            "32 | fractal_dimension_worst   | 0\n"
          ]
        }
      ]
    },
    {
      "cell_type": "markdown",
      "source": [
        "We see that there are 4 columns having zero values. Each has 13 rows. So, at most 13*4 = 52 rows have one feature each having 0s in them (affects 9.25% of the dataset) or at least 13 rows have 4 zeros in them (affecting 2.28% of the dataset).\n",
        "\n",
        "*Opening up the CSV in spreadsheet, the intuition that concavity based columns are zero all in the same row. This means only 13 rows are affected. To address this, my thought process is to find the mean value of these columns and fill them. However, this being a classification problem, I will find mean for malignant(M) and benign(B) seperately and then based on what the diagnosis for that row is, fill the appropriate mean*"
      ],
      "metadata": {
        "id": "ZGZTkaMEOSPw"
      }
    },
    {
      "cell_type": "code",
      "source": [
        "mean_diagnosis = cancer.groupby(\"diagnosis\")['concavity_mean','concave points_mean','concavity_worst','concave points_worst','concavity_se','concave points_se'].mean()\n",
        "print(mean_diagnosis)"
      ],
      "metadata": {
        "id": "fehjP0S9OWph",
        "colab": {
          "base_uri": "https://localhost:8080/"
        },
        "outputId": "53dced12-fa72-4f73-af2e-db1c95716093"
      },
      "execution_count": null,
      "outputs": [
        {
          "output_type": "stream",
          "name": "stdout",
          "text": [
            "           concavity_mean  concave points_mean  concavity_worst  \\\n",
            "diagnosis                                                         \n",
            "B                0.046058             0.025717         0.166238   \n",
            "M                0.160775             0.087990         0.450606   \n",
            "\n",
            "           concave points_worst  concavity_se  concave points_se  \n",
            "diagnosis                                                         \n",
            "B                      0.074444      0.025997           0.009858  \n",
            "M                      0.182237      0.041824           0.015060  \n"
          ]
        },
        {
          "output_type": "stream",
          "name": "stderr",
          "text": [
            "/usr/local/lib/python3.7/dist-packages/ipykernel_launcher.py:1: FutureWarning: Indexing with multiple keys (implicitly converted to a tuple of keys) will be deprecated, use a list instead.\n",
            "  \"\"\"Entry point for launching an IPython kernel.\n"
          ]
        }
      ]
    },
    {
      "cell_type": "markdown",
      "source": [
        "*Here I want to point out that I have switched from using chained indexing to using the **loc()** function to store the mean values due to the warning*"
      ],
      "metadata": {
        "id": "0NZU-f7aOZNC"
      }
    },
    {
      "cell_type": "code",
      "source": [
        "for i in cancer.index:\n",
        "  if(cancer['concavity_mean'][i]==0):\n",
        "    if(cancer['diagnosis'][i]=='B'):\n",
        "      cancer.loc[i,'concavity_mean']=mean_diagnosis.loc['B','concavity_mean']\n",
        "      cancer.loc[i,'concave points_mean']=mean_diagnosis.loc['B','concave points_mean']\n",
        "      cancer.loc[i,'concavity_worst']=mean_diagnosis.loc['B','concavity_worst']\n",
        "      cancer.loc[i,'concave points_worst']=mean_diagnosis.loc['B','concave points_worst']\n",
        "      cancer.loc[i,'concavity_se']=mean_diagnosis.loc['B','concavity_se']\n",
        "      cancer.loc[i,'concave points_se']=mean_diagnosis.loc['B','concave points_se']\n",
        "    else:\n",
        "      cancer.loc[i,'concavity_mean']=mean_diagnosis.loc['M','concavity_mean']\n",
        "      cancer.loc[i,'concave points_mean']=mean_diagnosis.loc['M','concave points_mean']\n",
        "      cancer.loc[i,'concavity_worst']=mean_diagnosis.loc['M','concavity_worst']\n",
        "      cancer.loc[i,'concave points_worst']=mean_diagnosis.loc['M','concave points_worst']\n",
        "      cancer.loc[i,'concavity_se']=mean_diagnosis.loc['M','concavity_se']\n",
        "      cancer.loc[i,'concave points_se']=mean_diagnosis.loc['M','concave points_se']"
      ],
      "metadata": {
        "id": "_-igJTQ7OcML"
      },
      "execution_count": null,
      "outputs": []
    },
    {
      "cell_type": "markdown",
      "source": [
        "Now if we check for zeros in the dataset we will get the following output, where the dataset doesn't have anymore zeroes present in it."
      ],
      "metadata": {
        "id": "bckYqtW6OdZf"
      }
    },
    {
      "cell_type": "code",
      "source": [
        "i=1\n",
        "zero_column=[]\n",
        "print(\"## | Column Name               | Count\")\n",
        "print(\"--------------------------------------\")\n",
        "for c in cancer.columns:\n",
        "  t=(cancer[c]==0).sum()\n",
        "  if(t==0):\n",
        "    zero_column.append(c)\n",
        "  print(f\"{i:02d}\",c.ljust(25,\" \"),t,sep=\" | \")\n",
        "  i+=1"
      ],
      "metadata": {
        "id": "0T0j8-wiOg8n",
        "colab": {
          "base_uri": "https://localhost:8080/"
        },
        "outputId": "2524c618-1aba-40c5-e055-a1133305bc6c"
      },
      "execution_count": null,
      "outputs": [
        {
          "output_type": "stream",
          "name": "stdout",
          "text": [
            "## | Column Name               | Count\n",
            "--------------------------------------\n",
            "01 | id                        | 0\n",
            "02 | diagnosis                 | 0\n",
            "03 | radius_mean               | 0\n",
            "04 | texture_mean              | 0\n",
            "05 | perimeter_mean            | 0\n",
            "06 | area_mean                 | 0\n",
            "07 | smoothness_mean           | 0\n",
            "08 | compactness_mean          | 0\n",
            "09 | concavity_mean            | 0\n",
            "10 | concave points_mean       | 0\n",
            "11 | symmetry_mean             | 0\n",
            "12 | fractal_dimension_mean    | 0\n",
            "13 | radius_se                 | 0\n",
            "14 | texture_se                | 0\n",
            "15 | perimeter_se              | 0\n",
            "16 | area_se                   | 0\n",
            "17 | smoothness_se             | 0\n",
            "18 | compactness_se            | 0\n",
            "19 | concavity_se              | 0\n",
            "20 | concave points_se         | 0\n",
            "21 | symmetry_se               | 0\n",
            "22 | fractal_dimension_se      | 0\n",
            "23 | radius_worst              | 0\n",
            "24 | texture_worst             | 0\n",
            "25 | perimeter_worst           | 0\n",
            "26 | area_worst                | 0\n",
            "27 | smoothness_worst          | 0\n",
            "28 | compactness_worst         | 0\n",
            "29 | concavity_worst           | 0\n",
            "30 | concave points_worst      | 0\n",
            "31 | symmetry_worst            | 0\n",
            "32 | fractal_dimension_worst   | 0\n"
          ]
        }
      ]
    },
    {
      "cell_type": "markdown",
      "source": [
        "  **Step 2C: Dealing with categorical values**\n",
        "\n",
        "In this step we convert categorical values into numerical values. This is because we need numerical data to train the model. Now this requires some level of understanding of the data but in this case it is a simple boolean transformation.\n",
        "\n",
        "The only feature that has non numeric data is the diagnosis field which has malignant(M) and benign(B). We will convert malignant as 1 and benign as 0.\n",
        "\n",
        "*Note that these are discrete values with no meaning for values in between like 0.5* "
      ],
      "metadata": {
        "id": "vSkQ_2dbOjWL"
      }
    },
    {
      "cell_type": "code",
      "source": [
        "cancer[\"diagnosis\"].replace({\"B\": 0, \"M\": 1},inplace=True)"
      ],
      "metadata": {
        "id": "Y88UIOc7OmK2"
      },
      "execution_count": null,
      "outputs": []
    },
    {
      "cell_type": "markdown",
      "source": [
        "**Step 2D: Checking Variance**\n",
        "\n",
        "If the data within a particular feature have very little variance then it will have minimal impact on the output. Then it makes sense to drop the feature from the training."
      ],
      "metadata": {
        "id": "w6pinQSF2jje"
      }
    },
    {
      "cell_type": "code",
      "source": [
        "print(cancer.var())"
      ],
      "metadata": {
        "colab": {
          "base_uri": "https://localhost:8080/"
        },
        "id": "dgkaAV5ugys9",
        "outputId": "a4f62bff-5e3d-468d-d6f8-5b98a1587a70"
      },
      "execution_count": null,
      "outputs": [
        {
          "output_type": "stream",
          "name": "stdout",
          "text": [
            "id                         1.563015e+16\n",
            "diagnosis                  2.341766e-01\n",
            "radius_mean                1.241892e+01\n",
            "texture_mean               1.849891e+01\n",
            "perimeter_mean             5.904405e+02\n",
            "area_mean                  1.238436e+05\n",
            "smoothness_mean            1.977997e-04\n",
            "compactness_mean           2.789187e-03\n",
            "concavity_mean             6.215477e-03\n",
            "concave points_mean        1.462864e-03\n",
            "symmetry_mean              7.515428e-04\n",
            "fractal_dimension_mean     4.984872e-05\n",
            "radius_se                  7.690235e-02\n",
            "texture_se                 3.043159e-01\n",
            "perimeter_se               4.087896e+00\n",
            "area_se                    2.069432e+03\n",
            "smoothness_se              9.015114e-06\n",
            "compactness_se             3.207029e-04\n",
            "concavity_se               8.883595e-04\n",
            "concave points_se          3.492287e-05\n",
            "symmetry_se                6.833290e-05\n",
            "fractal_dimension_se       7.001692e-06\n",
            "radius_worst               2.336022e+01\n",
            "texture_worst              3.777648e+01\n",
            "perimeter_worst            1.129131e+03\n",
            "area_worst                 3.241674e+05\n",
            "smoothness_worst           5.213198e-04\n",
            "compactness_worst          2.475477e-02\n",
            "concavity_worst            4.207092e-02\n",
            "concave points_worst       4.054144e-03\n",
            "symmetry_worst             3.827584e-03\n",
            "fractal_dimension_worst    3.262094e-04\n",
            "dtype: float64\n"
          ]
        }
      ]
    },
    {
      "cell_type": "markdown",
      "source": [
        "Looking at the output of **cancer.var()** we can deduce the columns that have low variance (having e-05 or lower):\n",
        "\n",
        "\n",
        "1.   fractal_dimension_mean  ( *4.984872e-05* )\n",
        "2.   smoothness_se  ( *9.015114e-06* )\n",
        "3.   concave points_se  ( *3.492287e-05* )\n",
        "4.   symmetry_se                ( *6.833290e-05* )\n",
        "5.   fractal_dimension_se       ( *7.001692e-06* )\n",
        "\n",
        "We will drop these features from the dataset:\n",
        "\n",
        "[ https://pandas.pydata.org/docs/reference/api/pandas.core.groupby.GroupBy.var.html?highlight=var#pandas.core.groupby.GroupBy.var ]"
      ],
      "metadata": {
        "id": "g9CII1H8hRtb"
      }
    },
    {
      "cell_type": "code",
      "source": [
        "cancer.drop([\"id\",\"fractal_dimension_mean\",\"smoothness_se\",\"concave points_se\",\"symmetry_se\",\"fractal_dimension_se\"], axis=1, inplace=True)\n",
        "# we are dropping ID as well as it was probably used in the indexing the data before it was converted to a CSV"
      ],
      "metadata": {
        "id": "KgBxflKhlsSL"
      },
      "execution_count": null,
      "outputs": []
    },
    {
      "cell_type": "markdown",
      "source": [
        "**Step 2E: Checking correlation**\n",
        "\n",
        "Once we have eliminated the data with little variance, we can check the correlation between the remaining data:"
      ],
      "metadata": {
        "id": "4ctUR2SUlsGr"
      }
    },
    {
      "cell_type": "code",
      "source": [
        "corr_matrix=cancer.corr()\n",
        "corr_matrix.drop(['diagnosis'],axis=1,inplace=True)\n",
        "corr_matrix.drop(['diagnosis'],axis=0,inplace=True)\n",
        "corr_matrix[corr_matrix.abs()>0.7]"
      ],
      "metadata": {
        "colab": {
          "base_uri": "https://localhost:8080/",
          "height": 944
        },
        "id": "G2InGhsblrri",
        "outputId": "3a62eca9-8047-454a-ee8a-86bddf250460"
      },
      "execution_count": null,
      "outputs": [
        {
          "output_type": "execute_result",
          "data": {
            "text/plain": [
              "                         radius_mean  texture_mean  perimeter_mean  area_mean  \\\n",
              "radius_mean                 1.000000           NaN        0.997855   0.987357   \n",
              "texture_mean                     NaN      1.000000             NaN        NaN   \n",
              "perimeter_mean              0.997855           NaN        1.000000   0.986507   \n",
              "area_mean                   0.987357           NaN        0.986507   1.000000   \n",
              "smoothness_mean                  NaN           NaN             NaN        NaN   \n",
              "compactness_mean                 NaN           NaN             NaN        NaN   \n",
              "concavity_mean                   NaN           NaN        0.706077        NaN   \n",
              "concave points_mean         0.813878           NaN        0.842542   0.818680   \n",
              "symmetry_mean                    NaN           NaN             NaN        NaN   \n",
              "radius_se                        NaN           NaN             NaN   0.732562   \n",
              "texture_se                       NaN           NaN             NaN        NaN   \n",
              "perimeter_se                     NaN           NaN             NaN   0.726628   \n",
              "area_se                     0.735864           NaN        0.744983   0.800086   \n",
              "compactness_se                   NaN           NaN             NaN        NaN   \n",
              "concavity_se                     NaN           NaN             NaN        NaN   \n",
              "radius_worst                0.969539           NaN        0.969476   0.962746   \n",
              "texture_worst                    NaN      0.912045             NaN        NaN   \n",
              "perimeter_worst             0.965137           NaN        0.970387   0.959120   \n",
              "area_worst                  0.941082           NaN        0.941550   0.959213   \n",
              "smoothness_worst                 NaN           NaN             NaN        NaN   \n",
              "compactness_worst                NaN           NaN             NaN        NaN   \n",
              "concavity_worst                  NaN           NaN             NaN        NaN   \n",
              "concave points_worst        0.732481           NaN        0.760039   0.716611   \n",
              "symmetry_worst                   NaN           NaN             NaN        NaN   \n",
              "fractal_dimension_worst          NaN           NaN             NaN        NaN   \n",
              "\n",
              "                         smoothness_mean  compactness_mean  concavity_mean  \\\n",
              "radius_mean                          NaN               NaN             NaN   \n",
              "texture_mean                         NaN               NaN             NaN   \n",
              "perimeter_mean                       NaN               NaN        0.706077   \n",
              "area_mean                            NaN               NaN             NaN   \n",
              "smoothness_mean                 1.000000               NaN             NaN   \n",
              "compactness_mean                     NaN          1.000000        0.878509   \n",
              "concavity_mean                       NaN          0.878509        1.000000   \n",
              "concave points_mean                  NaN          0.826532        0.919573   \n",
              "symmetry_mean                        NaN               NaN             NaN   \n",
              "radius_se                            NaN               NaN             NaN   \n",
              "texture_se                           NaN               NaN             NaN   \n",
              "perimeter_se                         NaN               NaN             NaN   \n",
              "area_se                              NaN               NaN             NaN   \n",
              "compactness_se                       NaN          0.738722             NaN   \n",
              "concavity_se                         NaN               NaN             NaN   \n",
              "radius_worst                         NaN               NaN             NaN   \n",
              "texture_worst                        NaN               NaN             NaN   \n",
              "perimeter_worst                      NaN               NaN        0.721016   \n",
              "area_worst                           NaN               NaN             NaN   \n",
              "smoothness_worst                0.805324               NaN             NaN   \n",
              "compactness_worst                    NaN          0.865809        0.748121   \n",
              "concavity_worst                      NaN          0.810157        0.881249   \n",
              "concave points_worst                 NaN          0.812971        0.860203   \n",
              "symmetry_worst                       NaN               NaN             NaN   \n",
              "fractal_dimension_worst              NaN               NaN             NaN   \n",
              "\n",
              "                         concave points_mean  symmetry_mean  radius_se  ...  \\\n",
              "radius_mean                         0.813878            NaN        NaN  ...   \n",
              "texture_mean                             NaN            NaN        NaN  ...   \n",
              "perimeter_mean                      0.842542            NaN        NaN  ...   \n",
              "area_mean                           0.818680            NaN   0.732562  ...   \n",
              "smoothness_mean                          NaN            NaN        NaN  ...   \n",
              "compactness_mean                    0.826532            NaN        NaN  ...   \n",
              "concavity_mean                      0.919573            NaN        NaN  ...   \n",
              "concave points_mean                 1.000000            NaN   0.705162  ...   \n",
              "symmetry_mean                            NaN            1.0        NaN  ...   \n",
              "radius_se                           0.705162            NaN   1.000000  ...   \n",
              "texture_se                               NaN            NaN        NaN  ...   \n",
              "perimeter_se                        0.716531            NaN   0.972794  ...   \n",
              "area_se                                  NaN            NaN   0.951830  ...   \n",
              "compactness_se                           NaN            NaN        NaN  ...   \n",
              "concavity_se                             NaN            NaN        NaN  ...   \n",
              "radius_worst                        0.823515            NaN   0.715065  ...   \n",
              "texture_worst                            NaN            NaN        NaN  ...   \n",
              "perimeter_worst                     0.849125            NaN   0.719684  ...   \n",
              "area_worst                          0.806556            NaN   0.751548  ...   \n",
              "smoothness_worst                         NaN            NaN        NaN  ...   \n",
              "compactness_worst                        NaN            NaN        NaN  ...   \n",
              "concavity_worst                     0.744437            NaN        NaN  ...   \n",
              "concave points_worst                0.908906            NaN        NaN  ...   \n",
              "symmetry_worst                           NaN            NaN        NaN  ...   \n",
              "fractal_dimension_worst                  NaN            NaN        NaN  ...   \n",
              "\n",
              "                         radius_worst  texture_worst  perimeter_worst  \\\n",
              "radius_mean                  0.969539            NaN         0.965137   \n",
              "texture_mean                      NaN       0.912045              NaN   \n",
              "perimeter_mean               0.969476            NaN         0.970387   \n",
              "area_mean                    0.962746            NaN         0.959120   \n",
              "smoothness_mean                   NaN            NaN              NaN   \n",
              "compactness_mean                  NaN            NaN              NaN   \n",
              "concavity_mean                    NaN            NaN         0.721016   \n",
              "concave points_mean          0.823515            NaN         0.849125   \n",
              "symmetry_mean                     NaN            NaN              NaN   \n",
              "radius_se                    0.715065            NaN         0.719684   \n",
              "texture_se                        NaN            NaN              NaN   \n",
              "perimeter_se                      NaN            NaN         0.721031   \n",
              "area_se                      0.757373            NaN         0.761213   \n",
              "compactness_se                    NaN            NaN              NaN   \n",
              "concavity_se                      NaN            NaN              NaN   \n",
              "radius_worst                 1.000000            NaN         0.993708   \n",
              "texture_worst                     NaN       1.000000              NaN   \n",
              "perimeter_worst              0.993708            NaN         1.000000   \n",
              "area_worst                   0.984015            NaN         0.977578   \n",
              "smoothness_worst                  NaN            NaN              NaN   \n",
              "compactness_worst                 NaN            NaN              NaN   \n",
              "concavity_worst                   NaN            NaN              NaN   \n",
              "concave points_worst         0.780107            NaN         0.809300   \n",
              "symmetry_worst                    NaN            NaN              NaN   \n",
              "fractal_dimension_worst           NaN            NaN              NaN   \n",
              "\n",
              "                         area_worst  smoothness_worst  compactness_worst  \\\n",
              "radius_mean                0.941082               NaN                NaN   \n",
              "texture_mean                    NaN               NaN                NaN   \n",
              "perimeter_mean             0.941550               NaN                NaN   \n",
              "area_mean                  0.959213               NaN                NaN   \n",
              "smoothness_mean                 NaN          0.805324                NaN   \n",
              "compactness_mean                NaN               NaN           0.865809   \n",
              "concavity_mean                  NaN               NaN           0.748121   \n",
              "concave points_mean        0.806556               NaN                NaN   \n",
              "symmetry_mean                   NaN               NaN                NaN   \n",
              "radius_se                  0.751548               NaN                NaN   \n",
              "texture_se                      NaN               NaN                NaN   \n",
              "perimeter_se               0.730713               NaN                NaN   \n",
              "area_se                    0.811408               NaN                NaN   \n",
              "compactness_se                  NaN               NaN                NaN   \n",
              "concavity_se                    NaN               NaN                NaN   \n",
              "radius_worst               0.984015               NaN                NaN   \n",
              "texture_worst                   NaN               NaN                NaN   \n",
              "perimeter_worst            0.977578               NaN                NaN   \n",
              "area_worst                 1.000000               NaN                NaN   \n",
              "smoothness_worst                NaN          1.000000                NaN   \n",
              "compactness_worst               NaN               NaN           1.000000   \n",
              "concavity_worst                 NaN               NaN           0.886329   \n",
              "concave points_worst       0.745814               NaN           0.796402   \n",
              "symmetry_worst                  NaN               NaN                NaN   \n",
              "fractal_dimension_worst         NaN               NaN           0.810455   \n",
              "\n",
              "                         concavity_worst  concave points_worst  \\\n",
              "radius_mean                          NaN              0.732481   \n",
              "texture_mean                         NaN                   NaN   \n",
              "perimeter_mean                       NaN              0.760039   \n",
              "area_mean                            NaN              0.716611   \n",
              "smoothness_mean                      NaN                   NaN   \n",
              "compactness_mean                0.810157              0.812971   \n",
              "concavity_mean                  0.881249              0.860203   \n",
              "concave points_mean             0.744437              0.908906   \n",
              "symmetry_mean                        NaN                   NaN   \n",
              "radius_se                            NaN                   NaN   \n",
              "texture_se                           NaN                   NaN   \n",
              "perimeter_se                         NaN                   NaN   \n",
              "area_se                              NaN                   NaN   \n",
              "compactness_se                       NaN                   NaN   \n",
              "concavity_se                         NaN                   NaN   \n",
              "radius_worst                         NaN              0.780107   \n",
              "texture_worst                        NaN                   NaN   \n",
              "perimeter_worst                      NaN              0.809300   \n",
              "area_worst                           NaN              0.745814   \n",
              "smoothness_worst                     NaN                   NaN   \n",
              "compactness_worst               0.886329              0.796402   \n",
              "concavity_worst                 1.000000              0.850528   \n",
              "concave points_worst            0.850528              1.000000   \n",
              "symmetry_worst                       NaN                   NaN   \n",
              "fractal_dimension_worst              NaN                   NaN   \n",
              "\n",
              "                         symmetry_worst  fractal_dimension_worst  \n",
              "radius_mean                         NaN                      NaN  \n",
              "texture_mean                        NaN                      NaN  \n",
              "perimeter_mean                      NaN                      NaN  \n",
              "area_mean                           NaN                      NaN  \n",
              "smoothness_mean                     NaN                      NaN  \n",
              "compactness_mean                    NaN                      NaN  \n",
              "concavity_mean                      NaN                      NaN  \n",
              "concave points_mean                 NaN                      NaN  \n",
              "symmetry_mean                       NaN                      NaN  \n",
              "radius_se                           NaN                      NaN  \n",
              "texture_se                          NaN                      NaN  \n",
              "perimeter_se                        NaN                      NaN  \n",
              "area_se                             NaN                      NaN  \n",
              "compactness_se                      NaN                      NaN  \n",
              "concavity_se                        NaN                      NaN  \n",
              "radius_worst                        NaN                      NaN  \n",
              "texture_worst                       NaN                      NaN  \n",
              "perimeter_worst                     NaN                      NaN  \n",
              "area_worst                          NaN                      NaN  \n",
              "smoothness_worst                    NaN                      NaN  \n",
              "compactness_worst                   NaN                 0.810455  \n",
              "concavity_worst                     NaN                      NaN  \n",
              "concave points_worst                NaN                      NaN  \n",
              "symmetry_worst                      1.0                      NaN  \n",
              "fractal_dimension_worst             NaN                 1.000000  \n",
              "\n",
              "[25 rows x 25 columns]"
            ],
            "text/html": [
              "\n",
              "  <div id=\"df-bc4cf599-ff8f-4ba1-9dd5-7bb582ca8c60\">\n",
              "    <div class=\"colab-df-container\">\n",
              "      <div>\n",
              "<style scoped>\n",
              "    .dataframe tbody tr th:only-of-type {\n",
              "        vertical-align: middle;\n",
              "    }\n",
              "\n",
              "    .dataframe tbody tr th {\n",
              "        vertical-align: top;\n",
              "    }\n",
              "\n",
              "    .dataframe thead th {\n",
              "        text-align: right;\n",
              "    }\n",
              "</style>\n",
              "<table border=\"1\" class=\"dataframe\">\n",
              "  <thead>\n",
              "    <tr style=\"text-align: right;\">\n",
              "      <th></th>\n",
              "      <th>radius_mean</th>\n",
              "      <th>texture_mean</th>\n",
              "      <th>perimeter_mean</th>\n",
              "      <th>area_mean</th>\n",
              "      <th>smoothness_mean</th>\n",
              "      <th>compactness_mean</th>\n",
              "      <th>concavity_mean</th>\n",
              "      <th>concave points_mean</th>\n",
              "      <th>symmetry_mean</th>\n",
              "      <th>radius_se</th>\n",
              "      <th>...</th>\n",
              "      <th>radius_worst</th>\n",
              "      <th>texture_worst</th>\n",
              "      <th>perimeter_worst</th>\n",
              "      <th>area_worst</th>\n",
              "      <th>smoothness_worst</th>\n",
              "      <th>compactness_worst</th>\n",
              "      <th>concavity_worst</th>\n",
              "      <th>concave points_worst</th>\n",
              "      <th>symmetry_worst</th>\n",
              "      <th>fractal_dimension_worst</th>\n",
              "    </tr>\n",
              "  </thead>\n",
              "  <tbody>\n",
              "    <tr>\n",
              "      <th>radius_mean</th>\n",
              "      <td>1.000000</td>\n",
              "      <td>NaN</td>\n",
              "      <td>0.997855</td>\n",
              "      <td>0.987357</td>\n",
              "      <td>NaN</td>\n",
              "      <td>NaN</td>\n",
              "      <td>NaN</td>\n",
              "      <td>0.813878</td>\n",
              "      <td>NaN</td>\n",
              "      <td>NaN</td>\n",
              "      <td>...</td>\n",
              "      <td>0.969539</td>\n",
              "      <td>NaN</td>\n",
              "      <td>0.965137</td>\n",
              "      <td>0.941082</td>\n",
              "      <td>NaN</td>\n",
              "      <td>NaN</td>\n",
              "      <td>NaN</td>\n",
              "      <td>0.732481</td>\n",
              "      <td>NaN</td>\n",
              "      <td>NaN</td>\n",
              "    </tr>\n",
              "    <tr>\n",
              "      <th>texture_mean</th>\n",
              "      <td>NaN</td>\n",
              "      <td>1.000000</td>\n",
              "      <td>NaN</td>\n",
              "      <td>NaN</td>\n",
              "      <td>NaN</td>\n",
              "      <td>NaN</td>\n",
              "      <td>NaN</td>\n",
              "      <td>NaN</td>\n",
              "      <td>NaN</td>\n",
              "      <td>NaN</td>\n",
              "      <td>...</td>\n",
              "      <td>NaN</td>\n",
              "      <td>0.912045</td>\n",
              "      <td>NaN</td>\n",
              "      <td>NaN</td>\n",
              "      <td>NaN</td>\n",
              "      <td>NaN</td>\n",
              "      <td>NaN</td>\n",
              "      <td>NaN</td>\n",
              "      <td>NaN</td>\n",
              "      <td>NaN</td>\n",
              "    </tr>\n",
              "    <tr>\n",
              "      <th>perimeter_mean</th>\n",
              "      <td>0.997855</td>\n",
              "      <td>NaN</td>\n",
              "      <td>1.000000</td>\n",
              "      <td>0.986507</td>\n",
              "      <td>NaN</td>\n",
              "      <td>NaN</td>\n",
              "      <td>0.706077</td>\n",
              "      <td>0.842542</td>\n",
              "      <td>NaN</td>\n",
              "      <td>NaN</td>\n",
              "      <td>...</td>\n",
              "      <td>0.969476</td>\n",
              "      <td>NaN</td>\n",
              "      <td>0.970387</td>\n",
              "      <td>0.941550</td>\n",
              "      <td>NaN</td>\n",
              "      <td>NaN</td>\n",
              "      <td>NaN</td>\n",
              "      <td>0.760039</td>\n",
              "      <td>NaN</td>\n",
              "      <td>NaN</td>\n",
              "    </tr>\n",
              "    <tr>\n",
              "      <th>area_mean</th>\n",
              "      <td>0.987357</td>\n",
              "      <td>NaN</td>\n",
              "      <td>0.986507</td>\n",
              "      <td>1.000000</td>\n",
              "      <td>NaN</td>\n",
              "      <td>NaN</td>\n",
              "      <td>NaN</td>\n",
              "      <td>0.818680</td>\n",
              "      <td>NaN</td>\n",
              "      <td>0.732562</td>\n",
              "      <td>...</td>\n",
              "      <td>0.962746</td>\n",
              "      <td>NaN</td>\n",
              "      <td>0.959120</td>\n",
              "      <td>0.959213</td>\n",
              "      <td>NaN</td>\n",
              "      <td>NaN</td>\n",
              "      <td>NaN</td>\n",
              "      <td>0.716611</td>\n",
              "      <td>NaN</td>\n",
              "      <td>NaN</td>\n",
              "    </tr>\n",
              "    <tr>\n",
              "      <th>smoothness_mean</th>\n",
              "      <td>NaN</td>\n",
              "      <td>NaN</td>\n",
              "      <td>NaN</td>\n",
              "      <td>NaN</td>\n",
              "      <td>1.000000</td>\n",
              "      <td>NaN</td>\n",
              "      <td>NaN</td>\n",
              "      <td>NaN</td>\n",
              "      <td>NaN</td>\n",
              "      <td>NaN</td>\n",
              "      <td>...</td>\n",
              "      <td>NaN</td>\n",
              "      <td>NaN</td>\n",
              "      <td>NaN</td>\n",
              "      <td>NaN</td>\n",
              "      <td>0.805324</td>\n",
              "      <td>NaN</td>\n",
              "      <td>NaN</td>\n",
              "      <td>NaN</td>\n",
              "      <td>NaN</td>\n",
              "      <td>NaN</td>\n",
              "    </tr>\n",
              "    <tr>\n",
              "      <th>compactness_mean</th>\n",
              "      <td>NaN</td>\n",
              "      <td>NaN</td>\n",
              "      <td>NaN</td>\n",
              "      <td>NaN</td>\n",
              "      <td>NaN</td>\n",
              "      <td>1.000000</td>\n",
              "      <td>0.878509</td>\n",
              "      <td>0.826532</td>\n",
              "      <td>NaN</td>\n",
              "      <td>NaN</td>\n",
              "      <td>...</td>\n",
              "      <td>NaN</td>\n",
              "      <td>NaN</td>\n",
              "      <td>NaN</td>\n",
              "      <td>NaN</td>\n",
              "      <td>NaN</td>\n",
              "      <td>0.865809</td>\n",
              "      <td>0.810157</td>\n",
              "      <td>0.812971</td>\n",
              "      <td>NaN</td>\n",
              "      <td>NaN</td>\n",
              "    </tr>\n",
              "    <tr>\n",
              "      <th>concavity_mean</th>\n",
              "      <td>NaN</td>\n",
              "      <td>NaN</td>\n",
              "      <td>0.706077</td>\n",
              "      <td>NaN</td>\n",
              "      <td>NaN</td>\n",
              "      <td>0.878509</td>\n",
              "      <td>1.000000</td>\n",
              "      <td>0.919573</td>\n",
              "      <td>NaN</td>\n",
              "      <td>NaN</td>\n",
              "      <td>...</td>\n",
              "      <td>NaN</td>\n",
              "      <td>NaN</td>\n",
              "      <td>0.721016</td>\n",
              "      <td>NaN</td>\n",
              "      <td>NaN</td>\n",
              "      <td>0.748121</td>\n",
              "      <td>0.881249</td>\n",
              "      <td>0.860203</td>\n",
              "      <td>NaN</td>\n",
              "      <td>NaN</td>\n",
              "    </tr>\n",
              "    <tr>\n",
              "      <th>concave points_mean</th>\n",
              "      <td>0.813878</td>\n",
              "      <td>NaN</td>\n",
              "      <td>0.842542</td>\n",
              "      <td>0.818680</td>\n",
              "      <td>NaN</td>\n",
              "      <td>0.826532</td>\n",
              "      <td>0.919573</td>\n",
              "      <td>1.000000</td>\n",
              "      <td>NaN</td>\n",
              "      <td>0.705162</td>\n",
              "      <td>...</td>\n",
              "      <td>0.823515</td>\n",
              "      <td>NaN</td>\n",
              "      <td>0.849125</td>\n",
              "      <td>0.806556</td>\n",
              "      <td>NaN</td>\n",
              "      <td>NaN</td>\n",
              "      <td>0.744437</td>\n",
              "      <td>0.908906</td>\n",
              "      <td>NaN</td>\n",
              "      <td>NaN</td>\n",
              "    </tr>\n",
              "    <tr>\n",
              "      <th>symmetry_mean</th>\n",
              "      <td>NaN</td>\n",
              "      <td>NaN</td>\n",
              "      <td>NaN</td>\n",
              "      <td>NaN</td>\n",
              "      <td>NaN</td>\n",
              "      <td>NaN</td>\n",
              "      <td>NaN</td>\n",
              "      <td>NaN</td>\n",
              "      <td>1.0</td>\n",
              "      <td>NaN</td>\n",
              "      <td>...</td>\n",
              "      <td>NaN</td>\n",
              "      <td>NaN</td>\n",
              "      <td>NaN</td>\n",
              "      <td>NaN</td>\n",
              "      <td>NaN</td>\n",
              "      <td>NaN</td>\n",
              "      <td>NaN</td>\n",
              "      <td>NaN</td>\n",
              "      <td>NaN</td>\n",
              "      <td>NaN</td>\n",
              "    </tr>\n",
              "    <tr>\n",
              "      <th>radius_se</th>\n",
              "      <td>NaN</td>\n",
              "      <td>NaN</td>\n",
              "      <td>NaN</td>\n",
              "      <td>0.732562</td>\n",
              "      <td>NaN</td>\n",
              "      <td>NaN</td>\n",
              "      <td>NaN</td>\n",
              "      <td>0.705162</td>\n",
              "      <td>NaN</td>\n",
              "      <td>1.000000</td>\n",
              "      <td>...</td>\n",
              "      <td>0.715065</td>\n",
              "      <td>NaN</td>\n",
              "      <td>0.719684</td>\n",
              "      <td>0.751548</td>\n",
              "      <td>NaN</td>\n",
              "      <td>NaN</td>\n",
              "      <td>NaN</td>\n",
              "      <td>NaN</td>\n",
              "      <td>NaN</td>\n",
              "      <td>NaN</td>\n",
              "    </tr>\n",
              "    <tr>\n",
              "      <th>texture_se</th>\n",
              "      <td>NaN</td>\n",
              "      <td>NaN</td>\n",
              "      <td>NaN</td>\n",
              "      <td>NaN</td>\n",
              "      <td>NaN</td>\n",
              "      <td>NaN</td>\n",
              "      <td>NaN</td>\n",
              "      <td>NaN</td>\n",
              "      <td>NaN</td>\n",
              "      <td>NaN</td>\n",
              "      <td>...</td>\n",
              "      <td>NaN</td>\n",
              "      <td>NaN</td>\n",
              "      <td>NaN</td>\n",
              "      <td>NaN</td>\n",
              "      <td>NaN</td>\n",
              "      <td>NaN</td>\n",
              "      <td>NaN</td>\n",
              "      <td>NaN</td>\n",
              "      <td>NaN</td>\n",
              "      <td>NaN</td>\n",
              "    </tr>\n",
              "    <tr>\n",
              "      <th>perimeter_se</th>\n",
              "      <td>NaN</td>\n",
              "      <td>NaN</td>\n",
              "      <td>NaN</td>\n",
              "      <td>0.726628</td>\n",
              "      <td>NaN</td>\n",
              "      <td>NaN</td>\n",
              "      <td>NaN</td>\n",
              "      <td>0.716531</td>\n",
              "      <td>NaN</td>\n",
              "      <td>0.972794</td>\n",
              "      <td>...</td>\n",
              "      <td>NaN</td>\n",
              "      <td>NaN</td>\n",
              "      <td>0.721031</td>\n",
              "      <td>0.730713</td>\n",
              "      <td>NaN</td>\n",
              "      <td>NaN</td>\n",
              "      <td>NaN</td>\n",
              "      <td>NaN</td>\n",
              "      <td>NaN</td>\n",
              "      <td>NaN</td>\n",
              "    </tr>\n",
              "    <tr>\n",
              "      <th>area_se</th>\n",
              "      <td>0.735864</td>\n",
              "      <td>NaN</td>\n",
              "      <td>0.744983</td>\n",
              "      <td>0.800086</td>\n",
              "      <td>NaN</td>\n",
              "      <td>NaN</td>\n",
              "      <td>NaN</td>\n",
              "      <td>NaN</td>\n",
              "      <td>NaN</td>\n",
              "      <td>0.951830</td>\n",
              "      <td>...</td>\n",
              "      <td>0.757373</td>\n",
              "      <td>NaN</td>\n",
              "      <td>0.761213</td>\n",
              "      <td>0.811408</td>\n",
              "      <td>NaN</td>\n",
              "      <td>NaN</td>\n",
              "      <td>NaN</td>\n",
              "      <td>NaN</td>\n",
              "      <td>NaN</td>\n",
              "      <td>NaN</td>\n",
              "    </tr>\n",
              "    <tr>\n",
              "      <th>compactness_se</th>\n",
              "      <td>NaN</td>\n",
              "      <td>NaN</td>\n",
              "      <td>NaN</td>\n",
              "      <td>NaN</td>\n",
              "      <td>NaN</td>\n",
              "      <td>0.738722</td>\n",
              "      <td>NaN</td>\n",
              "      <td>NaN</td>\n",
              "      <td>NaN</td>\n",
              "      <td>NaN</td>\n",
              "      <td>...</td>\n",
              "      <td>NaN</td>\n",
              "      <td>NaN</td>\n",
              "      <td>NaN</td>\n",
              "      <td>NaN</td>\n",
              "      <td>NaN</td>\n",
              "      <td>NaN</td>\n",
              "      <td>NaN</td>\n",
              "      <td>NaN</td>\n",
              "      <td>NaN</td>\n",
              "      <td>NaN</td>\n",
              "    </tr>\n",
              "    <tr>\n",
              "      <th>concavity_se</th>\n",
              "      <td>NaN</td>\n",
              "      <td>NaN</td>\n",
              "      <td>NaN</td>\n",
              "      <td>NaN</td>\n",
              "      <td>NaN</td>\n",
              "      <td>NaN</td>\n",
              "      <td>NaN</td>\n",
              "      <td>NaN</td>\n",
              "      <td>NaN</td>\n",
              "      <td>NaN</td>\n",
              "      <td>...</td>\n",
              "      <td>NaN</td>\n",
              "      <td>NaN</td>\n",
              "      <td>NaN</td>\n",
              "      <td>NaN</td>\n",
              "      <td>NaN</td>\n",
              "      <td>NaN</td>\n",
              "      <td>NaN</td>\n",
              "      <td>NaN</td>\n",
              "      <td>NaN</td>\n",
              "      <td>NaN</td>\n",
              "    </tr>\n",
              "    <tr>\n",
              "      <th>radius_worst</th>\n",
              "      <td>0.969539</td>\n",
              "      <td>NaN</td>\n",
              "      <td>0.969476</td>\n",
              "      <td>0.962746</td>\n",
              "      <td>NaN</td>\n",
              "      <td>NaN</td>\n",
              "      <td>NaN</td>\n",
              "      <td>0.823515</td>\n",
              "      <td>NaN</td>\n",
              "      <td>0.715065</td>\n",
              "      <td>...</td>\n",
              "      <td>1.000000</td>\n",
              "      <td>NaN</td>\n",
              "      <td>0.993708</td>\n",
              "      <td>0.984015</td>\n",
              "      <td>NaN</td>\n",
              "      <td>NaN</td>\n",
              "      <td>NaN</td>\n",
              "      <td>0.780107</td>\n",
              "      <td>NaN</td>\n",
              "      <td>NaN</td>\n",
              "    </tr>\n",
              "    <tr>\n",
              "      <th>texture_worst</th>\n",
              "      <td>NaN</td>\n",
              "      <td>0.912045</td>\n",
              "      <td>NaN</td>\n",
              "      <td>NaN</td>\n",
              "      <td>NaN</td>\n",
              "      <td>NaN</td>\n",
              "      <td>NaN</td>\n",
              "      <td>NaN</td>\n",
              "      <td>NaN</td>\n",
              "      <td>NaN</td>\n",
              "      <td>...</td>\n",
              "      <td>NaN</td>\n",
              "      <td>1.000000</td>\n",
              "      <td>NaN</td>\n",
              "      <td>NaN</td>\n",
              "      <td>NaN</td>\n",
              "      <td>NaN</td>\n",
              "      <td>NaN</td>\n",
              "      <td>NaN</td>\n",
              "      <td>NaN</td>\n",
              "      <td>NaN</td>\n",
              "    </tr>\n",
              "    <tr>\n",
              "      <th>perimeter_worst</th>\n",
              "      <td>0.965137</td>\n",
              "      <td>NaN</td>\n",
              "      <td>0.970387</td>\n",
              "      <td>0.959120</td>\n",
              "      <td>NaN</td>\n",
              "      <td>NaN</td>\n",
              "      <td>0.721016</td>\n",
              "      <td>0.849125</td>\n",
              "      <td>NaN</td>\n",
              "      <td>0.719684</td>\n",
              "      <td>...</td>\n",
              "      <td>0.993708</td>\n",
              "      <td>NaN</td>\n",
              "      <td>1.000000</td>\n",
              "      <td>0.977578</td>\n",
              "      <td>NaN</td>\n",
              "      <td>NaN</td>\n",
              "      <td>NaN</td>\n",
              "      <td>0.809300</td>\n",
              "      <td>NaN</td>\n",
              "      <td>NaN</td>\n",
              "    </tr>\n",
              "    <tr>\n",
              "      <th>area_worst</th>\n",
              "      <td>0.941082</td>\n",
              "      <td>NaN</td>\n",
              "      <td>0.941550</td>\n",
              "      <td>0.959213</td>\n",
              "      <td>NaN</td>\n",
              "      <td>NaN</td>\n",
              "      <td>NaN</td>\n",
              "      <td>0.806556</td>\n",
              "      <td>NaN</td>\n",
              "      <td>0.751548</td>\n",
              "      <td>...</td>\n",
              "      <td>0.984015</td>\n",
              "      <td>NaN</td>\n",
              "      <td>0.977578</td>\n",
              "      <td>1.000000</td>\n",
              "      <td>NaN</td>\n",
              "      <td>NaN</td>\n",
              "      <td>NaN</td>\n",
              "      <td>0.745814</td>\n",
              "      <td>NaN</td>\n",
              "      <td>NaN</td>\n",
              "    </tr>\n",
              "    <tr>\n",
              "      <th>smoothness_worst</th>\n",
              "      <td>NaN</td>\n",
              "      <td>NaN</td>\n",
              "      <td>NaN</td>\n",
              "      <td>NaN</td>\n",
              "      <td>0.805324</td>\n",
              "      <td>NaN</td>\n",
              "      <td>NaN</td>\n",
              "      <td>NaN</td>\n",
              "      <td>NaN</td>\n",
              "      <td>NaN</td>\n",
              "      <td>...</td>\n",
              "      <td>NaN</td>\n",
              "      <td>NaN</td>\n",
              "      <td>NaN</td>\n",
              "      <td>NaN</td>\n",
              "      <td>1.000000</td>\n",
              "      <td>NaN</td>\n",
              "      <td>NaN</td>\n",
              "      <td>NaN</td>\n",
              "      <td>NaN</td>\n",
              "      <td>NaN</td>\n",
              "    </tr>\n",
              "    <tr>\n",
              "      <th>compactness_worst</th>\n",
              "      <td>NaN</td>\n",
              "      <td>NaN</td>\n",
              "      <td>NaN</td>\n",
              "      <td>NaN</td>\n",
              "      <td>NaN</td>\n",
              "      <td>0.865809</td>\n",
              "      <td>0.748121</td>\n",
              "      <td>NaN</td>\n",
              "      <td>NaN</td>\n",
              "      <td>NaN</td>\n",
              "      <td>...</td>\n",
              "      <td>NaN</td>\n",
              "      <td>NaN</td>\n",
              "      <td>NaN</td>\n",
              "      <td>NaN</td>\n",
              "      <td>NaN</td>\n",
              "      <td>1.000000</td>\n",
              "      <td>0.886329</td>\n",
              "      <td>0.796402</td>\n",
              "      <td>NaN</td>\n",
              "      <td>0.810455</td>\n",
              "    </tr>\n",
              "    <tr>\n",
              "      <th>concavity_worst</th>\n",
              "      <td>NaN</td>\n",
              "      <td>NaN</td>\n",
              "      <td>NaN</td>\n",
              "      <td>NaN</td>\n",
              "      <td>NaN</td>\n",
              "      <td>0.810157</td>\n",
              "      <td>0.881249</td>\n",
              "      <td>0.744437</td>\n",
              "      <td>NaN</td>\n",
              "      <td>NaN</td>\n",
              "      <td>...</td>\n",
              "      <td>NaN</td>\n",
              "      <td>NaN</td>\n",
              "      <td>NaN</td>\n",
              "      <td>NaN</td>\n",
              "      <td>NaN</td>\n",
              "      <td>0.886329</td>\n",
              "      <td>1.000000</td>\n",
              "      <td>0.850528</td>\n",
              "      <td>NaN</td>\n",
              "      <td>NaN</td>\n",
              "    </tr>\n",
              "    <tr>\n",
              "      <th>concave points_worst</th>\n",
              "      <td>0.732481</td>\n",
              "      <td>NaN</td>\n",
              "      <td>0.760039</td>\n",
              "      <td>0.716611</td>\n",
              "      <td>NaN</td>\n",
              "      <td>0.812971</td>\n",
              "      <td>0.860203</td>\n",
              "      <td>0.908906</td>\n",
              "      <td>NaN</td>\n",
              "      <td>NaN</td>\n",
              "      <td>...</td>\n",
              "      <td>0.780107</td>\n",
              "      <td>NaN</td>\n",
              "      <td>0.809300</td>\n",
              "      <td>0.745814</td>\n",
              "      <td>NaN</td>\n",
              "      <td>0.796402</td>\n",
              "      <td>0.850528</td>\n",
              "      <td>1.000000</td>\n",
              "      <td>NaN</td>\n",
              "      <td>NaN</td>\n",
              "    </tr>\n",
              "    <tr>\n",
              "      <th>symmetry_worst</th>\n",
              "      <td>NaN</td>\n",
              "      <td>NaN</td>\n",
              "      <td>NaN</td>\n",
              "      <td>NaN</td>\n",
              "      <td>NaN</td>\n",
              "      <td>NaN</td>\n",
              "      <td>NaN</td>\n",
              "      <td>NaN</td>\n",
              "      <td>NaN</td>\n",
              "      <td>NaN</td>\n",
              "      <td>...</td>\n",
              "      <td>NaN</td>\n",
              "      <td>NaN</td>\n",
              "      <td>NaN</td>\n",
              "      <td>NaN</td>\n",
              "      <td>NaN</td>\n",
              "      <td>NaN</td>\n",
              "      <td>NaN</td>\n",
              "      <td>NaN</td>\n",
              "      <td>1.0</td>\n",
              "      <td>NaN</td>\n",
              "    </tr>\n",
              "    <tr>\n",
              "      <th>fractal_dimension_worst</th>\n",
              "      <td>NaN</td>\n",
              "      <td>NaN</td>\n",
              "      <td>NaN</td>\n",
              "      <td>NaN</td>\n",
              "      <td>NaN</td>\n",
              "      <td>NaN</td>\n",
              "      <td>NaN</td>\n",
              "      <td>NaN</td>\n",
              "      <td>NaN</td>\n",
              "      <td>NaN</td>\n",
              "      <td>...</td>\n",
              "      <td>NaN</td>\n",
              "      <td>NaN</td>\n",
              "      <td>NaN</td>\n",
              "      <td>NaN</td>\n",
              "      <td>NaN</td>\n",
              "      <td>0.810455</td>\n",
              "      <td>NaN</td>\n",
              "      <td>NaN</td>\n",
              "      <td>NaN</td>\n",
              "      <td>1.000000</td>\n",
              "    </tr>\n",
              "  </tbody>\n",
              "</table>\n",
              "<p>25 rows × 25 columns</p>\n",
              "</div>\n",
              "      <button class=\"colab-df-convert\" onclick=\"convertToInteractive('df-bc4cf599-ff8f-4ba1-9dd5-7bb582ca8c60')\"\n",
              "              title=\"Convert this dataframe to an interactive table.\"\n",
              "              style=\"display:none;\">\n",
              "        \n",
              "  <svg xmlns=\"http://www.w3.org/2000/svg\" height=\"24px\"viewBox=\"0 0 24 24\"\n",
              "       width=\"24px\">\n",
              "    <path d=\"M0 0h24v24H0V0z\" fill=\"none\"/>\n",
              "    <path d=\"M18.56 5.44l.94 2.06.94-2.06 2.06-.94-2.06-.94-.94-2.06-.94 2.06-2.06.94zm-11 1L8.5 8.5l.94-2.06 2.06-.94-2.06-.94L8.5 2.5l-.94 2.06-2.06.94zm10 10l.94 2.06.94-2.06 2.06-.94-2.06-.94-.94-2.06-.94 2.06-2.06.94z\"/><path d=\"M17.41 7.96l-1.37-1.37c-.4-.4-.92-.59-1.43-.59-.52 0-1.04.2-1.43.59L10.3 9.45l-7.72 7.72c-.78.78-.78 2.05 0 2.83L4 21.41c.39.39.9.59 1.41.59.51 0 1.02-.2 1.41-.59l7.78-7.78 2.81-2.81c.8-.78.8-2.07 0-2.86zM5.41 20L4 18.59l7.72-7.72 1.47 1.35L5.41 20z\"/>\n",
              "  </svg>\n",
              "      </button>\n",
              "      \n",
              "  <style>\n",
              "    .colab-df-container {\n",
              "      display:flex;\n",
              "      flex-wrap:wrap;\n",
              "      gap: 12px;\n",
              "    }\n",
              "\n",
              "    .colab-df-convert {\n",
              "      background-color: #E8F0FE;\n",
              "      border: none;\n",
              "      border-radius: 50%;\n",
              "      cursor: pointer;\n",
              "      display: none;\n",
              "      fill: #1967D2;\n",
              "      height: 32px;\n",
              "      padding: 0 0 0 0;\n",
              "      width: 32px;\n",
              "    }\n",
              "\n",
              "    .colab-df-convert:hover {\n",
              "      background-color: #E2EBFA;\n",
              "      box-shadow: 0px 1px 2px rgba(60, 64, 67, 0.3), 0px 1px 3px 1px rgba(60, 64, 67, 0.15);\n",
              "      fill: #174EA6;\n",
              "    }\n",
              "\n",
              "    [theme=dark] .colab-df-convert {\n",
              "      background-color: #3B4455;\n",
              "      fill: #D2E3FC;\n",
              "    }\n",
              "\n",
              "    [theme=dark] .colab-df-convert:hover {\n",
              "      background-color: #434B5C;\n",
              "      box-shadow: 0px 1px 3px 1px rgba(0, 0, 0, 0.15);\n",
              "      filter: drop-shadow(0px 1px 2px rgba(0, 0, 0, 0.3));\n",
              "      fill: #FFFFFF;\n",
              "    }\n",
              "  </style>\n",
              "\n",
              "      <script>\n",
              "        const buttonEl =\n",
              "          document.querySelector('#df-bc4cf599-ff8f-4ba1-9dd5-7bb582ca8c60 button.colab-df-convert');\n",
              "        buttonEl.style.display =\n",
              "          google.colab.kernel.accessAllowed ? 'block' : 'none';\n",
              "\n",
              "        async function convertToInteractive(key) {\n",
              "          const element = document.querySelector('#df-bc4cf599-ff8f-4ba1-9dd5-7bb582ca8c60');\n",
              "          const dataTable =\n",
              "            await google.colab.kernel.invokeFunction('convertToInteractive',\n",
              "                                                     [key], {});\n",
              "          if (!dataTable) return;\n",
              "\n",
              "          const docLinkHtml = 'Like what you see? Visit the ' +\n",
              "            '<a target=\"_blank\" href=https://colab.research.google.com/notebooks/data_table.ipynb>data table notebook</a>'\n",
              "            + ' to learn more about interactive tables.';\n",
              "          element.innerHTML = '';\n",
              "          dataTable['output_type'] = 'display_data';\n",
              "          await google.colab.output.renderOutput(dataTable, element);\n",
              "          const docLink = document.createElement('div');\n",
              "          docLink.innerHTML = docLinkHtml;\n",
              "          element.appendChild(docLink);\n",
              "        }\n",
              "      </script>\n",
              "    </div>\n",
              "  </div>\n",
              "  "
            ]
          },
          "metadata": {},
          "execution_count": 14
        }
      ]
    },
    {
      "cell_type": "markdown",
      "source": [
        "For the elimation of correlation , I followed the following thought process:\n",
        "\n",
        "*   Pick the most varied feature and remove other features that are highly correlated to it ( +ve or -ve correlation) \n",
        "*   Repeat till we have features that doesn't have high correlation but has high enough variance as well\n",
        "\n",
        "*The cut off for high correlation was 0.7*\n"
      ],
      "metadata": {
        "id": "RNn6BYmywHEk"
      }
    },
    {
      "cell_type": "code",
      "source": [
        "corr_matrix.drop(['perimeter_mean','radius_mean','concave points_mean','radius_worst','perimeter_worst','area_worst','concave points_worst','radius_se','perimeter_se','area_se','texture_mean','compactness_mean','concavity_mean','compactness_worst','compactness_se','smoothness_mean'],axis=1,inplace=True)\n",
        "corr_matrix.drop(['perimeter_mean','radius_mean','concave points_mean','radius_worst','perimeter_worst','area_worst','concave points_worst','radius_se','perimeter_se','area_se','texture_mean','compactness_mean','concavity_mean','compactness_worst','compactness_se','smoothness_mean'],axis=0,inplace=True)\n",
        "corr_matrix[corr_matrix.abs()>0.7]"
      ],
      "metadata": {
        "colab": {
          "base_uri": "https://localhost:8080/",
          "height": 395
        },
        "id": "UeF92J13rwgn",
        "outputId": "5b1499f2-22f2-427b-d1fb-95d91d81d6dd"
      },
      "execution_count": null,
      "outputs": [
        {
          "output_type": "execute_result",
          "data": {
            "text/plain": [
              "                         area_mean  symmetry_mean  texture_se  concavity_se  \\\n",
              "area_mean                      1.0            NaN         NaN           NaN   \n",
              "symmetry_mean                  NaN            1.0         NaN           NaN   \n",
              "texture_se                     NaN            NaN         1.0           NaN   \n",
              "concavity_se                   NaN            NaN         NaN           1.0   \n",
              "texture_worst                  NaN            NaN         NaN           NaN   \n",
              "smoothness_worst               NaN            NaN         NaN           NaN   \n",
              "concavity_worst                NaN            NaN         NaN           NaN   \n",
              "symmetry_worst                 NaN            NaN         NaN           NaN   \n",
              "fractal_dimension_worst        NaN            NaN         NaN           NaN   \n",
              "\n",
              "                         texture_worst  smoothness_worst  concavity_worst  \\\n",
              "area_mean                          NaN               NaN              NaN   \n",
              "symmetry_mean                      NaN               NaN              NaN   \n",
              "texture_se                         NaN               NaN              NaN   \n",
              "concavity_se                       NaN               NaN              NaN   \n",
              "texture_worst                      1.0               NaN              NaN   \n",
              "smoothness_worst                   NaN               1.0              NaN   \n",
              "concavity_worst                    NaN               NaN              1.0   \n",
              "symmetry_worst                     NaN               NaN              NaN   \n",
              "fractal_dimension_worst            NaN               NaN              NaN   \n",
              "\n",
              "                         symmetry_worst  fractal_dimension_worst  \n",
              "area_mean                           NaN                      NaN  \n",
              "symmetry_mean                       NaN                      NaN  \n",
              "texture_se                          NaN                      NaN  \n",
              "concavity_se                        NaN                      NaN  \n",
              "texture_worst                       NaN                      NaN  \n",
              "smoothness_worst                    NaN                      NaN  \n",
              "concavity_worst                     NaN                      NaN  \n",
              "symmetry_worst                      1.0                      NaN  \n",
              "fractal_dimension_worst             NaN                      1.0  "
            ],
            "text/html": [
              "\n",
              "  <div id=\"df-ab8f148f-e202-422c-8010-48cf47056c4e\">\n",
              "    <div class=\"colab-df-container\">\n",
              "      <div>\n",
              "<style scoped>\n",
              "    .dataframe tbody tr th:only-of-type {\n",
              "        vertical-align: middle;\n",
              "    }\n",
              "\n",
              "    .dataframe tbody tr th {\n",
              "        vertical-align: top;\n",
              "    }\n",
              "\n",
              "    .dataframe thead th {\n",
              "        text-align: right;\n",
              "    }\n",
              "</style>\n",
              "<table border=\"1\" class=\"dataframe\">\n",
              "  <thead>\n",
              "    <tr style=\"text-align: right;\">\n",
              "      <th></th>\n",
              "      <th>area_mean</th>\n",
              "      <th>symmetry_mean</th>\n",
              "      <th>texture_se</th>\n",
              "      <th>concavity_se</th>\n",
              "      <th>texture_worst</th>\n",
              "      <th>smoothness_worst</th>\n",
              "      <th>concavity_worst</th>\n",
              "      <th>symmetry_worst</th>\n",
              "      <th>fractal_dimension_worst</th>\n",
              "    </tr>\n",
              "  </thead>\n",
              "  <tbody>\n",
              "    <tr>\n",
              "      <th>area_mean</th>\n",
              "      <td>1.0</td>\n",
              "      <td>NaN</td>\n",
              "      <td>NaN</td>\n",
              "      <td>NaN</td>\n",
              "      <td>NaN</td>\n",
              "      <td>NaN</td>\n",
              "      <td>NaN</td>\n",
              "      <td>NaN</td>\n",
              "      <td>NaN</td>\n",
              "    </tr>\n",
              "    <tr>\n",
              "      <th>symmetry_mean</th>\n",
              "      <td>NaN</td>\n",
              "      <td>1.0</td>\n",
              "      <td>NaN</td>\n",
              "      <td>NaN</td>\n",
              "      <td>NaN</td>\n",
              "      <td>NaN</td>\n",
              "      <td>NaN</td>\n",
              "      <td>NaN</td>\n",
              "      <td>NaN</td>\n",
              "    </tr>\n",
              "    <tr>\n",
              "      <th>texture_se</th>\n",
              "      <td>NaN</td>\n",
              "      <td>NaN</td>\n",
              "      <td>1.0</td>\n",
              "      <td>NaN</td>\n",
              "      <td>NaN</td>\n",
              "      <td>NaN</td>\n",
              "      <td>NaN</td>\n",
              "      <td>NaN</td>\n",
              "      <td>NaN</td>\n",
              "    </tr>\n",
              "    <tr>\n",
              "      <th>concavity_se</th>\n",
              "      <td>NaN</td>\n",
              "      <td>NaN</td>\n",
              "      <td>NaN</td>\n",
              "      <td>1.0</td>\n",
              "      <td>NaN</td>\n",
              "      <td>NaN</td>\n",
              "      <td>NaN</td>\n",
              "      <td>NaN</td>\n",
              "      <td>NaN</td>\n",
              "    </tr>\n",
              "    <tr>\n",
              "      <th>texture_worst</th>\n",
              "      <td>NaN</td>\n",
              "      <td>NaN</td>\n",
              "      <td>NaN</td>\n",
              "      <td>NaN</td>\n",
              "      <td>1.0</td>\n",
              "      <td>NaN</td>\n",
              "      <td>NaN</td>\n",
              "      <td>NaN</td>\n",
              "      <td>NaN</td>\n",
              "    </tr>\n",
              "    <tr>\n",
              "      <th>smoothness_worst</th>\n",
              "      <td>NaN</td>\n",
              "      <td>NaN</td>\n",
              "      <td>NaN</td>\n",
              "      <td>NaN</td>\n",
              "      <td>NaN</td>\n",
              "      <td>1.0</td>\n",
              "      <td>NaN</td>\n",
              "      <td>NaN</td>\n",
              "      <td>NaN</td>\n",
              "    </tr>\n",
              "    <tr>\n",
              "      <th>concavity_worst</th>\n",
              "      <td>NaN</td>\n",
              "      <td>NaN</td>\n",
              "      <td>NaN</td>\n",
              "      <td>NaN</td>\n",
              "      <td>NaN</td>\n",
              "      <td>NaN</td>\n",
              "      <td>1.0</td>\n",
              "      <td>NaN</td>\n",
              "      <td>NaN</td>\n",
              "    </tr>\n",
              "    <tr>\n",
              "      <th>symmetry_worst</th>\n",
              "      <td>NaN</td>\n",
              "      <td>NaN</td>\n",
              "      <td>NaN</td>\n",
              "      <td>NaN</td>\n",
              "      <td>NaN</td>\n",
              "      <td>NaN</td>\n",
              "      <td>NaN</td>\n",
              "      <td>1.0</td>\n",
              "      <td>NaN</td>\n",
              "    </tr>\n",
              "    <tr>\n",
              "      <th>fractal_dimension_worst</th>\n",
              "      <td>NaN</td>\n",
              "      <td>NaN</td>\n",
              "      <td>NaN</td>\n",
              "      <td>NaN</td>\n",
              "      <td>NaN</td>\n",
              "      <td>NaN</td>\n",
              "      <td>NaN</td>\n",
              "      <td>NaN</td>\n",
              "      <td>1.0</td>\n",
              "    </tr>\n",
              "  </tbody>\n",
              "</table>\n",
              "</div>\n",
              "      <button class=\"colab-df-convert\" onclick=\"convertToInteractive('df-ab8f148f-e202-422c-8010-48cf47056c4e')\"\n",
              "              title=\"Convert this dataframe to an interactive table.\"\n",
              "              style=\"display:none;\">\n",
              "        \n",
              "  <svg xmlns=\"http://www.w3.org/2000/svg\" height=\"24px\"viewBox=\"0 0 24 24\"\n",
              "       width=\"24px\">\n",
              "    <path d=\"M0 0h24v24H0V0z\" fill=\"none\"/>\n",
              "    <path d=\"M18.56 5.44l.94 2.06.94-2.06 2.06-.94-2.06-.94-.94-2.06-.94 2.06-2.06.94zm-11 1L8.5 8.5l.94-2.06 2.06-.94-2.06-.94L8.5 2.5l-.94 2.06-2.06.94zm10 10l.94 2.06.94-2.06 2.06-.94-2.06-.94-.94-2.06-.94 2.06-2.06.94z\"/><path d=\"M17.41 7.96l-1.37-1.37c-.4-.4-.92-.59-1.43-.59-.52 0-1.04.2-1.43.59L10.3 9.45l-7.72 7.72c-.78.78-.78 2.05 0 2.83L4 21.41c.39.39.9.59 1.41.59.51 0 1.02-.2 1.41-.59l7.78-7.78 2.81-2.81c.8-.78.8-2.07 0-2.86zM5.41 20L4 18.59l7.72-7.72 1.47 1.35L5.41 20z\"/>\n",
              "  </svg>\n",
              "      </button>\n",
              "      \n",
              "  <style>\n",
              "    .colab-df-container {\n",
              "      display:flex;\n",
              "      flex-wrap:wrap;\n",
              "      gap: 12px;\n",
              "    }\n",
              "\n",
              "    .colab-df-convert {\n",
              "      background-color: #E8F0FE;\n",
              "      border: none;\n",
              "      border-radius: 50%;\n",
              "      cursor: pointer;\n",
              "      display: none;\n",
              "      fill: #1967D2;\n",
              "      height: 32px;\n",
              "      padding: 0 0 0 0;\n",
              "      width: 32px;\n",
              "    }\n",
              "\n",
              "    .colab-df-convert:hover {\n",
              "      background-color: #E2EBFA;\n",
              "      box-shadow: 0px 1px 2px rgba(60, 64, 67, 0.3), 0px 1px 3px 1px rgba(60, 64, 67, 0.15);\n",
              "      fill: #174EA6;\n",
              "    }\n",
              "\n",
              "    [theme=dark] .colab-df-convert {\n",
              "      background-color: #3B4455;\n",
              "      fill: #D2E3FC;\n",
              "    }\n",
              "\n",
              "    [theme=dark] .colab-df-convert:hover {\n",
              "      background-color: #434B5C;\n",
              "      box-shadow: 0px 1px 3px 1px rgba(0, 0, 0, 0.15);\n",
              "      filter: drop-shadow(0px 1px 2px rgba(0, 0, 0, 0.3));\n",
              "      fill: #FFFFFF;\n",
              "    }\n",
              "  </style>\n",
              "\n",
              "      <script>\n",
              "        const buttonEl =\n",
              "          document.querySelector('#df-ab8f148f-e202-422c-8010-48cf47056c4e button.colab-df-convert');\n",
              "        buttonEl.style.display =\n",
              "          google.colab.kernel.accessAllowed ? 'block' : 'none';\n",
              "\n",
              "        async function convertToInteractive(key) {\n",
              "          const element = document.querySelector('#df-ab8f148f-e202-422c-8010-48cf47056c4e');\n",
              "          const dataTable =\n",
              "            await google.colab.kernel.invokeFunction('convertToInteractive',\n",
              "                                                     [key], {});\n",
              "          if (!dataTable) return;\n",
              "\n",
              "          const docLinkHtml = 'Like what you see? Visit the ' +\n",
              "            '<a target=\"_blank\" href=https://colab.research.google.com/notebooks/data_table.ipynb>data table notebook</a>'\n",
              "            + ' to learn more about interactive tables.';\n",
              "          element.innerHTML = '';\n",
              "          dataTable['output_type'] = 'display_data';\n",
              "          await google.colab.output.renderOutput(dataTable, element);\n",
              "          const docLink = document.createElement('div');\n",
              "          docLink.innerHTML = docLinkHtml;\n",
              "          element.appendChild(docLink);\n",
              "        }\n",
              "      </script>\n",
              "    </div>\n",
              "  </div>\n",
              "  "
            ]
          },
          "metadata": {},
          "execution_count": 15
        }
      ]
    },
    {
      "cell_type": "markdown",
      "source": [
        "As we can see, the rest of the features don't have correlation higher than 0.7 so we now proceed to drop the same features from the dataset as well.\n",
        "\n",
        "**corr()** -> [ https://pandas.pydata.org/docs/reference/api/pandas.core.groupby.DataFrameGroupBy.corr.html?highlight=corr#pandas.core.groupby.DataFrameGroupBy.corr ]"
      ],
      "metadata": {
        "id": "BTuhmfhd2S6L"
      }
    },
    {
      "cell_type": "code",
      "source": [
        "cancer.drop(['perimeter_mean','radius_mean','concave points_mean','radius_worst','perimeter_worst','area_worst','concave points_worst','radius_se','perimeter_se','area_se','texture_mean','compactness_mean','concavity_mean','compactness_worst','compactness_se','smoothness_mean'],axis=1,inplace=True)"
      ],
      "metadata": {
        "id": "1LNIHHWl2TP9"
      },
      "execution_count": null,
      "outputs": []
    },
    {
      "cell_type": "markdown",
      "source": [
        "  **Step 2F: Dealing with duplicate rows in the data**\n",
        "\n",
        "We can check if there are any duplicate data in the dataset using the **duplicated()** method as it\n",
        "\n",
        ">Return boolean Series denoting duplicate rows.\n",
        "\n",
        "[ https://pandas.pydata.org/docs/reference/api/pandas.DataFrame.duplicated.html ]"
      ],
      "metadata": {
        "id": "juWQq3lkOmyd"
      }
    },
    {
      "cell_type": "code",
      "source": [
        "print(\"Number of duplicate rows: \"+str(cancer.duplicated().sum()))"
      ],
      "metadata": {
        "id": "5-AexgSKOo4k",
        "colab": {
          "base_uri": "https://localhost:8080/"
        },
        "outputId": "f7c2eaad-14e3-4afa-dd36-648a657f907a"
      },
      "execution_count": null,
      "outputs": [
        {
          "output_type": "stream",
          "name": "stdout",
          "text": [
            "Number of duplicate rows: 0\n"
          ]
        }
      ]
    },
    {
      "cell_type": "markdown",
      "source": [
        "From the above output, the dataset doesn't have any duplicate values. This means there aren't any duplicate rows to remove and we can move on to the next step.\n",
        "\n",
        "duplicated() -> [ https://pandas.pydata.org/docs/reference/api/pandas.DataFrame.duplicated.html?highlight=duplicated#pandas.DataFrame.duplicated ]"
      ],
      "metadata": {
        "id": "fJh2Y9bbOrOd"
      }
    },
    {
      "cell_type": "markdown",
      "source": [
        "**Step 2G: Outlier Removal**\n",
        "\n",
        "We will plot a box graph to see the outliers within each features. We will aim to drop the rows that are outliers for the corresponding features:"
      ],
      "metadata": {
        "id": "ILPwLKxCBlCK"
      }
    },
    {
      "cell_type": "code",
      "source": [
        "for c in cancer.columns:\n",
        "  cancer[c].plot(kind='box',figsize=(5,5))\n",
        "  plot.show()"
      ],
      "metadata": {
        "colab": {
          "base_uri": "https://localhost:8080/",
          "height": 1000
        },
        "id": "9FKeBJIeBrFY",
        "outputId": "5f8b8967-6321-4279-9680-64d9b1574d9b"
      },
      "execution_count": null,
      "outputs": [
        {
          "output_type": "display_data",
          "data": {
            "text/plain": [
              "<Figure size 360x360 with 1 Axes>"
            ],
            "image/png": "[encoded data removed]"
          },
          "metadata": {
            "needs_background": "light"
          }
        },
        {
          "output_type": "display_data",
          "data": {
            "text/plain": [
              "<Figure size 360x360 with 1 Axes>"
            ],
            "image/png": "[encoded data removed]"
          },
          "metadata": {
            "needs_background": "light"
          }
        },
        {
          "output_type": "display_data",
          "data": {
            "text/plain": [
              "<Figure size 360x360 with 1 Axes>"
            ],
            "image/png": "[encoded data removed]"
          },
          "metadata": {
            "needs_background": "light"
          }
        },
        {
          "output_type": "display_data",
          "data": {
            "text/plain": [
              "<Figure size 360x360 with 1 Axes>"
            ],
            "image/png": "[encoded data removed]"
          },
          "metadata": {
            "needs_background": "light"
          }
        },
        {
          "output_type": "display_data",
          "data": {
            "text/plain": [
              "<Figure size 360x360 with 1 Axes>"
            ],
            "image/png": "[encoded data removed]"
          },
          "metadata": {
            "needs_background": "light"
          }
        },
        {
          "output_type": "display_data",
          "data": {
            "text/plain": [
              "<Figure size 360x360 with 1 Axes>"
            ],
            "image/png": "[encoded data removed]"
          },
          "metadata": {
            "needs_background": "light"
          }
        },
        {
          "output_type": "display_data",
          "data": {
            "text/plain": [
              "<Figure size 360x360 with 1 Axes>"
            ],
            "image/png": "[encoded data removed]"
          },
          "metadata": {
            "needs_background": "light"
          }
        },
        {
          "output_type": "display_data",
          "data": {
            "text/plain": [
              "<Figure size 360x360 with 1 Axes>"
            ],
            "image/png": "[encoded data removed]"
          },
          "metadata": {
            "needs_background": "light"
          }
        },
        {
          "output_type": "display_data",
          "data": {
            "text/plain": [
              "<Figure size 360x360 with 1 Axes>"
            ],
            "image/png": "[encoded data removed]"
          },
          "metadata": {
            "needs_background": "light"
          }
        },
        {
          "output_type": "display_data",
          "data": {
            "text/plain": [
              "<Figure size 360x360 with 1 Axes>"
            ],
            "image/png": "[encoded data removed]"
          },
          "metadata": {
            "needs_background": "light"
          }
        }
      ]
    },
    {
      "cell_type": "code",
      "source": [
        "cancer=cancer[cancer['concavity_se']<0.25]\n",
        "for c in cancer.columns:\n",
        "  cancer[c].plot(kind='box',figsize=(5,5))\n",
        "  plot.show()"
      ],
      "metadata": {
        "colab": {
          "base_uri": "https://localhost:8080/",
          "height": 1000
        },
        "id": "QfiNLPPoH3OU",
        "outputId": "e36b5a53-a67f-49e1-93c6-f4e76a52f9aa"
      },
      "execution_count": null,
      "outputs": [
        {
          "output_type": "display_data",
          "data": {
            "text/plain": [
              "<Figure size 360x360 with 1 Axes>"
            ],
            "image/png": "[encoded data removed]"
          },
          "metadata": {
            "needs_background": "light"
          }
        },
        {
          "output_type": "display_data",
          "data": {
            "text/plain": [
              "<Figure size 360x360 with 1 Axes>"
            ],
            "image/png": "[encoded data removed]"
          },
          "metadata": {
            "needs_background": "light"
          }
        },
        {
          "output_type": "display_data",
          "data": {
            "text/plain": [
              "<Figure size 360x360 with 1 Axes>"
            ],
            "image/png": "[encoded data removed]"
          },
          "metadata": {
            "needs_background": "light"
          }
        },
        {
          "output_type": "display_data",
          "data": {
            "text/plain": [
              "<Figure size 360x360 with 1 Axes>"
            ],
            "image/png": "[encoded data removed]"
          },
          "metadata": {
            "needs_background": "light"
          }
        },
        {
          "output_type": "display_data",
          "data": {
            "text/plain": [
              "<Figure size 360x360 with 1 Axes>"
            ],
            "image/png": "[encoded data removed]"
          },
          "metadata": {
            "needs_background": "light"
          }
        },
        {
          "output_type": "display_data",
          "data": {
            "text/plain": [
              "<Figure size 360x360 with 1 Axes>"
            ],
            "image/png": "[encoded data removed]"
          },
          "metadata": {
            "needs_background": "light"
          }
        },
        {
          "output_type": "display_data",
          "data": {
            "text/plain": [
              "<Figure size 360x360 with 1 Axes>"
            ],
            "image/png": "[encoded data removed]"
          },
          "metadata": {
            "needs_background": "light"
          }
        },
        {
          "output_type": "display_data",
          "data": {
            "text/plain": [
              "<Figure size 360x360 with 1 Axes>"
            ],
            "image/png": "[encoded data removed]"
          },
          "metadata": {
            "needs_background": "light"
          }
        },
        {
          "output_type": "display_data",
          "data": {
            "text/plain": [
              "<Figure size 360x360 with 1 Axes>"
            ],
            "image/png": "[encoded data removed]"
          },
          "metadata": {
            "needs_background": "light"
          }
        },
        {
          "output_type": "display_data",
          "data": {
            "text/plain": [
              "<Figure size 360x360 with 1 Axes>"
            ],
            "image/png": "[encoded data removed]"
          },
          "metadata": {
            "needs_background": "light"
          }
        }
      ]
    },
    {
      "cell_type": "markdown",
      "source": [
        "While individually there seems to be outliers or extreme data within each feature, clearly the outlier values are **concavity_se** with data points clearly far away from the rest (above 0.25). In the rest of the features, the data seem more plausible and infact shouldn't just be treated as outliers.\n",
        "\n",
        "One thing I came across was not to just blindly remove the outliers or mathematically chop off the 5% ends of a data. I refererred this to come to this conclusion:\n",
        "\n",
        "https://www.researchgate.net/post/Should_outliers_be_removed_before_or_after_data_transformation"
      ],
      "metadata": {
        "id": "BFkWneb8FT0T"
      }
    },
    {
      "cell_type": "code",
      "source": [
        "cancer_backup = cancer.copy(deep=True)"
      ],
      "metadata": {
        "id": "SJ2cdgKXOq-c"
      },
      "execution_count": null,
      "outputs": []
    },
    {
      "cell_type": "markdown",
      "source": [
        "**Step 2H: Z Score Normalisation**\n",
        "\n",
        "We want to standardise all the features to have similar or comparable ranges of data. We will first standardise the data using z score standardisation. Refer to the article : https://www.statology.org/z-score-normalization/"
      ],
      "metadata": {
        "id": "A2ARdf3KOw83"
      }
    },
    {
      "cell_type": "code",
      "source": [
        "diagnosis=cancer['diagnosis']\n",
        "cancer.drop({\"diagnosis\"}, axis=1, inplace=True)\n",
        "old_mean = cancer.mean()\n",
        "#print(\"Old Mean:\" ,old_mean)\n",
        "old_std = cancer.std(ddof=0)\n",
        "#print(\"Old Standard Deviation: \",old_std)\n",
        "cancer = (cancer - old_mean)/old_std\n",
        "new_mean=cancer.mean()\n",
        "new_std=cancer.std(ddof=0)\n",
        "#print(\"New Mean:\" ,new_mean)\n",
        "#print(\"New Standard Deviation: \",new_std)\n",
        "print(cancer.describe())"
      ],
      "metadata": {
        "id": "UxUha47JOy41",
        "colab": {
          "base_uri": "https://localhost:8080/"
        },
        "outputId": "0f1955a7-201f-43c0-89f5-099f1f21ace7"
      },
      "execution_count": null,
      "outputs": [
        {
          "output_type": "stream",
          "name": "stdout",
          "text": [
            "          area_mean  symmetry_mean    texture_se  concavity_se  texture_worst  \\\n",
            "count  5.670000e+02   5.670000e+02  5.670000e+02  5.670000e+02   5.670000e+02   \n",
            "mean   2.694298e-16   7.268338e-16 -2.678633e-16  6.265809e-17  -1.378478e-16   \n",
            "std    1.000883e+00   1.000883e+00  1.000883e+00  1.000883e+00   1.000883e+00   \n",
            "min   -1.458699e+00  -2.753147e+00 -1.556457e+00 -1.337800e+00  -2.225193e+00   \n",
            "25%   -6.709249e-01  -7.005652e-01 -6.959916e-01 -6.736980e-01  -7.491599e-01   \n",
            "50%   -2.973794e-01  -6.532970e-02 -1.937804e-01 -2.342459e-01  -4.124991e-02   \n",
            "75%    3.680608e-01   5.331870e-01  4.722508e-01  4.468754e-01   6.674738e-01   \n",
            "max    5.248335e+00   4.517178e+00  6.688846e+00  5.326243e+00   3.880734e+00   \n",
            "\n",
            "       smoothness_worst  concavity_worst  symmetry_worst  \\\n",
            "count      5.670000e+02     5.670000e+02    5.670000e+02   \n",
            "mean      -8.145552e-16     1.754427e-16    3.258221e-16   \n",
            "std        1.000883e+00     1.000883e+00    1.000883e+00   \n",
            "min       -2.678179e+00    -1.358431e+00   -2.161799e+00   \n",
            "25%       -6.893410e-01    -7.491439e-01   -6.406495e-01   \n",
            "50%       -4.580330e-02    -2.347117e-01   -1.281940e-01   \n",
            "75%        5.977344e-01     5.351852e-01    4.531836e-01   \n",
            "max        3.951135e+00     4.487256e+00    6.065058e+00   \n",
            "\n",
            "       fractal_dimension_worst  \n",
            "count             5.670000e+02  \n",
            "mean             -5.889860e-16  \n",
            "std               1.000883e+00  \n",
            "min              -1.604242e+00  \n",
            "25%              -6.940284e-01  \n",
            "50%              -2.131346e-01  \n",
            "75%               4.590015e-01  \n",
            "max               6.896287e+00  \n"
          ]
        }
      ]
    },
    {
      "cell_type": "markdown",
      "source": [
        "As we can see from the new and old, we have successfully normalised the data. The mean is now ~0 and standard deviation is ~1.\n"
      ],
      "metadata": {
        "id": "vVLNGxR4O1dZ"
      }
    },
    {
      "cell_type": "markdown",
      "source": [
        "  **Step 2F: Splitting the data into train and test set**\n",
        "\n",
        "Finally, once the data has been preprocessed, we need to split in into training and test set. This is so that we can train the model on one set and test it against the other so that we can measure the accuracy of our model.\n",
        "\n",
        "I have chosen to take 80% of the data (455 rows) to train the model while the rest 20% of the data (114 rows) will be used to test the model's accuracy. This concludes the preprocessing steps."
      ],
      "metadata": {
        "id": "34kR1SU-O6AQ"
      }
    },
    {
      "cell_type": "code",
      "source": [
        "cancer_train = cancer.loc[:454].copy(deep=True)\n",
        "diagnosis_train = diagnosis.loc[:454].copy(deep=True)\n",
        "diagnosis_test = diagnosis.loc[455:].copy(deep=True)\n",
        "cancer_test = cancer.loc[455:].copy(deep=True)\n",
        "diagnosis_train = diagnosis.loc[:454].copy(deep=True)\n",
        "diagnosis_test = diagnosis.loc[455:].copy(deep=True)\n",
        "cancer_train_backup = cancer_train\n",
        "cancer_test_backup = cancer_test\n",
        "# note that loc is inclusive of both bounds unlike python's regular lower bound inlcusion"
      ],
      "metadata": {
        "id": "rCUEIEqzO9ty"
      },
      "execution_count": null,
      "outputs": []
    },
    {
      "cell_type": "markdown",
      "source": [
        "**Step 3: Logistic regression (multivariate)**\n",
        "\n",
        "  **Step 3A: Deciding on the input feature/variable (feature selection)**\n",
        "\n",
        "The output feature that the hypothesis will be guessing will be the diagnosis feature from the dataset. However, we need to decide upon the input features for the model. This we have done during the data processing step as part of dropping features through variance and corelation\n",
        "\n",
        "  **Step 3B: Deciding on the output or predicted variable/feature**\n",
        "\n",
        "Obviously, from the dataset we have to determine if the given tumour and its feature makes it malignant (cancerous) or benign (non cancerous). This is abbreviated to M and B in the dataset under **diagnosis** feature.\n",
        "\n",
        "With the input and output features decided, we can visualise the data on a 2D graph:"
      ],
      "metadata": {
        "id": "we5_-NCxPASj"
      }
    },
    {
      "cell_type": "code",
      "source": [
        "plot.scatter(cancer_train['area_mean'], diagnosis_train) # by changing the column name we can see how each feature plots against the predicted diagnosis\n",
        "plot.show()"
      ],
      "metadata": {
        "id": "SJ1hmoTtPBBJ",
        "colab": {
          "base_uri": "https://localhost:8080/",
          "height": 265
        },
        "outputId": "e5f45a08-6264-41a2-d30c-a033e5294855"
      },
      "execution_count": null,
      "outputs": [
        {
          "output_type": "display_data",
          "data": {
            "text/plain": [
              "<Figure size 432x288 with 1 Axes>"
            ],
            "image/png": "[encoded data removed]"
          },
          "metadata": {
            "needs_background": "light"
          }
        }
      ]
    },
    {
      "cell_type": "markdown",
      "source": [
        "**Step 3C: Running gradient descent**\n",
        "\n",
        "\n",
        "> Return an array of ones of any dimension => Use **np.ones()**\n",
        ">\n",
        ">[ https://numpy.org/doc/stable/reference/generated/numpy.ones.html ]\n",
        ">\n",
        "> **arr = np.stack((arr,arr))** => stack arrays from left to right to form a matrix\n",
        ">\n",
        ">[ https://numpy.org/devdocs/reference/generated/numpy.stack.html#numpy.stack ]\n",
        ">\n",
        "> X_r2=cancer_train['radius_mean'].**to_numpy()** => convert a column into a 1D array\n",
        ">\n",
        ">[ https://pandas.pydata.org/docs/reference/api/pandas.DataFrame.to_numpy.html ]\n",
        ">\n",
        "> For matrix multiplication, use **np.dot()** or **np.matmul()**\n",
        ">\n",
        ">[ https://pandas.pydata.org/pandas-docs/stable/reference/api/pandas.DataFrame.dot.html ]\n"
      ],
      "metadata": {
        "id": "dghU3QBZPC22"
      }
    },
    {
      "cell_type": "code",
      "source": [
        "# Maybe more than one run if we get really bad random theta\n",
        "m=len(cancer_train.index)   # number of training sets are there\n",
        "n=cancer_train.shape[1]\n",
        "alpha = 0.01   #learning rate\n",
        "\n",
        "X=np.ones((1,m))\n",
        "for c in cancer_train.columns:\n",
        "  if c == 'id' or c == 'diagnosis':\n",
        "    continue\n",
        "  X_r = cancer_train[c].to_numpy().reshape((1,m))\n",
        "  X=np.concatenate((X,X_r))  #X0 to Xn are here\n",
        "\n",
        "theta = np.random.rand(n+1).reshape((1,n+1))   # theta 0 to theta n are here\n",
        "\n",
        "y = diagnosis_train.to_numpy().reshape((1,m))  # y or the expected output is here\n",
        "\n",
        "cost_list = []\n",
        "cost_list.append(1e10) # starting off with a large value for the cost function. From here we will optimise down to minimum\n",
        "iter = 0 # keeping track of iterations\n",
        "run=True\n",
        "while run:\n",
        "  \n",
        "  iter+=1\n",
        "\n",
        "  # we are calculating 1/1+e^-z where z = theta * X \n",
        "  Z=np.dot(theta,X) \n",
        "  prediction = 1 / (1 + np.exp(-Z))\n",
        "  \n",
        "  # we are calculating the negative log likelihood function <=> cost = np.sum(-(y * np.log(prediction) + (1 - y) * np.log(1 - prediction))) / m\n",
        "  log_pred = np.log(prediction.T)\n",
        "  costTrue=np.dot(y,log_pred)\n",
        "  log_1_pred = np.log(1-prediction.T)\n",
        "  costFalse=np.dot(1-y,log_1_pred)\n",
        "  temp=(costTrue+costFalse)/(-1*m)\n",
        "\n",
        "  cost_list.append(temp[0][0]) # it is a 1x1 matrix that is why we need to access through [0][0]\n",
        "\n",
        "  theta -= alpha * (1/m) * np.matmul((prediction-y),X.T) # simultaneous theta 0 to theta n update \n",
        "  \n",
        "  changeInCost = cost_list[iter-1]-cost_list[iter] # change in cost between every iteration\n",
        "  if changeInCost < 1e-8: # if the change is small enough then we say gradient descent has converged to the minima\n",
        "    run=False # so we break out of the loop\n",
        "\n",
        "dummy=cost_list.pop(0) # removing the large value we appended in the beginning"
      ],
      "metadata": {
        "id": "kD5ysVXrPFQt"
      },
      "execution_count": null,
      "outputs": []
    },
    {
      "cell_type": "code",
      "source": [
        "# plotting the progress of the how gradient descent minimizes the cost function for every iteration\n",
        "plot.title('Cost Function J', size = 30)\n",
        "plot.xlabel('No. of iterations', size=20)\n",
        "plot.ylabel('Cost', size=20)\n",
        "plot.plot(cost_list)\n",
        "plot.show()"
      ],
      "metadata": {
        "id": "38b0LDMdPI0u",
        "colab": {
          "base_uri": "https://localhost:8080/",
          "height": 317
        },
        "outputId": "951d7ecc-2f5f-466d-f75c-d940e02639ba"
      },
      "execution_count": null,
      "outputs": [
        {
          "output_type": "display_data",
          "data": {
            "text/plain": [
              "<Figure size 432x288 with 1 Axes>"
            ],
            "image/png": "[encoded data removed]"
          },
          "metadata": {
            "needs_background": "light"
          }
        }
      ]
    },
    {
      "cell_type": "code",
      "source": [
        "# the trained values of theta's\n",
        "print(theta)\n",
        "print(theta.shape)"
      ],
      "metadata": {
        "colab": {
          "base_uri": "https://localhost:8080/"
        },
        "id": "NinvVw2sT_hp",
        "outputId": "e8537bc1-cf26-4c6b-9e8f-6c5125fd926e"
      },
      "execution_count": null,
      "outputs": [
        {
          "output_type": "stream",
          "name": "stdout",
          "text": [
            "[[-0.30502917  5.76244245  0.52908906 -0.29006608 -0.12087178  1.89558024\n",
            "   1.89724415  1.60441967  0.26202357 -0.593163  ]]\n",
            "(1, 10)\n"
          ]
        }
      ]
    },
    {
      "cell_type": "markdown",
      "source": [
        "**Step 4:Testing/Verifying against test data**"
      ],
      "metadata": {
        "id": "MZKM65qpUlqq"
      }
    },
    {
      "cell_type": "code",
      "source": [
        "test_m = len(cancer_test.index)\n",
        "X=np.ones((1,test_m))\n",
        "for c in cancer_train.columns:\n",
        "  if c == 'id' or c == 'diagnosis': # we are ignoring these columns\n",
        "    continue\n",
        "  X_r = cancer_test[c].to_numpy().reshape((1,test_m))\n",
        "  X=np.concatenate((X,X_r))  #X0 to Xn are here\n",
        "\n",
        "loss=np.matmul(theta,X)\n",
        "loss=1 / (1 + np.exp(-1*(loss))) # this will have the predicted probabilites\n",
        "test_predictions=np.where(loss<0.5,0,1) # this will convert the probabilities into predictions with >=0.5 probability as the threshold of predicting 1"
      ],
      "metadata": {
        "id": "q4dWCKG5PMmb"
      },
      "execution_count": null,
      "outputs": []
    },
    {
      "cell_type": "markdown",
      "source": [
        "**Step 5: Calculating F1 score**"
      ],
      "metadata": {
        "id": "doSYKZikYzf5"
      }
    },
    {
      "cell_type": "code",
      "source": [
        "no_true_1 = 0   # true positives\n",
        "no_false_1 = 0  # false positives\n",
        "no_false_0 = 0  # false negatives\n",
        "for i,j in zip(test_predictions[0],diagnosis_test):\n",
        "  #print(i,\" \",j)\n",
        "  if i==1:\n",
        "    if j==1:\n",
        "      no_true_1+=1;\n",
        "    else:\n",
        "      no_false_1+=1\n",
        "  else:\n",
        "    if j==1:\n",
        "      no_false_0+=1\n",
        "precision = (1.0*no_true_1)/(1.0*(no_true_1+no_false_1))\n",
        "recall = (1.0*no_true_1)/(1.0*(no_true_1+no_false_0))\n",
        "f1 = 2*((precision*recall)/(precision+recall))\n",
        "print(\"true positives=\",no_true_1)\n",
        "print(\"false positives=\",no_false_1)\n",
        "print(\"false negatives= \",no_false_0)\n",
        "print(\"F1 score=\",f1)"
      ],
      "metadata": {
        "colab": {
          "base_uri": "https://localhost:8080/"
        },
        "id": "6s5_UkVeYy3D",
        "outputId": "4da590a6-f114-4758-bf69-b0c0ef9c0548"
      },
      "execution_count": null,
      "outputs": [
        {
          "output_type": "stream",
          "name": "stdout",
          "text": [
            "true positives= 26\n",
            "false positives= 4\n",
            "false negatives=  0\n",
            "F1 score= 0.9285714285714286\n"
          ]
        }
      ]
    },
    {
      "cell_type": "markdown",
      "source": [
        "*Just wanted to note that false negatives are 0 which means we aren't telling a cancer positive person that they don't have cancer lol*"
      ],
      "metadata": {
        "id": "fjdFKLfuU6n-"
      }
    },
    {
      "cell_type": "markdown",
      "source": [
        "**Gaussian Naive Bayes Classifier**"
      ],
      "metadata": {
        "id": "_apYfuC50vkx"
      }
    },
    {
      "cell_type": "markdown",
      "source": [
        "We are recreating the data before we did Z score normalisation. The reason I want to start with this is that I don't want to change any of the mean or variance of the data by doing the normalisation."
      ],
      "metadata": {
        "id": "Ph9ndPVkouus"
      }
    },
    {
      "cell_type": "code",
      "source": [
        "cancer=cancer_backup\n",
        "diagnosis=cancer['diagnosis']\n",
        "cancer_train = cancer.loc[:454].copy(deep=True)\n",
        "diagnosis_train = diagnosis.loc[:454].copy(deep=True)\n",
        "diagnosis_test = diagnosis.loc[455:].copy(deep=True)\n",
        "cancer_test = cancer.loc[455:].copy(deep=True)\n",
        "cancer_train_backup = cancer_train\n",
        "cancer_test_backup = cancer_test\n",
        "cancer_test.drop(\"diagnosis\",axis=1,inplace=True)\n",
        "print(cancer_test.head())"
      ],
      "metadata": {
        "colab": {
          "base_uri": "https://localhost:8080/"
        },
        "id": "KgdjP_h800fo",
        "outputId": "cf3f0950-277a-417d-f866-f3f3b4689487"
      },
      "execution_count": null,
      "outputs": [
        {
          "output_type": "stream",
          "name": "stdout",
          "text": [
            "     area_mean  symmetry_mean  texture_se  concavity_se  texture_worst  \\\n",
            "455      557.2         0.1375       1.924      0.007936          41.61   \n",
            "456      415.1         0.1799       2.426      0.042750          38.81   \n",
            "457      537.9         0.1619       1.350      0.015100          34.23   \n",
            "458      520.2         0.1667       1.232      0.005681          31.88   \n",
            "459      290.9         0.1621       1.687      0.014500          36.92   \n",
            "\n",
            "     smoothness_worst  concavity_worst  symmetry_worst  \\\n",
            "455            0.1172          0.07003          0.2196   \n",
            "456            0.1406          0.29230          0.2884   \n",
            "457            0.1289          0.13900          0.2444   \n",
            "458            0.1218          0.04462          0.2306   \n",
            "459            0.1110          0.07190          0.2321   \n",
            "\n",
            "     fractal_dimension_worst  \n",
            "455                  0.07675  \n",
            "456                  0.07220  \n",
            "457                  0.06788  \n",
            "458                  0.06291  \n",
            "459                  0.07211  \n"
          ]
        }
      ]
    },
    {
      "cell_type": "markdown",
      "source": [
        "So as the bayes formula goes, we are calculating the prior of each class ( 2 classes, benign and malignant) probability here. This is taken for the entire dataset to get a more accurate prediction of the probability."
      ],
      "metadata": {
        "id": "0ghQ4IEqpGHO"
      }
    },
    {
      "cell_type": "code",
      "source": [
        "prior = np.log(cancer.groupby('diagnosis').size().div(len(cancer)))\n",
        "# this means prior = the probability of B(0) and M(1) occuring within our dataset i.e P(h)\n",
        "print(prior)"
      ],
      "metadata": {
        "colab": {
          "base_uri": "https://localhost:8080/"
        },
        "id": "RjOGg3NekRh_",
        "outputId": "7a229c3b-d5f7-40d6-9dd3-840141e740f0"
      },
      "execution_count": null,
      "outputs": [
        {
          "output_type": "stream",
          "name": "stdout",
          "text": [
            "diagnosis\n",
            "0   -0.468242\n",
            "1   -0.983773\n",
            "dtype: float64\n"
          ]
        }
      ]
    },
    {
      "cell_type": "markdown",
      "source": [
        "We then calculate the mean and variance (Mew and Sigma Square) of each feature grouping by the classes in the test part of our dataset. This is the end of \"training\" our model so to speak"
      ],
      "metadata": {
        "id": "efQIewVFpOdB"
      }
    },
    {
      "cell_type": "code",
      "source": [
        "mean_train=cancer_train.groupby(['diagnosis']).mean()\n",
        "variance_train=cancer_train.groupby(['diagnosis']).var()\n",
        "#print(mean_train)\n",
        "#print(variance_train)\n",
        "# we need this to create the gaussian distribution curve"
      ],
      "metadata": {
        "id": "1yTMI3lzHFb1"
      },
      "execution_count": null,
      "outputs": []
    },
    {
      "cell_type": "markdown",
      "source": [
        "We then calculate the log likelihood for the test assuming the gaussian distribution of the data. This is why we \"trained\" the mean and variance, so as to apply in the gaussian equation."
      ],
      "metadata": {
        "id": "4rowInXzpeFD"
      }
    },
    {
      "cell_type": "code",
      "source": [
        "predictions=[]\n",
        "for i in cancer_test.index:\n",
        "  log_li=[0.0,0.0]\n",
        "  for c in cancer_test.columns:\n",
        "    temp = -0.5*(np.log(2*np.pi*variance_train[c]))  - 0.5*((cancer[c][i]-mean_train[c])**2)/variance_train[c]\n",
        "    log_li += temp.to_numpy() #0th index is Benign likelihood and 1st index is Malignant likelihood (both are logged)\n",
        "  if log_li[0]>log_li[1]:\n",
        "    predictions.append(0)\n",
        "  else:\n",
        "    predictions.append(1)"
      ],
      "metadata": {
        "id": "LOvYJewbmtrK"
      },
      "execution_count": 34,
      "outputs": []
    },
    {
      "cell_type": "markdown",
      "source": [
        "We then calculate the F1 score using the following formulas:\n",
        "\n",
        "Precision = true +ve / (true +ve + false +ve)\n",
        "\n",
        "Recall = true +ve / (true +ve + false -ve)\n",
        "\n",
        "F1 score = 2 * { (Precision * Recall)/(Precision + Recall) }"
      ],
      "metadata": {
        "id": "s8Bam9nmp7ST"
      }
    },
    {
      "cell_type": "code",
      "source": [
        "actual = diagnosis_test.to_numpy()\n",
        "no_true_1 = 0   # true positives\n",
        "no_false_1 = 0  # false positives\n",
        "no_false_0 = 0  # false negatives\n",
        "for i,j in zip(predictions,actual):\n",
        "  #print(i,\" \",j)\n",
        "  if i==1:\n",
        "    if j==1:\n",
        "      no_true_1+=1;\n",
        "    else:\n",
        "      no_false_1+=1\n",
        "  else:\n",
        "    if j==1:\n",
        "      no_false_0+=1\n",
        "precision = (1.0*no_true_1)/(1.0*(no_true_1+no_false_1))\n",
        "recall = (1.0*no_true_1)/(1.0*(no_true_1+no_false_0))\n",
        "f1 = 2*((precision*recall)/(precision+recall))\n",
        "print(\"true positives=\",no_true_1)\n",
        "print(\"false positives=\",no_false_1)\n",
        "print(\"false negatives= \",no_false_0)\n",
        "print(\"F1 score=\",f1)"
      ],
      "metadata": {
        "colab": {
          "base_uri": "https://localhost:8080/"
        },
        "id": "b2_8tKWJy4V0",
        "outputId": "2d08f459-e6dd-45e7-d123-38b1550559f4"
      },
      "execution_count": null,
      "outputs": [
        {
          "output_type": "stream",
          "name": "stdout",
          "text": [
            "true positives= 25\n",
            "false positives= 9\n",
            "false negatives=  1\n",
            "F1 score= 0.8333333333333333\n"
          ]
        }
      ]
    },
    {
      "cell_type": "markdown",
      "source": [
        "Finally, it was mentioned to investigate why we need gaussian naive bayes. I tried to run regular vanilla naive bayes but soon realised that every value in every feature ends up being a class of value. This is a huge problem with datasets like breast cancer where almost all features behave like contious values and also means that we will most likely get values who will not be present in the posterior probability as well.\n",
        "\n",
        "Hence we go for gaussian which allows us to treat the features as a continous distribution and calculate likelihood based on the gaussian curve."
      ],
      "metadata": {
        "id": "s5AivdMTqc0L"
      }
    }
  ]
}